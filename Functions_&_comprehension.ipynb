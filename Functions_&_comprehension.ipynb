{
  "nbformat": 4,
  "nbformat_minor": 0,
  "metadata": {
    "colab": {
      "provenance": [],
      "authorship_tag": "ABX9TyN0nXxYn7oA+S2VrSyyLwVd",
      "include_colab_link": true
    },
    "kernelspec": {
      "name": "python3",
      "display_name": "Python 3"
    },
    "language_info": {
      "name": "python"
    }
  },
  "cells": [
    {
      "cell_type": "markdown",
      "metadata": {
        "id": "view-in-github",
        "colab_type": "text"
      },
      "source": [
        "<a href=\"https://colab.research.google.com/github/vishnudatt18/PYTHON-ASSIGNMENT/blob/main/Functions_%26_comprehension.ipynb\" target=\"_parent\"><img src=\"https://colab.research.google.com/assets/colab-badge.svg\" alt=\"Open In Colab\"/></a>"
      ]
    },
    {
      "cell_type": "code",
      "execution_count": null,
      "metadata": {
        "colab": {
          "base_uri": "https://localhost:8080/"
        },
        "id": "7xqdP-6OWWbe",
        "outputId": "a5371410-a9b7-49cf-e2f5-6dbc917c0f4c"
      },
      "outputs": [
        {
          "output_type": "stream",
          "name": "stdout",
          "text": [
            "Hello, Good Morning vaasu!\n"
          ]
        }
      ],
      "source": [
        "# Topic 1 — Functions (def) & Lambda Functions\n",
        "# Part A — Basic Function Concepts (Single Return Values)\n",
        "# 1.\tWrite a function wish(name) that returns \"Hello, Good Morning <name>!\".\n",
        "\n",
        "def wish(n):\n",
        "    print(f\"Hello, Good Morning {n}!\")\n",
        "wish('vaasu')"
      ]
    },
    {
      "cell_type": "code",
      "source": [
        "# 2.\tWrite a function cube(n) that returns the cube of a number (n³).\n",
        "def cube(n):\n",
        "    return n**3\n",
        "cube(3)"
      ],
      "metadata": {
        "colab": {
          "base_uri": "https://localhost:8080/"
        },
        "id": "b7GOiHlvWso0",
        "outputId": "c92b221c-ec97-4c67-e213-1bb54ac24a96"
      },
      "execution_count": null,
      "outputs": [
        {
          "output_type": "execute_result",
          "data": {
            "text/plain": [
              "27"
            ]
          },
          "metadata": {},
          "execution_count": 7
        }
      ]
    },
    {
      "cell_type": "code",
      "source": [
        "# 3.\tWrite a function check_even(n) that returns True if the number is even, else False.\n",
        "def check_even(n):\n",
        "    if n%2==0:\n",
        "        return True\n",
        "    else:\n",
        "        return False\n",
        "check_even(3)"
      ],
      "metadata": {
        "colab": {
          "base_uri": "https://localhost:8080/"
        },
        "id": "0P_No-D9WzIP",
        "outputId": "82c93093-f171-4802-8e76-767ae6bbbf65"
      },
      "execution_count": null,
      "outputs": [
        {
          "output_type": "execute_result",
          "data": {
            "text/plain": [
              "False"
            ]
          },
          "metadata": {},
          "execution_count": 8
        }
      ]
    },
    {
      "cell_type": "code",
      "source": [
        "# 4.\tWrite a function greatest_of_two(a, b) that returns the larger of two numbers.\n",
        "def greatest_of_two(a,b):\n",
        "    if a>b:\n",
        "        return a\n",
        "    else:\n",
        "        return b\n",
        "greatest_of_two(3,4)"
      ],
      "metadata": {
        "colab": {
          "base_uri": "https://localhost:8080/"
        },
        "id": "vwhz1c-SW0_c",
        "outputId": "0540321a-4733-43a6-c3b3-a8c5569d881e"
      },
      "execution_count": null,
      "outputs": [
        {
          "output_type": "execute_result",
          "data": {
            "text/plain": [
              "4"
            ]
          },
          "metadata": {},
          "execution_count": 9
        }
      ]
    },
    {
      "cell_type": "code",
      "source": [
        "# 5.\tWrite a function count_letters(s) that returns the number of characters in a string.\n",
        "def count_letters(s):\n",
        "    return len(s)\n",
        "count_letters('vaasu')"
      ],
      "metadata": {
        "colab": {
          "base_uri": "https://localhost:8080/"
        },
        "id": "ZOFo-GnRW2qe",
        "outputId": "48a62764-e907-4017-96d0-47d20e1c136b"
      },
      "execution_count": null,
      "outputs": [
        {
          "output_type": "execute_result",
          "data": {
            "text/plain": [
              "5"
            ]
          },
          "metadata": {},
          "execution_count": 10
        }
      ]
    },
    {
      "cell_type": "code",
      "source": [
        "# 6.\tWrite a function power(value, exp=2) that returns the number raised to the power exp. (Default exponent = 2)\n",
        "def power(value, exp=2):\n",
        "    return value**exp\n",
        "power(5)"
      ],
      "metadata": {
        "colab": {
          "base_uri": "https://localhost:8080/"
        },
        "id": "h4U-uWu4W4Oo",
        "outputId": "8e21df72-dd35-407c-9131-8cf5fcf5c66e"
      },
      "execution_count": null,
      "outputs": [
        {
          "output_type": "execute_result",
          "data": {
            "text/plain": [
              "25"
            ]
          },
          "metadata": {},
          "execution_count": 11
        }
      ]
    },
    {
      "cell_type": "code",
      "source": [
        "# Part B — Returning Multiple Values\n",
        "# 7.\tWrite a function swap(a, b) that returns the two values swapped as a tuple.\n",
        "def swap(a,b):\n",
        "    return b,a\n",
        "swap(1,2)\n"
      ],
      "metadata": {
        "colab": {
          "base_uri": "https://localhost:8080/"
        },
        "id": "0nZ2bN0uW6In",
        "outputId": "04d0652d-8d67-48d3-9629-081171f9267d"
      },
      "execution_count": null,
      "outputs": [
        {
          "output_type": "execute_result",
          "data": {
            "text/plain": [
              "(2, 1)"
            ]
          },
          "metadata": {},
          "execution_count": 12
        }
      ]
    },
    {
      "cell_type": "code",
      "source": [
        "# 8.\tWrite a function add_sub(a, b) that returns both sum and difference of two numbers.\n",
        "def add_sub(a,b):\n",
        "    return a+b,a-b\n",
        "add_sub(1,2)\n"
      ],
      "metadata": {
        "colab": {
          "base_uri": "https://localhost:8080/"
        },
        "id": "Tw2pYllTXgAT",
        "outputId": "04d00558-8a47-4c3c-94cf-779a2ae1ec7e"
      },
      "execution_count": null,
      "outputs": [
        {
          "output_type": "execute_result",
          "data": {
            "text/plain": [
              "(3, -1)"
            ]
          },
          "metadata": {},
          "execution_count": 13
        }
      ]
    },
    {
      "cell_type": "code",
      "source": [
        "# 9.\tWrite a function circle_stats(radius) that returns the area and circumference as a tuple.\n",
        "import math\n",
        "def circle_stats(radius):\n",
        "    return math.pi*radius**2,2*math.pi*radius\n",
        "circle_stats(2)"
      ],
      "metadata": {
        "colab": {
          "base_uri": "https://localhost:8080/"
        },
        "id": "We69MD5BZJA1",
        "outputId": "5a127b17-1886-4486-ce67-8ef64e5ff619"
      },
      "execution_count": null,
      "outputs": [
        {
          "output_type": "execute_result",
          "data": {
            "text/plain": [
              "(12.566370614359172, 12.566370614359172)"
            ]
          },
          "metadata": {},
          "execution_count": 14
        }
      ]
    },
    {
      "cell_type": "code",
      "source": [
        "# 10.\tWrite a function min_max_sum(nums) that returns the minimum, maximum, and sum of a list.\n",
        "def min_max_sum(nums):\n",
        "    return min(nums),max(nums),sum(nums)\n",
        "min_max_sum([1,2,3])"
      ],
      "metadata": {
        "colab": {
          "base_uri": "https://localhost:8080/"
        },
        "id": "RLSLbfiBZMvn",
        "outputId": "2001732d-878c-460b-c547-ea5a11575d83"
      },
      "execution_count": null,
      "outputs": [
        {
          "output_type": "execute_result",
          "data": {
            "text/plain": [
              "(1, 3, 6)"
            ]
          },
          "metadata": {},
          "execution_count": 15
        }
      ]
    },
    {
      "cell_type": "code",
      "source": [
        "#  Part C — Working with Strings & Formatting\n",
        "# 11.\tWrite a function concat(*parts) that joins multiple strings together with spaces.\n",
        "def concat(*parts):\n",
        "    return ' '.join(parts)\n",
        "concat('vaasu','is','a','mystic','boy')\n",
        "\n"
      ],
      "metadata": {
        "colab": {
          "base_uri": "https://localhost:8080/",
          "height": 36
        },
        "id": "6BirkV0yZXfP",
        "outputId": "aeeaf532-4758-4638-b166-999382c1239a"
      },
      "execution_count": null,
      "outputs": [
        {
          "output_type": "execute_result",
          "data": {
            "text/plain": [
              "'vaasu is a mystic boy'"
            ],
            "application/vnd.google.colaboratory.intrinsic+json": {
              "type": "string"
            }
          },
          "metadata": {},
          "execution_count": 16
        }
      ]
    },
    {
      "cell_type": "code",
      "source": [
        "# 12.\tWrite a function format_name(first, last=\"\") that returns \"Last, First\" if last name is provided, else \"First\".\n",
        "def format_name(first, last=\"\"):\n",
        "      return last + \", \" + first if last else first\n",
        "format_name(\"Vaasu\", last='dutt')"
      ],
      "metadata": {
        "colab": {
          "base_uri": "https://localhost:8080/",
          "height": 36
        },
        "id": "fpgTga4dZXiA",
        "outputId": "474a6082-c795-41c7-e521-b73002efb3f1"
      },
      "execution_count": null,
      "outputs": [
        {
          "output_type": "execute_result",
          "data": {
            "text/plain": [
              "'dutt, Vaasu'"
            ],
            "application/vnd.google.colaboratory.intrinsic+json": {
              "type": "string"
            }
          },
          "metadata": {},
          "execution_count": 19
        }
      ]
    },
    {
      "cell_type": "code",
      "source": [
        "# 13.\tWrite a function greet_user(first, last) that returns a message like \"Welcome, First Last!\".\n",
        "def greet_user(first, last):\n",
        "    return f\"Welcome, {first} {last}!\"\n",
        "greet_user(\"Vaasu\",\"Dutt\")"
      ],
      "metadata": {
        "colab": {
          "base_uri": "https://localhost:8080/",
          "height": 36
        },
        "id": "lTurfSEoZXkw",
        "outputId": "c5487dad-4a3f-4db1-b6ec-a5ca9e705eb1"
      },
      "execution_count": null,
      "outputs": [
        {
          "output_type": "execute_result",
          "data": {
            "text/plain": [
              "'Welcome, Vaasu Dutt!'"
            ],
            "application/vnd.google.colaboratory.intrinsic+json": {
              "type": "string"
            }
          },
          "metadata": {},
          "execution_count": 20
        }
      ]
    },
    {
      "cell_type": "code",
      "source": [
        "# Part D — Lambda Functions\n",
        "# 14.\tWrite a lambda function to add two numbers.\n",
        "x = lambda a,b: a+b\n",
        "add = x(5,6)\n",
        "print(add)"
      ],
      "metadata": {
        "colab": {
          "base_uri": "https://localhost:8080/"
        },
        "id": "rqnXXculZXm0",
        "outputId": "975015d8-a9fa-49a9-a209-e8eff82faa69"
      },
      "execution_count": null,
      "outputs": [
        {
          "output_type": "stream",
          "name": "stdout",
          "text": [
            "11\n"
          ]
        }
      ]
    },
    {
      "cell_type": "code",
      "source": [
        "# 15.\tWrite a lambda function mult = lambda *args: that returns the product of all arguments.\n",
        "from functools import reduce\n",
        "\n",
        "mult = lambda *args: reduce(lambda x, y: x * y, args)\n",
        "\n",
        "mult(1,2,3)"
      ],
      "metadata": {
        "colab": {
          "base_uri": "https://localhost:8080/"
        },
        "id": "5JtZuNxpZXpV",
        "outputId": "ff618fdc-dd3d-4223-ea32-4e93832af0da"
      },
      "execution_count": null,
      "outputs": [
        {
          "output_type": "execute_result",
          "data": {
            "text/plain": [
              "6"
            ]
          },
          "metadata": {},
          "execution_count": 27
        }
      ]
    },
    {
      "cell_type": "code",
      "source": [
        "# 16.   Write a one-line lambda expression to flatten a list of pairs like [(a,b), (c,d)] into [a, b, c, d].\n",
        "pp = lambda x: [j for i in x for j in i]\n",
        "pp([('a', 'b'), ('c', 'd')])"
      ],
      "metadata": {
        "colab": {
          "base_uri": "https://localhost:8080/"
        },
        "id": "rIEkklJLZXsp",
        "outputId": "e7969bc6-eff0-4378-b843-23a6ea4e670c"
      },
      "execution_count": null,
      "outputs": [
        {
          "output_type": "execute_result",
          "data": {
            "text/plain": [
              "['a', 'b', 'c', 'd']"
            ]
          },
          "metadata": {},
          "execution_count": 29
        }
      ]
    },
    {
      "cell_type": "code",
      "source": [
        "# Part E — Recursive, Higher-Order & Inner Functions\n",
        "# 17.\tWrite a recursive function factorial(n) that returns the factorial of a number.\n",
        "def factorial(n):\n",
        "    if n == 0:\n",
        "        return 1\n",
        "    else:\n",
        "        return n * factorial(n-1)\n",
        "factorial(5)"
      ],
      "metadata": {
        "colab": {
          "base_uri": "https://localhost:8080/"
        },
        "id": "ji11xVOoZX1A",
        "outputId": "820d3f4e-ac3c-4065-c5d3-465c4f1664e6"
      },
      "execution_count": null,
      "outputs": [
        {
          "output_type": "execute_result",
          "data": {
            "text/plain": [
              "120"
            ]
          },
          "metadata": {},
          "execution_count": 35
        }
      ]
    },
    {
      "cell_type": "code",
      "source": [
        "# 18.\tWrite a function apply_twice(func, x) that applies a function twice → func(func(x)).\n",
        "def apply_twice(func, x):\n",
        "    return func(func(x))\n",
        "apply_twice(lambda x: x**2, 3)"
      ],
      "metadata": {
        "colab": {
          "base_uri": "https://localhost:8080/"
        },
        "id": "-SzRL05FZX64",
        "outputId": "4d4ab00d-ad09-4265-a5b0-cdfac867cd70"
      },
      "execution_count": null,
      "outputs": [
        {
          "output_type": "execute_result",
          "data": {
            "text/plain": [
              "81"
            ]
          },
          "metadata": {},
          "execution_count": 36
        }
      ]
    },
    {
      "cell_type": "code",
      "source": [
        "# 19.\tWrite a function inner_demo() that defines and calls an inner function inside it.\n",
        "def inner_demo():\n",
        "    def inner():\n",
        "        print(\"This is an inner function\")\n",
        "    inner()\n",
        "inner_demo()"
      ],
      "metadata": {
        "colab": {
          "base_uri": "https://localhost:8080/"
        },
        "id": "nygC4BUTZX-N",
        "outputId": "6f44c94b-bc3f-42b4-e617-95d17846828d"
      },
      "execution_count": null,
      "outputs": [
        {
          "output_type": "stream",
          "name": "stdout",
          "text": [
            "This is an inner function\n"
          ]
        }
      ]
    },
    {
      "cell_type": "code",
      "source": [
        "# 20.\tWrite a function call_function(func, value) that takes another function as a parameter and applies it.\n",
        "def call_function(func, value):\n",
        "    return func(value)\n",
        "call_function(lambda x: x**2, 3)"
      ],
      "metadata": {
        "colab": {
          "base_uri": "https://localhost:8080/"
        },
        "id": "EdzZs20nZYBR",
        "outputId": "432a656c-a73f-4033-85ca-325adc7e1a40"
      },
      "execution_count": null,
      "outputs": [
        {
          "output_type": "execute_result",
          "data": {
            "text/plain": [
              "9"
            ]
          },
          "metadata": {},
          "execution_count": 38
        }
      ]
    },
    {
      "cell_type": "code",
      "source": [
        "# 21.\tWrite a function square_list(nums) that defines a helper function square(x) inside it and returns a list of squares.\n",
        "def square_list(nums):\n",
        "    def square(x):\n",
        "        return x**2\n",
        "    return [square(num) for num in nums]\n",
        "square_list([1,2,3])"
      ],
      "metadata": {
        "colab": {
          "base_uri": "https://localhost:8080/"
        },
        "id": "1O88Y3qFhnGQ",
        "outputId": "9dfb9fcf-8af4-49f6-8bea-bd62587e6400"
      },
      "execution_count": null,
      "outputs": [
        {
          "output_type": "execute_result",
          "data": {
            "text/plain": [
              "[1, 4, 9]"
            ]
          },
          "metadata": {},
          "execution_count": 39
        }
      ]
    },
    {
      "cell_type": "code",
      "source": [
        "# Part F — Intermediate Function Concepts\n",
        "# 22.\tWrite a function make_multiplier(m) that returns a new function which multiplies input values by m.\n",
        "def make_multiplier(m):\n",
        "    return lambda x: x * m\n",
        "multiplier = make_multiplier(3)\n",
        "multiplier(10)"
      ],
      "metadata": {
        "colab": {
          "base_uri": "https://localhost:8080/"
        },
        "id": "TU4Zs3dlhnIs",
        "outputId": "4dcd36b9-610c-4318-a5af-70f5e571ebe0"
      },
      "execution_count": null,
      "outputs": [
        {
          "output_type": "execute_result",
          "data": {
            "text/plain": [
              "30"
            ]
          },
          "metadata": {},
          "execution_count": 41
        }
      ]
    },
    {
      "cell_type": "code",
      "source": [
        "# 23.\tWrite a function filter_primes(nums) that filters prime numbers using a helper is_prime() function.\n",
        "def is_prime(n):\n",
        "    if n < 2:\n",
        "        return False\n",
        "    for i in range(2, n):\n",
        "        if n % i == 0:\n",
        "            return False\n",
        "    return True\n",
        "is_prime(5)"
      ],
      "metadata": {
        "colab": {
          "base_uri": "https://localhost:8080/"
        },
        "id": "kBPd85PyhnLH",
        "outputId": "3999659f-ebe6-4bc5-fbd9-de8c105c6601"
      },
      "execution_count": null,
      "outputs": [
        {
          "output_type": "execute_result",
          "data": {
            "text/plain": [
              "True"
            ]
          },
          "metadata": {},
          "execution_count": 44
        }
      ]
    },
    {
      "cell_type": "code",
      "source": [
        "# 24.\tWrite a function convert_to_fahrenheit(celsius_list) using map and a lambda.\n",
        "# Formula: F = C * 9/5 + 32\n",
        "def convert_to_fahrenheit(celsius_list):\n",
        "    return list(map(lambda x: x * 9/5 + 32, celsius_list))\n",
        "convert_to_fahrenheit([0, 10, 20, 30])"
      ],
      "metadata": {
        "colab": {
          "base_uri": "https://localhost:8080/"
        },
        "id": "EQg7E0CchnNk",
        "outputId": "63db37ed-874d-4cf2-a69d-981f22d84a19"
      },
      "execution_count": null,
      "outputs": [
        {
          "output_type": "execute_result",
          "data": {
            "text/plain": [
              "[32.0, 50.0, 68.0, 86.0]"
            ]
          },
          "metadata": {},
          "execution_count": 46
        }
      ]
    },
    {
      "cell_type": "code",
      "source": [
        "# 25.\tWrite a function apply_if(func, predicate, iterable) that applies a function only to items that pass a condition.\n",
        "def apply_if(func, predicate, iterable):\n",
        "    return [func(item) for item in iterable if predicate(item)]"
      ],
      "metadata": {
        "id": "64Wo2CLKiyFJ"
      },
      "execution_count": null,
      "outputs": []
    },
    {
      "cell_type": "code",
      "source": [
        "# 27.\tWrite a function variadic_sum(*args, **kwargs) that sums all positional arguments and multiplies by a scale factor if provided.\n",
        "def variadic_sum(*args, **kwargs):\n",
        "    total = sum(args)\n",
        "    scale = kwargs.get('scale', 1)\n",
        "    return total * scale\n",
        "variadic_sum(1, 2, 3, scale=2)"
      ],
      "metadata": {
        "colab": {
          "base_uri": "https://localhost:8080/"
        },
        "id": "HzqsN3H9iyRD",
        "outputId": "074b7fd0-43a4-4da6-9ea4-d0aa49d71c37"
      },
      "execution_count": null,
      "outputs": [
        {
          "output_type": "execute_result",
          "data": {
            "text/plain": [
              "12"
            ]
          },
          "metadata": {},
          "execution_count": 2
        }
      ]
    },
    {
      "cell_type": "code",
      "source": [
        "# 28.\tWrite a function sort_by_length(strings) that sorts a list of strings by their length using a lambda as key.\n",
        "def sort_by_length(strings):\n",
        "    return sorted(strings, key=lambda x: len(x))\n",
        "sort_by_length(['apple', 'banana', 'cherrys'])"
      ],
      "metadata": {
        "colab": {
          "base_uri": "https://localhost:8080/"
        },
        "id": "c2esEabFiyZo",
        "outputId": "1a1c9cd2-7c66-4701-8a15-67c84cded0a6"
      },
      "execution_count": null,
      "outputs": [
        {
          "output_type": "execute_result",
          "data": {
            "text/plain": [
              "['apple', 'banana', 'cherrys']"
            ]
          },
          "metadata": {},
          "execution_count": 48
        }
      ]
    },
    {
      "cell_type": "code",
      "source": [
        "# Topic 2 — List Comprehensions\n",
        "# Part A — Basic Comprehension Practice\n",
        "# 29.   Create [1,2,3,4] → list of their squares.\n",
        "[x**2 for x in [1,2,3,4]]"
      ],
      "metadata": {
        "colab": {
          "base_uri": "https://localhost:8080/"
        },
        "id": "TPzpKaqFiyeu",
        "outputId": "9ae87508-f414-4f72-ba34-f3cf01f2a29d"
      },
      "execution_count": null,
      "outputs": [
        {
          "output_type": "execute_result",
          "data": {
            "text/plain": [
              "[1, 4, 9, 16]"
            ]
          },
          "metadata": {},
          "execution_count": 50
        }
      ]
    },
    {
      "cell_type": "code",
      "source": [
        "# 30.   Create ['a','b','c'] → list of their uppercase versions.\n",
        "[x.upper() for x in ['a','b','c']]"
      ],
      "metadata": {
        "colab": {
          "base_uri": "https://localhost:8080/"
        },
        "id": "CSP5OrwmmxRm",
        "outputId": "f7c80256-00de-427c-cac7-b04857c0353b"
      },
      "execution_count": null,
      "outputs": [
        {
          "output_type": "execute_result",
          "data": {
            "text/plain": [
              "['A', 'B', 'C']"
            ]
          },
          "metadata": {},
          "execution_count": 52
        }
      ]
    },
    {
      "cell_type": "code",
      "source": [
        "# 31.\tMake a list of even numbers from 1 to 20.\n",
        "[x for x in range(1,21) if x%2==0]"
      ],
      "metadata": {
        "colab": {
          "base_uri": "https://localhost:8080/"
        },
        "id": "cblErni0mxUf",
        "outputId": "3a34e729-8de0-426b-e188-7ee70b9b9813"
      },
      "execution_count": null,
      "outputs": [
        {
          "output_type": "execute_result",
          "data": {
            "text/plain": [
              "[2, 4, 6, 8, 10, 12, 14, 16, 18, 20]"
            ]
          },
          "metadata": {},
          "execution_count": 53
        }
      ]
    },
    {
      "cell_type": "code",
      "source": [
        "# 32.\tGiven words = ['apple', 'bee', 'cat'], create [(word, len(word)) for word in words].\n",
        "words = ['apple', 'bee', 'cat']\n",
        "[(word, len(word)) for word in words]"
      ],
      "metadata": {
        "colab": {
          "base_uri": "https://localhost:8080/"
        },
        "id": "XZfPF_ltmxXF",
        "outputId": "63766f7d-c0ba-4679-cb98-ecac70655365"
      },
      "execution_count": null,
      "outputs": [
        {
          "output_type": "execute_result",
          "data": {
            "text/plain": [
              "[('apple', 5), ('bee', 3), ('cat', 3)]"
            ]
          },
          "metadata": {},
          "execution_count": 54
        }
      ]
    },
    {
      "cell_type": "code",
      "source": [
        "# 33.\tFlatten [[1,2], [3,4], [5]] → [1,2,3,4,5].\n",
        "x = [[1,2], [3,4], [5]]\n",
        "[j for i in x for j in i]"
      ],
      "metadata": {
        "colab": {
          "base_uri": "https://localhost:8080/"
        },
        "id": "7Epufl9gmxZg",
        "outputId": "5daa0998-ca3e-4a22-af00-16c405219a79"
      },
      "execution_count": null,
      "outputs": [
        {
          "output_type": "execute_result",
          "data": {
            "text/plain": [
              "[1, 2, 3, 4, 5]"
            ]
          },
          "metadata": {},
          "execution_count": 56
        }
      ]
    },
    {
      "cell_type": "code",
      "source": [
        "# 34.\tFrom nums = [0,1,2,3], create a list of 'even' or 'odd' strings.\n",
        "nums = [0, 1, 2, 3]\n",
        "result = [\"even\" if n % 2 == 0 else \"odd\" for n in nums]\n",
        "print(result)\n"
      ],
      "metadata": {
        "colab": {
          "base_uri": "https://localhost:8080/"
        },
        "id": "hA_xf0wnmxby",
        "outputId": "4ccb009b-c541-4706-fb69-4df10ea4a89c"
      },
      "execution_count": null,
      "outputs": [
        {
          "output_type": "stream",
          "name": "stdout",
          "text": [
            "['even', 'odd', 'even', 'odd']\n"
          ]
        }
      ]
    },
    {
      "cell_type": "code",
      "source": [
        "# 35.\tUsing a comprehension, make a list of booleans showing if numbers in a list are prime (use helper function).\n",
        "def is_prime(n):\n",
        "    if n < 2:\n",
        "        return False\n",
        "    for i in range(2, n):\n",
        "        if n % i == 0:\n",
        "            return False\n",
        "    return True\n",
        "nums = [0, 1, 2, 3, 4, 5, 6, 7, 8, 9, 10]\n",
        "prime_flags = [is_prime(n) for n in nums]\n",
        "print(prime_flags)\n"
      ],
      "metadata": {
        "colab": {
          "base_uri": "https://localhost:8080/"
        },
        "id": "DsZ3SMxQmxd4",
        "outputId": "ac6491d4-f54d-4519-d07b-9706e53aff84"
      },
      "execution_count": null,
      "outputs": [
        {
          "output_type": "stream",
          "name": "stdout",
          "text": [
            "[False, False, True, True, False, True, False, True, False, False, False]\n"
          ]
        }
      ]
    },
    {
      "cell_type": "code",
      "source": [
        "# 36.\tFrom range(1,50), select numbers divisible by both 2 and 3.\n",
        "[i for i in range(1,51) if (i % 2 == 0 and i%3 == 0)]"
      ],
      "metadata": {
        "colab": {
          "base_uri": "https://localhost:8080/"
        },
        "id": "g4PGYxhJmxgF",
        "outputId": "cf1a0750-90cd-4c54-a536-40e12cbd48c3"
      },
      "execution_count": null,
      "outputs": [
        {
          "output_type": "execute_result",
          "data": {
            "text/plain": [
              "[6, 12, 18, 24, 30, 36, 42, 48]"
            ]
          },
          "metadata": {},
          "execution_count": 62
        }
      ]
    },
    {
      "cell_type": "code",
      "source": [
        "# 37.   Create coordinate pairs (i, j) where i and j go from 0 to 2.\n",
        "coords = [(i, j) for i in range(3) for j in range(3)]\n",
        "print(coords)\n",
        "\n",
        "for row in coords:\n",
        "    print(row)"
      ],
      "metadata": {
        "colab": {
          "base_uri": "https://localhost:8080/"
        },
        "id": "7B5CV8wMmxk6",
        "outputId": "997b56e2-6898-4402-a000-ae86e674b0d9"
      },
      "execution_count": 4,
      "outputs": [
        {
          "output_type": "stream",
          "name": "stdout",
          "text": [
            "[(0, 0), (0, 1), (0, 2), (1, 0), (1, 1), (1, 2), (2, 0), (2, 1), (2, 2)]\n",
            "(0, 0)\n",
            "(0, 1)\n",
            "(0, 2)\n",
            "(1, 0)\n",
            "(1, 1)\n",
            "(1, 2)\n",
            "(2, 0)\n",
            "(2, 1)\n",
            "(2, 2)\n"
          ]
        }
      ]
    },
    {
      "cell_type": "markdown",
      "source": [
        "Explanation:\n",
        "\n",
        "The first for i in range(3) → loops i over [0, 1, 2]\n",
        "\n",
        "The second for j in range(3) → loops j over [0, 1, 2] for each i\n",
        "\n",
        "Each pair (i, j) is added to the list → giving all coordinate combinations."
      ],
      "metadata": {
        "id": "hxygeL8uuJNB"
      }
    },
    {
      "cell_type": "code",
      "source": [
        "# 38.\tFrom ['a b','c d e'], produce a flat list of all words.\n",
        "words = ['a b', 'c d e']\n",
        "flat_list = [j for i in words for j in i.split()]\n",
        "print(flat_list)"
      ],
      "metadata": {
        "colab": {
          "base_uri": "https://localhost:8080/"
        },
        "id": "o_mKL9hpm_JD",
        "outputId": "5f978b92-7b30-420e-ccee-d135c72f0aeb"
      },
      "execution_count": null,
      "outputs": [
        {
          "output_type": "stream",
          "name": "stdout",
          "text": [
            "['a', 'b', 'c', 'd', 'e']\n"
          ]
        }
      ]
    },
    {
      "cell_type": "code",
      "source": [
        "# Part B — Using Lists of Dictionaries\n",
        "# 39.\tGiven students = [{'name':'A','score':80}, {'name':'B','score':60}], Create a list of names of students with score ≥ 75.\n",
        "students = [{'name':'A','score':80}, {'name':'B','score':60}]\n",
        "[student['name'] for student in students if student['score'] >= 75]"
      ],
      "metadata": {
        "colab": {
          "base_uri": "https://localhost:8080/"
        },
        "id": "krmOiiiGm_Of",
        "outputId": "f4c6fd7a-e98a-4939-fd15-6efbf6d81960"
      },
      "execution_count": null,
      "outputs": [
        {
          "output_type": "execute_result",
          "data": {
            "text/plain": [
              "['A']"
            ]
          },
          "metadata": {},
          "execution_count": 3
        }
      ]
    },
    {
      "cell_type": "code",
      "source": [
        "# 40.\tBuild a list of dictionaries like {'n': n, 'square': n*n} for numbers 1 to 10.\n",
        "[{ 'n': n, 'square': n*n} for n in range(1, 11)]"
      ],
      "metadata": {
        "colab": {
          "base_uri": "https://localhost:8080/"
        },
        "id": "HbuBZ5vfu1VJ",
        "outputId": "3d75bc20-a938-41d3-d013-e5a1a30384e3"
      },
      "execution_count": null,
      "outputs": [
        {
          "output_type": "execute_result",
          "data": {
            "text/plain": [
              "[{'n': 1, 'square': 1},\n",
              " {'n': 2, 'square': 4},\n",
              " {'n': 3, 'square': 9},\n",
              " {'n': 4, 'square': 16},\n",
              " {'n': 5, 'square': 25},\n",
              " {'n': 6, 'square': 36},\n",
              " {'n': 7, 'square': 49},\n",
              " {'n': 8, 'square': 64},\n",
              " {'n': 9, 'square': 81},\n",
              " {'n': 10, 'square': 100}]"
            ]
          },
          "metadata": {},
          "execution_count": 4
        }
      ]
    },
    {
      "cell_type": "code",
      "source": [
        "# 41.\tMerge two lists element-wise into tuples, but include only pairs where both elements are truthy.\n",
        "list1 = [1, 2, 3, 4]\n",
        "list2 = ['a', 'b', 'c', 'd']\n",
        "result = [(list1[i], list2[i]) for i in range(min(len(list1), len(list2))) if list1[i] and list2[i]]\n",
        "print(result)"
      ],
      "metadata": {
        "colab": {
          "base_uri": "https://localhost:8080/"
        },
        "id": "N9HQDpfZu1Xe",
        "outputId": "42e2fac4-4a5d-403b-cc15-41328b87aaa5"
      },
      "execution_count": null,
      "outputs": [
        {
          "output_type": "stream",
          "name": "stdout",
          "text": [
            "[(1, 'a'), (2, 'b'), (3, 'c'), (4, 'd')]\n"
          ]
        }
      ]
    },
    {
      "cell_type": "code",
      "source": [
        "# 42.\tCreate a comprehension to transpose a matrix (swap rows ↔ columns).\n",
        "matrix = [[1, 2, 3], [4, 5, 6], [7, 8, 9]]\n",
        "transposed = [[row[i] for row in matrix] for i in range(len(matrix[0]))]\n",
        "print(transposed)"
      ],
      "metadata": {
        "colab": {
          "base_uri": "https://localhost:8080/"
        },
        "id": "s5XYfbuWu1Z1",
        "outputId": "08348571-b7d5-4a09-8f65-eeb85aa24a22"
      },
      "execution_count": null,
      "outputs": [
        {
          "output_type": "stream",
          "name": "stdout",
          "text": [
            "[[1, 4, 7], [2, 5, 8], [3, 6, 9]]\n"
          ]
        }
      ]
    },
    {
      "cell_type": "code",
      "source": [
        "# PyPart C — Advanced Comprehensions\n",
        "# 43.\tFlatten a 3-level nested list [[[1,2],[3]],[[4]]] into a single flat list.\n",
        "nested_list = [[[1,2],[3]],[[4]]]\n",
        "\n",
        "[k for i in nested_list for j in i for k in j]"
      ],
      "metadata": {
        "colab": {
          "base_uri": "https://localhost:8080/"
        },
        "id": "WR2IsvfZu1cp",
        "outputId": "3bd36812-4bd2-4b16-fc73-70744374b516"
      },
      "execution_count": null,
      "outputs": [
        {
          "output_type": "execute_result",
          "data": {
            "text/plain": [
              "[1, 2, 3, 4]"
            ]
          },
          "metadata": {},
          "execution_count": 7
        }
      ]
    },
    {
      "cell_type": "code",
      "source": [
        "# 44.\tWrite a comprehension that keeps only unique items from a list while preserving order.\n",
        "\n",
        "data = [1, 2, 2, 3, 1, 4, 3]\n",
        "unique = []\n",
        "result = [x for x in data if not (x in unique or unique.append(x))]\n",
        "print(result)\n"
      ],
      "metadata": {
        "colab": {
          "base_uri": "https://localhost:8080/"
        },
        "id": "X4ow93Oxu1em",
        "outputId": "4aefbaae-e16c-4f7b-8d06-5cdcf4274c40"
      },
      "execution_count": null,
      "outputs": [
        {
          "output_type": "stream",
          "name": "stdout",
          "text": [
            "[1, 2, 3, 4]\n"
          ]
        }
      ]
    },
    {
      "cell_type": "markdown",
      "source": [
        "**Explanation:**\n",
        "\n",
        "unique = [] → keeps track of seen elements.\n",
        "\n",
        "x in unique → checks if the element has appeared before.\n",
        "\n",
        "unique.append(x) → adds the element if it’s new.\n",
        "\n",
        "The trick if not (x in unique or unique.append(x)):\n",
        "\n",
        "Checks both conditions in one line.\n",
        "\n",
        "If x is not in unique, it adds it and includes it in result.\n",
        "\n",
        "If it’s already seen, it skips it."
      ],
      "metadata": {
        "id": "4pQiJ4I5MY2L"
      }
    },
    {
      "cell_type": "code",
      "source": [
        "# 45.\tFind all indices (positions) where a given number appears in a list.\n",
        "def find_indices(lst, target):\n",
        "    return [i for i, x in enumerate(lst) if x == target]\n",
        "find_indices([1, 2, 3, 2, 4, 2], 2)"
      ],
      "metadata": {
        "colab": {
          "base_uri": "https://localhost:8080/"
        },
        "id": "dDV6_3s8KCqd",
        "outputId": "491d5e1c-289e-474f-c4b3-d099917f6cba"
      },
      "execution_count": null,
      "outputs": [
        {
          "output_type": "execute_result",
          "data": {
            "text/plain": [
              "[1, 3, 5]"
            ]
          },
          "metadata": {},
          "execution_count": 11
        }
      ]
    },
    {
      "cell_type": "code",
      "source": [
        "# 46.\tGenerate all palindromic numbers (as strings) between 1 and 999.\n",
        "\n",
        "def is_palindrome(num):\n",
        "    return str(num) == str(num)[::-1]\n",
        "\n",
        "palindromes = [num for num in range(1, 1000) if is_palindrome(num)]\n",
        "\n",
        "# Print all numbers in one line, separated by space\n",
        "print(*palindromes)\n"
      ],
      "metadata": {
        "colab": {
          "base_uri": "https://localhost:8080/"
        },
        "id": "hjqV8UHPKCtJ",
        "outputId": "6be93b4e-86e5-498f-bedf-b017a0d2712b"
      },
      "execution_count": null,
      "outputs": [
        {
          "output_type": "stream",
          "name": "stdout",
          "text": [
            "1 2 3 4 5 6 7 8 9 11 22 33 44 55 66 77 88 99 101 111 121 131 141 151 161 171 181 191 202 212 222 232 242 252 262 272 282 292 303 313 323 333 343 353 363 373 383 393 404 414 424 434 444 454 464 474 484 494 505 515 525 535 545 555 565 575 585 595 606 616 626 636 646 656 666 676 686 696 707 717 727 737 747 757 767 777 787 797 808 818 828 838 848 858 868 878 888 898 909 919 929 939 949 959 969 979 989 999\n"
          ]
        }
      ]
    },
    {
      "cell_type": "code",
      "source": [
        "# 47.\tConvert a dictionary like {'a':[1,2], 'b':[3]} into a list of (key, value) pairs.\n",
        "data = {'a': [1, 2], 'b': [3]}\n",
        "result = [(key, value) for key, value in data.items()]\n",
        "print(result)"
      ],
      "metadata": {
        "colab": {
          "base_uri": "https://localhost:8080/"
        },
        "id": "bQ86G0ioKCvi",
        "outputId": "6109561d-ab61-4963-f1f8-53201a0ab0b9"
      },
      "execution_count": null,
      "outputs": [
        {
          "output_type": "stream",
          "name": "stdout",
          "text": [
            "[('a', [1, 2]), ('b', [3])]\n"
          ]
        }
      ]
    },
    {
      "cell_type": "code",
      "source": [
        "# 48.\tCreate a list of prime pairs (p, q) where both are primes under 100 and p + q is also prime.\n",
        "def is_prime(n):\n",
        "    if n < 2:\n",
        "        return False\n",
        "    for i in range(2, n):\n",
        "        if n % i == 0:\n",
        "            return False\n",
        "    return True\n",
        "\n",
        "prime_pairs = [(p, q) for p in range(2, 100) if is_prime(p) for q in range(2, 100) if is_prime(q) and is_prime(p + q)]\n",
        "print(prime_pairs)"
      ],
      "metadata": {
        "colab": {
          "base_uri": "https://localhost:8080/"
        },
        "id": "eSwWVK6JKCx1",
        "outputId": "1f2e88aa-f48d-4839-9c4f-7f29d2b7624b"
      },
      "execution_count": null,
      "outputs": [
        {
          "output_type": "stream",
          "name": "stdout",
          "text": [
            "[(2, 3), (2, 5), (2, 11), (2, 17), (2, 29), (2, 41), (2, 59), (2, 71), (3, 2), (5, 2), (11, 2), (17, 2), (29, 2), (41, 2), (59, 2), (71, 2)]\n"
          ]
        }
      ]
    },
    {
      "cell_type": "code",
      "source": [
        "# 49.\tCreate a lower-triangular matrix (n×n) with 1s below and on the diagonal, 0s above.\n",
        "n = 4  # example size\n",
        "lower_triangular = [[1 if j <= i else 0 for j in range(n)] for i in range(n)]\n",
        "\n",
        "for row in lower_triangular:\n",
        "    print(row)\n"
      ],
      "metadata": {
        "colab": {
          "base_uri": "https://localhost:8080/"
        },
        "id": "xKklwQBwKC1C",
        "outputId": "15abc1c5-cf7a-4358-8fcd-27024d88e3d0"
      },
      "execution_count": null,
      "outputs": [
        {
          "output_type": "stream",
          "name": "stdout",
          "text": [
            "[1, 0, 0, 0]\n",
            "[1, 1, 0, 0]\n",
            "[1, 1, 1, 0]\n",
            "[1, 1, 1, 1]\n"
          ]
        }
      ]
    },
    {
      "cell_type": "code",
      "source": [
        "# 50.\tGenerate all possible sequences of length 4 from 'abcd' with no repeated letters.\n",
        "from itertools import permutations\n",
        "\n",
        "result = [''.join(seq) for seq in permutations('abcd', 4) if len(set(seq)) == 4]\n",
        "print(result)\n",
        "len(result)"
      ],
      "metadata": {
        "colab": {
          "base_uri": "https://localhost:8080/"
        },
        "id": "4A7HSbXCKMHd",
        "outputId": "2ebbf681-e8e6-4977-fcce-bdb93f7859d9"
      },
      "execution_count": null,
      "outputs": [
        {
          "output_type": "stream",
          "name": "stdout",
          "text": [
            "['abcd', 'abdc', 'acbd', 'acdb', 'adbc', 'adcb', 'bacd', 'badc', 'bcad', 'bcda', 'bdac', 'bdca', 'cabd', 'cadb', 'cbad', 'cbda', 'cdab', 'cdba', 'dabc', 'dacb', 'dbac', 'dbca', 'dcab', 'dcba']\n"
          ]
        },
        {
          "output_type": "execute_result",
          "data": {
            "text/plain": [
              "24"
            ]
          },
          "metadata": {},
          "execution_count": 23
        }
      ]
    },
    {
      "cell_type": "code",
      "source": [],
      "metadata": {
        "id": "qbmP56VlQIm5"
      },
      "execution_count": null,
      "outputs": []
    }
  ]
}