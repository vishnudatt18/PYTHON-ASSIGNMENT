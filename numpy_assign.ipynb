{
  "nbformat": 4,
  "nbformat_minor": 0,
  "metadata": {
    "colab": {
      "provenance": [],
      "authorship_tag": "ABX9TyPyqU2vUkEfN7qyPxfSfKqU",
      "include_colab_link": true
    },
    "kernelspec": {
      "name": "python3",
      "display_name": "Python 3"
    },
    "language_info": {
      "name": "python"
    }
  },
  "cells": [
    {
      "cell_type": "markdown",
      "metadata": {
        "id": "view-in-github",
        "colab_type": "text"
      },
      "source": [
        "<a href=\"https://colab.research.google.com/github/vishnudatt18/PYTHON-ASSIGNMENT/blob/main/numpy_assign.ipynb\" target=\"_parent\"><img src=\"https://colab.research.google.com/assets/colab-badge.svg\" alt=\"Open In Colab\"/></a>"
      ]
    },
    {
      "cell_type": "code",
      "execution_count": 145,
      "metadata": {
        "id": "V7M7r4J8qgCZ"
      },
      "outputs": [],
      "source": [
        "# 1.How do you import the NumPy library using an alias?\n",
        "import numpy as np"
      ]
    },
    {
      "cell_type": "code",
      "source": [
        "# 2.How do you check the version and configuration of NumPy?\n",
        "print(np.__version__)\n",
        "print(np.show_config())"
      ],
      "metadata": {
        "colab": {
          "base_uri": "https://localhost:8080/"
        },
        "id": "i9YbxhsBGAnl",
        "outputId": "1de81c6d-c8c6-4f75-bc78-dd97f394960a"
      },
      "execution_count": 146,
      "outputs": [
        {
          "output_type": "stream",
          "name": "stdout",
          "text": [
            "2.0.2\n",
            "Build Dependencies:\n",
            "  blas:\n",
            "    detection method: pkgconfig\n",
            "    found: true\n",
            "    include directory: /opt/_internal/cpython-3.12.2/lib/python3.12/site-packages/scipy_openblas64/include\n",
            "    lib directory: /opt/_internal/cpython-3.12.2/lib/python3.12/site-packages/scipy_openblas64/lib\n",
            "    name: scipy-openblas\n",
            "    openblas configuration: OpenBLAS 0.3.27  USE64BITINT DYNAMIC_ARCH NO_AFFINITY\n",
            "      Zen MAX_THREADS=64\n",
            "    pc file directory: /project/.openblas\n",
            "    version: 0.3.27\n",
            "  lapack:\n",
            "    detection method: pkgconfig\n",
            "    found: true\n",
            "    include directory: /opt/_internal/cpython-3.12.2/lib/python3.12/site-packages/scipy_openblas64/include\n",
            "    lib directory: /opt/_internal/cpython-3.12.2/lib/python3.12/site-packages/scipy_openblas64/lib\n",
            "    name: scipy-openblas\n",
            "    openblas configuration: OpenBLAS 0.3.27  USE64BITINT DYNAMIC_ARCH NO_AFFINITY\n",
            "      Zen MAX_THREADS=64\n",
            "    pc file directory: /project/.openblas\n",
            "    version: 0.3.27\n",
            "Compilers:\n",
            "  c:\n",
            "    commands: cc\n",
            "    linker: ld.bfd\n",
            "    name: gcc\n",
            "    version: 10.2.1\n",
            "  c++:\n",
            "    commands: c++\n",
            "    linker: ld.bfd\n",
            "    name: gcc\n",
            "    version: 10.2.1\n",
            "  cython:\n",
            "    commands: cython\n",
            "    linker: cython\n",
            "    name: cython\n",
            "    version: 3.0.11\n",
            "Machine Information:\n",
            "  build:\n",
            "    cpu: x86_64\n",
            "    endian: little\n",
            "    family: x86_64\n",
            "    system: linux\n",
            "  host:\n",
            "    cpu: x86_64\n",
            "    endian: little\n",
            "    family: x86_64\n",
            "    system: linux\n",
            "Python Information:\n",
            "  path: /tmp/build-env-8744k94k/bin/python\n",
            "  version: '3.12'\n",
            "SIMD Extensions:\n",
            "  baseline:\n",
            "  - SSE\n",
            "  - SSE2\n",
            "  - SSE3\n",
            "  found:\n",
            "  - SSSE3\n",
            "  - SSE41\n",
            "  - POPCNT\n",
            "  - SSE42\n",
            "  - AVX\n",
            "  - F16C\n",
            "  - FMA3\n",
            "  - AVX2\n",
            "  not found:\n",
            "  - AVX512F\n",
            "  - AVX512CD\n",
            "  - AVX512_KNL\n",
            "  - AVX512_KNM\n",
            "  - AVX512_SKX\n",
            "  - AVX512_CLX\n",
            "  - AVX512_CNL\n",
            "  - AVX512_ICL\n",
            "\n",
            "None\n"
          ]
        }
      ]
    },
    {
      "cell_type": "code",
      "source": [
        "# 3.How do you create a vector filled with zeros of size 10?\n",
        "arr = np.zeros(10)\n",
        "print(arr)"
      ],
      "metadata": {
        "colab": {
          "base_uri": "https://localhost:8080/"
        },
        "id": "XRETMzZ4qiOR",
        "outputId": "259ed2d9-e874-432b-e0ae-17c34a1de132"
      },
      "execution_count": 147,
      "outputs": [
        {
          "output_type": "stream",
          "name": "stdout",
          "text": [
            "[0. 0. 0. 0. 0. 0. 0. 0. 0. 0.]\n"
          ]
        }
      ]
    },
    {
      "cell_type": "code",
      "source": [
        "# 5.How do you create a zero vector of size 10 with the fifth element as 1?\n",
        "arr = np.zeros(10)\n",
        "arr[4] = 1\n",
        "print(arr)"
      ],
      "metadata": {
        "colab": {
          "base_uri": "https://localhost:8080/"
        },
        "id": "3-fqMiZDqiXn",
        "outputId": "076328fc-527c-41b8-b7e8-3d1b7a839cfd"
      },
      "execution_count": 148,
      "outputs": [
        {
          "output_type": "stream",
          "name": "stdout",
          "text": [
            "[0. 0. 0. 0. 1. 0. 0. 0. 0. 0.]\n"
          ]
        }
      ]
    },
    {
      "cell_type": "code",
      "source": [
        "# 6.How do you create a vector with values from 10 to 49?\n",
        "arr = np.arange(10, 50)\n",
        "print(arr)"
      ],
      "metadata": {
        "colab": {
          "base_uri": "https://localhost:8080/"
        },
        "id": "_0DGEz-Dqiau",
        "outputId": "2fd420b7-1274-4276-ac87-d012013d9892"
      },
      "execution_count": 149,
      "outputs": [
        {
          "output_type": "stream",
          "name": "stdout",
          "text": [
            "[10 11 12 13 14 15 16 17 18 19 20 21 22 23 24 25 26 27 28 29 30 31 32 33\n",
            " 34 35 36 37 38 39 40 41 42 43 44 45 46 47 48 49]\n"
          ]
        }
      ]
    },
    {
      "cell_type": "code",
      "metadata": {
        "colab": {
          "base_uri": "https://localhost:8080/"
        },
        "id": "1beef22a",
        "outputId": "b7217492-b0c5-4005-9897-96ec6583755c"
      },
      "source": [
        "# 7.How do you reverse a vector?\n",
        "arr = np.arange(10)\n",
        "arr = arr[::-1]\n",
        "print(arr)"
      ],
      "execution_count": 150,
      "outputs": [
        {
          "output_type": "stream",
          "name": "stdout",
          "text": [
            "[9 8 7 6 5 4 3 2 1 0]\n"
          ]
        }
      ]
    },
    {
      "cell_type": "code",
      "metadata": {
        "colab": {
          "base_uri": "https://localhost:8080/"
        },
        "id": "13335255",
        "outputId": "07acb8cf-d89c-4913-cd2f-2b1799f85c0b"
      },
      "source": [
        "# 8.How do you create a 3x3 matrix with values from 0 to 8?\n",
        "arr = np.arange(9).reshape(3, 3)\n",
        "print(arr)"
      ],
      "execution_count": 151,
      "outputs": [
        {
          "output_type": "stream",
          "name": "stdout",
          "text": [
            "[[0 1 2]\n",
            " [3 4 5]\n",
            " [6 7 8]]\n"
          ]
        }
      ]
    },
    {
      "cell_type": "code",
      "metadata": {
        "colab": {
          "base_uri": "https://localhost:8080/"
        },
        "id": "f64bb6d0",
        "outputId": "3ed494d8-b131-408c-a07e-f23af315b62e"
      },
      "source": [
        "# 9.How do you find indices of non-zero elements in an array?\n",
        "arr = np.array([1, 2, 0, 0, 4, 0])\n",
        "indices = np.nonzero(arr)\n",
        "print(indices)"
      ],
      "execution_count": 152,
      "outputs": [
        {
          "output_type": "stream",
          "name": "stdout",
          "text": [
            "(array([0, 1, 4]),)\n"
          ]
        }
      ]
    },
    {
      "cell_type": "code",
      "metadata": {
        "colab": {
          "base_uri": "https://localhost:8080/"
        },
        "id": "8c5dc9e4",
        "outputId": "2a8657da-2192-4721-94f2-fb5bfa2097d4"
      },
      "source": [
        "# 10.How do you create a 3x3 identity matrix?\n",
        "arr = np.eye(3)\n",
        "print(arr)"
      ],
      "execution_count": 153,
      "outputs": [
        {
          "output_type": "stream",
          "name": "stdout",
          "text": [
            "[[1. 0. 0.]\n",
            " [0. 1. 0.]\n",
            " [0. 0. 1.]]\n"
          ]
        }
      ]
    },
    {
      "cell_type": "code",
      "metadata": {
        "colab": {
          "base_uri": "https://localhost:8080/"
        },
        "id": "87ff076e",
        "outputId": "5f99c4b2-1057-4865-b6e0-326d4f2479ec"
      },
      "source": [
        "# 11.How do you generate a 3x3x3 array with random values?\n",
        "arr3 = np.random.rand(3, 3, 3)\n",
        "print(arr3)"
      ],
      "execution_count": 154,
      "outputs": [
        {
          "output_type": "stream",
          "name": "stdout",
          "text": [
            "[[[0.45916618 0.27736608 0.65888032]\n",
            "  [0.34758739 0.97222948 0.20602966]\n",
            "  [0.2437538  0.13208744 0.33537977]]\n",
            "\n",
            " [[0.18478055 0.43986541 0.44611872]\n",
            "  [0.86597837 0.08060087 0.63906742]\n",
            "  [0.70559079 0.52882365 0.71863707]]\n",
            "\n",
            " [[0.24565777 0.47167503 0.11202321]\n",
            "  [0.63566374 0.82323269 0.67689581]\n",
            "  [0.62632867 0.18445811 0.22947151]]]\n"
          ]
        }
      ]
    },
    {
      "cell_type": "code",
      "metadata": {
        "colab": {
          "base_uri": "https://localhost:8080/"
        },
        "id": "0fc03f73",
        "outputId": "32392616-472c-4951-f486-6f094d8b2fd4"
      },
      "source": [
        "# 12.How do you find the min and max values in a 10x10 random matrix?\n",
        "arr = np.random.rand(10, 10)\n",
        "min_val = np.min(arr)\n",
        "max_val = np.max(arr)\n",
        "\n",
        "print(\"Min value:\", min_val)\n",
        "print(\"Max value:\", max_val)"
      ],
      "execution_count": 155,
      "outputs": [
        {
          "output_type": "stream",
          "name": "stdout",
          "text": [
            "Min value: 0.0047505310934785605\n",
            "Max value: 0.9955522531663611\n"
          ]
        }
      ]
    },
    {
      "cell_type": "code",
      "metadata": {
        "colab": {
          "base_uri": "https://localhost:8080/"
        },
        "id": "12d1c640",
        "outputId": "412b468f-b500-448e-ba43-5ff189dac242"
      },
      "source": [
        "# 13.How do you calculate the mean of a random vector of size 30?\n",
        "arr = np.random.rand(30)\n",
        "mean_val = np.mean(arr)\n",
        "print(\"Mean value:\", mean_val)"
      ],
      "execution_count": 156,
      "outputs": [
        {
          "output_type": "stream",
          "name": "stdout",
          "text": [
            "Mean value: 0.5527545911368995\n"
          ]
        }
      ]
    },
    {
      "cell_type": "code",
      "metadata": {
        "colab": {
          "base_uri": "https://localhost:8080/"
        },
        "id": "a1109522",
        "outputId": "41f5a1a5-afcd-4692-fc97-cdcc73fc0c90"
      },
      "source": [
        "# 14.How do you create a 2D array with 1s on the border and 0s inside?\n",
        "arr = np.ones((5, 5))\n",
        "arr[1:-1, 1:-1] = 0\n",
        "print(arr)"
      ],
      "execution_count": 157,
      "outputs": [
        {
          "output_type": "stream",
          "name": "stdout",
          "text": [
            "[[1. 1. 1. 1. 1.]\n",
            " [1. 0. 0. 0. 1.]\n",
            " [1. 0. 0. 0. 1.]\n",
            " [1. 0. 0. 0. 1.]\n",
            " [1. 1. 1. 1. 1.]]\n"
          ]
        }
      ]
    },
    {
      "cell_type": "code",
      "metadata": {
        "colab": {
          "base_uri": "https://localhost:8080/"
        },
        "id": "8c52cf22",
        "outputId": "8a97b949-df18-4607-d746-06438d7fad3b"
      },
      "source": [
        "# 15.What is the result of operations like 0 * np.nan, np.nan == np.nan, etc.?\n",
        "print(0 * np.nan)\n",
        "print(np.nan == np.nan)\n",
        "print(np.inf > np.nan)\n",
        "print(np.nan - np.nan)\n"
      ],
      "execution_count": 158,
      "outputs": [
        {
          "output_type": "stream",
          "name": "stdout",
          "text": [
            "nan\n",
            "False\n",
            "False\n",
            "nan\n"
          ]
        }
      ]
    },
    {
      "cell_type": "code",
      "metadata": {
        "colab": {
          "base_uri": "https://localhost:8080/"
        },
        "id": "7dd647b7",
        "outputId": "a15dcdbf-13cb-4f2d-f5ce-4eb31c58aa7a"
      },
      "source": [
        "# 16.How do you create a matrix with values below the diagonal?\n",
        "arr = np.diag(np.arange(1, 5), k=-1)\n",
        "print(arr)"
      ],
      "execution_count": 159,
      "outputs": [
        {
          "output_type": "stream",
          "name": "stdout",
          "text": [
            "[[0 0 0 0 0]\n",
            " [1 0 0 0 0]\n",
            " [0 2 0 0 0]\n",
            " [0 0 3 0 0]\n",
            " [0 0 0 4 0]]\n"
          ]
        }
      ]
    },
    {
      "cell_type": "code",
      "metadata": {
        "colab": {
          "base_uri": "https://localhost:8080/"
        },
        "id": "a49fc9d2",
        "outputId": "917aa263-6e36-4dda-883a-bb0d0eddd45a"
      },
      "source": [
        "# 17.How do you create a checkerboard pattern in an 8x8 matrix?\n",
        "\n",
        "arr = np.zeros((8, 8), dtype=int)\n",
        "arr[1::2, ::2] = 1\n",
        "arr[::2, 1::2] = 1\n",
        "print(arr)"
      ],
      "execution_count": 160,
      "outputs": [
        {
          "output_type": "stream",
          "name": "stdout",
          "text": [
            "[[0 1 0 1 0 1 0 1]\n",
            " [1 0 1 0 1 0 1 0]\n",
            " [0 1 0 1 0 1 0 1]\n",
            " [1 0 1 0 1 0 1 0]\n",
            " [0 1 0 1 0 1 0 1]\n",
            " [1 0 1 0 1 0 1 0]\n",
            " [0 1 0 1 0 1 0 1]\n",
            " [1 0 1 0 1 0 1 0]]\n"
          ]
        }
      ]
    },
    {
      "cell_type": "code",
      "metadata": {
        "colab": {
          "base_uri": "https://localhost:8080/"
        },
        "id": "a9669083",
        "outputId": "01786d10-dd23-4eb1-87b4-cb971854982e"
      },
      "source": [
        "# 18.How do you find the index of a flat element in a 3D shape?\n",
        "\n",
        "arr = np.arange(64).reshape((4, 4, 4))\n",
        "index = np.unravel_index(10, arr.shape)\n",
        "print(index)"
      ],
      "execution_count": 161,
      "outputs": [
        {
          "output_type": "stream",
          "name": "stdout",
          "text": [
            "(np.int64(0), np.int64(2), np.int64(2))\n"
          ]
        }
      ]
    },
    {
      "cell_type": "code",
      "metadata": {
        "colab": {
          "base_uri": "https://localhost:8080/"
        },
        "id": "3db2bc04",
        "outputId": "48b0e278-1dde-4869-ec8b-948a494c03a7"
      },
      "source": [
        "# 19.How do you create a checkerboard pattern using NumPy's tile function?\n",
        "\n",
        "arr = np.tile(np.array([[0, 1], [1, 0]]), (4, 4))\n",
        "print(arr)"
      ],
      "execution_count": 162,
      "outputs": [
        {
          "output_type": "stream",
          "name": "stdout",
          "text": [
            "[[0 1 0 1 0 1 0 1]\n",
            " [1 0 1 0 1 0 1 0]\n",
            " [0 1 0 1 0 1 0 1]\n",
            " [1 0 1 0 1 0 1 0]\n",
            " [0 1 0 1 0 1 0 1]\n",
            " [1 0 1 0 1 0 1 0]\n",
            " [0 1 0 1 0 1 0 1]\n",
            " [1 0 1 0 1 0 1 0]]\n"
          ]
        }
      ]
    },
    {
      "cell_type": "code",
      "metadata": {
        "colab": {
          "base_uri": "https://localhost:8080/"
        },
        "id": "2f8dc03c",
        "outputId": "c6574d10-5e23-42d7-83a0-5579f7ab49a3"
      },
      "source": [
        "# 20.How do you normalize a matrix (values between 0 and 1)?\n",
        "\n",
        "arr = np.random.rand(5, 5)\n",
        "arr_normalized = (arr - np.min(arr)) / (np.max(arr) - np.min(arr))\n",
        "print(arr_normalized)"
      ],
      "execution_count": 163,
      "outputs": [
        {
          "output_type": "stream",
          "name": "stdout",
          "text": [
            "[[0.21899378 0.20614085 0.25353669 0.76191501 0.18308688]\n",
            " [0.40762705 0.54983697 0.50472274 0.56924957 0.42938315]\n",
            " [0.81394224 0.09897657 0.7813715  0.70393542 0.        ]\n",
            " [0.44506496 0.76094994 0.2127178  0.90856222 0.60792408]\n",
            " [0.19699892 0.63039068 0.08647287 0.99649592 1.        ]]\n"
          ]
        }
      ]
    },
    {
      "cell_type": "code",
      "metadata": {
        "colab": {
          "base_uri": "https://localhost:8080/"
        },
        "id": "5b5687be",
        "outputId": "bfa93059-7d6f-4b24-f873-7f8991b1f0eb"
      },
      "source": [
        "# 21.How do you define a custom data type for storing color (RGBA)?\n",
        "\n",
        "color = np.dtype([(\"r\", np.ubyte), (\"g\", np.ubyte), (\"b\", np.ubyte), (\"a\", np.ubyte)])\n",
        "print(color)"
      ],
      "execution_count": 164,
      "outputs": [
        {
          "output_type": "stream",
          "name": "stdout",
          "text": [
            "[('r', 'u1'), ('g', 'u1'), ('b', 'u1'), ('a', 'u1')]\n"
          ]
        }
      ]
    },
    {
      "cell_type": "code",
      "metadata": {
        "colab": {
          "base_uri": "https://localhost:8080/"
        },
        "id": "cf7529c2",
        "outputId": "903380ce-672f-4b44-aea6-14e6dac9bffa"
      },
      "source": [
        "# 22.How do you perform a matrix multiplication between two matrices?\n",
        "\n",
        "matrix1 = np.array([[1, 2], [3, 4]])\n",
        "matrix2 = np.array([[5, 6], [7, 8]])\n",
        "result = np.dot(matrix1, matrix2)\n",
        "print(result)"
      ],
      "execution_count": 165,
      "outputs": [
        {
          "output_type": "stream",
          "name": "stdout",
          "text": [
            "[[19 22]\n",
            " [43 50]]\n"
          ]
        }
      ]
    },
    {
      "cell_type": "code",
      "metadata": {
        "colab": {
          "base_uri": "https://localhost:8080/"
        },
        "id": "827bebd4",
        "outputId": "23076a67-dff0-4133-c4c9-ae294c0e3f9a"
      },
      "source": [
        "# 23.How do you negate values between two given numbers in a vector?\n",
        "\n",
        "arr = np.arange(10)\n",
        "arr[(arr > 3) & (arr < 8)] *= -1\n",
        "print(arr)"
      ],
      "execution_count": 166,
      "outputs": [
        {
          "output_type": "stream",
          "name": "stdout",
          "text": [
            "[ 0  1  2  3 -4 -5 -6 -7  8  9]\n"
          ]
        }
      ]
    },
    {
      "cell_type": "code",
      "metadata": {
        "colab": {
          "base_uri": "https://localhost:8080/"
        },
        "id": "2e7d132a",
        "outputId": "4a4d01e9-8742-455a-8d2c-43ad67302bee"
      },
      "source": [
        "# 24.What is the output of sum(range(5), -1) vs np.sum(range(5), -1)?\n",
        "\n",
        "print(sum(range(5), -1))\n",
        "print(np.sum(list(range(5)), axis=-1))"
      ],
      "execution_count": 167,
      "outputs": [
        {
          "output_type": "stream",
          "name": "stdout",
          "text": [
            "9\n",
            "10\n"
          ]
        }
      ]
    },
    {
      "cell_type": "code",
      "metadata": {
        "id": "9ed9f7a3"
      },
      "source": [
        "# 25.Which NumPy vector operations are legal or illegal?\n"
      ],
      "execution_count": 168,
      "outputs": []
    },
    {
      "cell_type": "code",
      "metadata": {
        "colab": {
          "base_uri": "https://localhost:8080/"
        },
        "id": "e73b9c6e",
        "outputId": "0c0293bf-853e-4dad-88af-bf23edf9d819"
      },
      "source": [
        "# 26.What happens when you divide integers or floats by zero in NumPy?\n",
        "# Integer division by zero raises an error. Float division by zero results in inf or -inf, or nan.\n",
        "print(np.array([1, 0]) / np.array([0, 0])) # Example with float division\n",
        "# print(np.array([1, 0]) // np.array([0, 0])) # Example with integer division (will raise error)"
      ],
      "execution_count": 169,
      "outputs": [
        {
          "output_type": "stream",
          "name": "stdout",
          "text": [
            "[inf nan]\n"
          ]
        },
        {
          "output_type": "stream",
          "name": "stderr",
          "text": [
            "/tmp/ipython-input-4294434204.py:3: RuntimeWarning: divide by zero encountered in divide\n",
            "  print(np.array([1, 0]) / np.array([0, 0])) # Example with float division\n",
            "/tmp/ipython-input-4294434204.py:3: RuntimeWarning: invalid value encountered in divide\n",
            "  print(np.array([1, 0]) / np.array([0, 0])) # Example with float division\n"
          ]
        }
      ]
    },
    {
      "cell_type": "code",
      "metadata": {
        "colab": {
          "base_uri": "https://localhost:8080/"
        },
        "id": "f540e068",
        "outputId": "62dd40a1-c722-4a1a-95b6-722f1f4c8044"
      },
      "source": [
        "# 27.How do you round a float array away from zero?\n",
        "arr = np.array([-1.7, -1.5, -1.3, 1.3, 1.5, 1.7])\n",
        "print(np.copysign(np.ceil(np.abs(arr)), arr))"
      ],
      "execution_count": 170,
      "outputs": [
        {
          "output_type": "stream",
          "name": "stdout",
          "text": [
            "[-2. -2. -2.  2.  2.  2.]\n"
          ]
        }
      ]
    },
    {
      "cell_type": "code",
      "metadata": {
        "colab": {
          "base_uri": "https://localhost:8080/"
        },
        "id": "0f3b3b52",
        "outputId": "b95d0b6d-5b49-4d66-945b-07876f0b808f"
      },
      "source": [
        "# 28.How do you extract the integer part of a float using multiple methods?\n",
        "arr = np.array([1.23, 2.89, -3.45])\n",
        "print(arr.astype(int))\n",
        "print(np.trunc(arr))\n",
        "print(np.floor(arr))\n",
        "print(np.ceil(arr) - (arr < 0))"
      ],
      "execution_count": 171,
      "outputs": [
        {
          "output_type": "stream",
          "name": "stdout",
          "text": [
            "[ 1  2 -3]\n",
            "[ 1.  2. -3.]\n",
            "[ 1.  2. -4.]\n",
            "[ 2.  3. -4.]\n"
          ]
        }
      ]
    },
    {
      "cell_type": "code",
      "metadata": {
        "colab": {
          "base_uri": "https://localhost:8080/"
        },
        "id": "701263aa",
        "outputId": "e7f5b97d-71a2-4f13-ea00-9a90742865ce"
      },
      "source": [
        "# 29.How do you create a 5x5 matrix with row values ranging from 0 to 4?\n",
        "arr = np.zeros((5, 5))\n",
        "arr += np.arange(5)\n",
        "print(arr)"
      ],
      "execution_count": 172,
      "outputs": [
        {
          "output_type": "stream",
          "name": "stdout",
          "text": [
            "[[0. 1. 2. 3. 4.]\n",
            " [0. 1. 2. 3. 4.]\n",
            " [0. 1. 2. 3. 4.]\n",
            " [0. 1. 2. 3. 4.]\n",
            " [0. 1. 2. 3. 4.]]\n"
          ]
        }
      ]
    },
    {
      "cell_type": "code",
      "metadata": {
        "colab": {
          "base_uri": "https://localhost:8080/"
        },
        "id": "f289109c",
        "outputId": "4eef42e4-b95c-4f8d-cb0d-a6f78d511117"
      },
      "source": [
        "# 30.How do you use a generator to create a NumPy array?\n",
        "def generate():\n",
        "  for i in range(10):\n",
        "    yield i\n",
        "arr = np.fromiter(generate(), dtype=float, count=-1)\n",
        "print(arr)"
      ],
      "execution_count": 173,
      "outputs": [
        {
          "output_type": "stream",
          "name": "stdout",
          "text": [
            "[0. 1. 2. 3. 4. 5. 6. 7. 8. 9.]\n"
          ]
        }
      ]
    },
    {
      "cell_type": "code",
      "metadata": {
        "colab": {
          "base_uri": "https://localhost:8080/"
        },
        "id": "589c81da",
        "outputId": "c4c0f31c-cd91-4069-e303-98719951a826"
      },
      "source": [
        "# 31.How do you create an array with evenly spaced values between 0 and 1 (excluded)?\n",
        "arr = np.linspace(0, 1, 11, endpoint=False)[1:]\n",
        "print(arr)"
      ],
      "execution_count": 174,
      "outputs": [
        {
          "output_type": "stream",
          "name": "stdout",
          "text": [
            "[0.09090909 0.18181818 0.27272727 0.36363636 0.45454545 0.54545455\n",
            " 0.63636364 0.72727273 0.81818182 0.90909091]\n"
          ]
        }
      ]
    },
    {
      "cell_type": "code",
      "metadata": {
        "colab": {
          "base_uri": "https://localhost:8080/"
        },
        "id": "768e8d52",
        "outputId": "d8d4a5f3-a2ff-4732-dd69-b0dd8af332c9"
      },
      "source": [
        "# 32.How do you sort a random array?\n",
        "arr = np.random.rand(10)\n",
        "arr.sort()\n",
        "print(arr)"
      ],
      "execution_count": 175,
      "outputs": [
        {
          "output_type": "stream",
          "name": "stdout",
          "text": [
            "[0.39529719 0.51524917 0.5417475  0.56963047 0.68384524 0.70818107\n",
            " 0.7219431  0.74630845 0.81238198 0.95681832]\n"
          ]
        }
      ]
    },
    {
      "cell_type": "code",
      "metadata": {
        "colab": {
          "base_uri": "https://localhost:8080/"
        },
        "id": "63320d95",
        "outputId": "fbec8756-9505-448d-d859-429cca8c28a4"
      },
      "source": [
        "# 33.How do you sum an array faster than using np.sum?\n",
        "arr = np.arange(1000)\n",
        "# Using the built-in sum is often faster for small arrays or lists\n",
        "# For larger NumPy arrays, np.sum is highly optimized and generally faster\n",
        "%timeit sum(arr)\n",
        "%timeit np.sum(arr)"
      ],
      "execution_count": 176,
      "outputs": [
        {
          "output_type": "stream",
          "name": "stdout",
          "text": [
            "89.2 µs ± 1.52 µs per loop (mean ± std. dev. of 7 runs, 10000 loops each)\n",
            "4.48 µs ± 1.25 µs per loop (mean ± std. dev. of 7 runs, 100000 loops each)\n"
          ]
        }
      ]
    },
    {
      "cell_type": "code",
      "metadata": {
        "colab": {
          "base_uri": "https://localhost:8080/"
        },
        "id": "5b4a35c2",
        "outputId": "f366c429-28aa-454b-a03a-5c02b00e80d1"
      },
      "source": [
        "# 34.How do you check if two arrays are equal?\n",
        "arr1 = np.array([1, 2, 3])\n",
        "arr2 = np.array([1, 2, 3])\n",
        "arr3 = np.array([1, 2, 4])\n",
        "print(np.array_equal(arr1, arr2))\n",
        "print(np.array_equal(arr1, arr3))"
      ],
      "execution_count": 177,
      "outputs": [
        {
          "output_type": "stream",
          "name": "stdout",
          "text": [
            "True\n",
            "False\n"
          ]
        }
      ]
    },
    {
      "cell_type": "code",
      "metadata": {
        "colab": {
          "base_uri": "https://localhost:8080/"
        },
        "id": "4a96fe26",
        "outputId": "9bff85d8-99b1-4f6c-dd82-5fa0d9997c8e"
      },
      "source": [
        "# 35.How do you make a NumPy array read-only?\n",
        "arr = np.arange(10)\n",
        "arr.flags.writeable = False\n",
        "# arr[0] = 11 # This would raise an error\n",
        "print(arr)"
      ],
      "execution_count": 178,
      "outputs": [
        {
          "output_type": "stream",
          "name": "stdout",
          "text": [
            "[0 1 2 3 4 5 6 7 8 9]\n"
          ]
        }
      ]
    },
    {
      "cell_type": "code",
      "metadata": {
        "colab": {
          "base_uri": "https://localhost:8080/"
        },
        "id": "78dd11dc",
        "outputId": "0998d1ae-1786-439c-c0a1-90d935fc3134"
      },
      "source": [
        "# 36.How do you convert Cartesian coordinates to polar coordinates?\n",
        "z = np.array([1 + 1j, 2 + 3j, -1 - 2j])\n",
        "rho = np.abs(z)\n",
        "phi = np.angle(z)\n",
        "print(\"Rho:\", rho)\n",
        "print(\"Phi:\", phi)"
      ],
      "execution_count": 179,
      "outputs": [
        {
          "output_type": "stream",
          "name": "stdout",
          "text": [
            "Rho: [1.41421356 3.60555128 2.23606798]\n",
            "Phi: [ 0.78539816  0.98279372 -2.03444394]\n"
          ]
        }
      ]
    },
    {
      "cell_type": "code",
      "metadata": {
        "colab": {
          "base_uri": "https://localhost:8080/"
        },
        "id": "889e908c",
        "outputId": "da1a55f9-188e-4e5f-e865-31c2817d1cdb"
      },
      "source": [
        "# 37.How do you replace the maximum value in an array with zero?\n",
        "arr = np.random.rand(5)\n",
        "arr[arr.argmax()] = 0\n",
        "print(arr)"
      ],
      "execution_count": 180,
      "outputs": [
        {
          "output_type": "stream",
          "name": "stdout",
          "text": [
            "[0.44327494 0.48369951 0.44184912 0.         0.29318837]\n"
          ]
        }
      ]
    },
    {
      "cell_type": "code",
      "metadata": {
        "colab": {
          "base_uri": "https://localhost:8080/"
        },
        "id": "9e3c40e7",
        "outputId": "3c17c508-ba10-4110-db8c-6ab61ddfff52"
      },
      "source": [
        "# 38.How do you create a structured array for (x, y) coordinate pairs?\n",
        "Z = np.zeros(10, [ ('x', float), ('y', float)])\n",
        "print(Z)"
      ],
      "execution_count": 181,
      "outputs": [
        {
          "output_type": "stream",
          "name": "stdout",
          "text": [
            "[(0., 0.) (0., 0.) (0., 0.) (0., 0.) (0., 0.) (0., 0.) (0., 0.) (0., 0.)\n",
            " (0., 0.) (0., 0.)]\n"
          ]
        }
      ]
    },
    {
      "cell_type": "code",
      "metadata": {
        "colab": {
          "base_uri": "https://localhost:8080/"
        },
        "id": "57a4d685",
        "outputId": "e7cfb7f5-ee03-4049-8f6f-846c6fa9e401"
      },
      "source": [
        "# 39.How do you create a Cauchy matrix using two arrays?\n",
        "x = np.arange(8)\n",
        "y = x + 0.5\n",
        "C = 1.0 / (x[:, np.newaxis] - y)\n",
        "print(C)"
      ],
      "execution_count": 182,
      "outputs": [
        {
          "output_type": "stream",
          "name": "stdout",
          "text": [
            "[[-2.         -0.66666667 -0.4        -0.28571429 -0.22222222 -0.18181818\n",
            "  -0.15384615 -0.13333333]\n",
            " [ 2.         -2.         -0.66666667 -0.4        -0.28571429 -0.22222222\n",
            "  -0.18181818 -0.15384615]\n",
            " [ 0.66666667  2.         -2.         -0.66666667 -0.4        -0.28571429\n",
            "  -0.22222222 -0.18181818]\n",
            " [ 0.4         0.66666667  2.         -2.         -0.66666667 -0.4\n",
            "  -0.28571429 -0.22222222]\n",
            " [ 0.28571429  0.4         0.66666667  2.         -2.         -0.66666667\n",
            "  -0.4        -0.28571429]\n",
            " [ 0.22222222  0.28571429  0.4         0.66666667  2.         -2.\n",
            "  -0.66666667 -0.4       ]\n",
            " [ 0.18181818  0.22222222  0.28571429  0.4         0.66666667  2.\n",
            "  -2.         -0.66666667]\n",
            " [ 0.15384615  0.18181818  0.22222222  0.28571429  0.4         0.66666667\n",
            "   2.         -2.        ]]\n"
          ]
        }
      ]
    },
    {
      "cell_type": "code",
      "metadata": {
        "colab": {
          "base_uri": "https://localhost:8080/"
        },
        "id": "36020db1",
        "outputId": "0d4e069c-d439-4463-a96b-8045b1617824"
      },
      "source": [
        "# 40.How do you find the range of values for each NumPy scalar type?\n",
        "for dtype in [np.int8, np.int32, np.int64]:\n",
        "   print(np.iinfo(dtype).min, np.iinfo(dtype).max)\n",
        "for dtype in [np.float32, np.float64]:\n",
        "   print(np.finfo(dtype).min, np.finfo(dtype).max)"
      ],
      "execution_count": 183,
      "outputs": [
        {
          "output_type": "stream",
          "name": "stdout",
          "text": [
            "-128 127\n",
            "-2147483648 2147483647\n",
            "-9223372036854775808 9223372036854775807\n",
            "-3.4028235e+38 3.4028235e+38\n",
            "-1.7976931348623157e+308 1.7976931348623157e+308\n"
          ]
        }
      ]
    },
    {
      "cell_type": "code",
      "metadata": {
        "colab": {
          "base_uri": "https://localhost:8080/"
        },
        "id": "c675c324",
        "outputId": "b1de4028-87b2-45d2-8229-2b2cf99d3db5"
      },
      "source": [
        "# 41.How do you display all values in a large array?\n",
        "# By default, NumPy truncates the display of large arrays.\n",
        "# You can change the print options to display all values:\n",
        "# np.set_printoptions(threshold=np.inf)\n",
        "# print(np.arange(1000))\n",
        "# To reset to default:\n",
        "# np.set_printoptions(threshold=1000)\n",
        "print(\"NumPy's default behavior for large arrays is to truncate the display.\")\n",
        "print(\"Use np.set_printoptions(threshold=np.inf) to display all values.\")"
      ],
      "execution_count": 184,
      "outputs": [
        {
          "output_type": "stream",
          "name": "stdout",
          "text": [
            "NumPy's default behavior for large arrays is to truncate the display.\n",
            "Use np.set_printoptions(threshold=np.inf) to display all values.\n"
          ]
        }
      ]
    },
    {
      "cell_type": "code",
      "metadata": {
        "colab": {
          "base_uri": "https://localhost:8080/"
        },
        "id": "2d00dff7",
        "outputId": "dd09e6e2-0c8f-473c-8483-683a3f77f461"
      },
      "source": [
        "# 42.How do you find the closest value to a given scalar in an array?\n",
        "Z = np.random.uniform(0,10,10)\n",
        "z = 5\n",
        "index = (np.abs(Z - z)).argmin()\n",
        "print(Z[index])"
      ],
      "execution_count": 185,
      "outputs": [
        {
          "output_type": "stream",
          "name": "stdout",
          "text": [
            "5.501163472082142\n"
          ]
        }
      ]
    },
    {
      "cell_type": "code",
      "metadata": {
        "colab": {
          "base_uri": "https://localhost:8080/"
        },
        "id": "0f1e5a82",
        "outputId": "db609238-982c-4f18-f804-4c80eef49583"
      },
      "source": [
        "# 43.How do you create a structured array with position and color fields?\n",
        "Z = np.zeros(10, [ ('position', [ ('x', float, 1), ('y', float, 1)]),\n",
        "                   ('color',    [ ('r', float, 1), ('g', float, 1), ('b', float, 1)])])\n",
        "print(Z)"
      ],
      "execution_count": 186,
      "outputs": [
        {
          "output_type": "stream",
          "name": "stdout",
          "text": [
            "[(([0.], [0.]), ([0.], [0.], [0.])) (([0.], [0.]), ([0.], [0.], [0.]))\n",
            " (([0.], [0.]), ([0.], [0.], [0.])) (([0.], [0.]), ([0.], [0.], [0.]))\n",
            " (([0.], [0.]), ([0.], [0.], [0.])) (([0.], [0.]), ([0.], [0.], [0.]))\n",
            " (([0.], [0.]), ([0.], [0.], [0.])) (([0.], [0.]), ([0.], [0.], [0.]))\n",
            " (([0.], [0.]), ([0.], [0.], [0.])) (([0.], [0.]), ([0.], [0.], [0.]))]\n"
          ]
        }
      ]
    },
    {
      "cell_type": "code",
      "metadata": {
        "colab": {
          "base_uri": "https://localhost:8080/"
        },
        "id": "64926a1d",
        "outputId": "e0f3dac4-c6a5-49fd-fcd0-50c4923c47cd"
      },
      "source": [
        "# 44.How do you compute pairwise distances between coordinates?\n",
        "Z = np.random.rand(10, 2)\n",
        "X, Y = np.meshgrid(np.arange(10), np.arange(10))\n",
        "D = np.sqrt((Z[X, 0] - Z[Y, 0])**2 + (Z[X, 1] - Z[Y, 1])**2)\n",
        "print(D)"
      ],
      "execution_count": 187,
      "outputs": [
        {
          "output_type": "stream",
          "name": "stdout",
          "text": [
            "[[0.         0.48826547 0.13805152 0.29334492 0.5073277  0.44745032\n",
            "  0.87692681 0.62160586 0.4986956  0.23349304]\n",
            " [0.48826547 0.         0.6218921  0.24236957 0.66844962 0.37158207\n",
            "  0.41360851 0.27312342 0.15558176 0.37790437]\n",
            " [0.13805152 0.6218921  0.         0.41059059 0.57376362 0.57111232\n",
            "  1.01468107 0.73082317 0.61737598 0.31706892]\n",
            " [0.29334492 0.24236957 0.41059059 0.         0.65331503 0.43586804\n",
            "  0.65597693 0.32904494 0.20694534 0.13560527]\n",
            " [0.5073277  0.66844962 0.57376362 0.65331503 0.         0.31430814\n",
            "  0.86613876 0.92325626 0.7842045  0.68843612]\n",
            " [0.44745032 0.37158207 0.57111232 0.43586804 0.31430814 0.\n",
            "  0.56534645 0.64060221 0.50771681 0.52371926]\n",
            " [0.87692681 0.41360851 1.01468107 0.65597693 0.86613876 0.56534645\n",
            "  0.         0.53787572 0.51397471 0.79150187]\n",
            " [0.62160586 0.27312342 0.73082317 0.32904494 0.92325626 0.64060221\n",
            "  0.53787572 0.         0.13993482 0.41880432]\n",
            " [0.4986956  0.15558176 0.61737598 0.20694534 0.7842045  0.50771681\n",
            "  0.51397471 0.13993482 0.         0.32097789]\n",
            " [0.23349304 0.37790437 0.31706892 0.13560527 0.68843612 0.52371926\n",
            "  0.79150187 0.41880432 0.32097789 0.        ]]\n"
          ]
        }
      ]
    },
    {
      "cell_type": "code",
      "metadata": {
        "colab": {
          "base_uri": "https://localhost:8080/"
        },
        "id": "9723499a",
        "outputId": "35a68f90-b290-495d-d6f4-c4e096f2a95a"
      },
      "source": [
        "# 45.How do you cast a float array to integer type in place?\n",
        "arr = np.random.uniform(0, 10, 10)\n",
        "arr = arr.astype(np.int32, copy=False)\n",
        "print(arr)"
      ],
      "execution_count": 188,
      "outputs": [
        {
          "output_type": "stream",
          "name": "stdout",
          "text": [
            "[2 6 1 5 8 9 3 3 0 9]\n"
          ]
        }
      ]
    },
    {
      "cell_type": "code",
      "metadata": {
        "colab": {
          "base_uri": "https://localhost:8080/"
        },
        "id": "6764ae6f",
        "outputId": "ee79b0c2-7b50-4279-90b8-deeafc52f930"
      },
      "source": [
        "# 46.How do you read data from a file with missing values?\n",
        "# Assuming a file named 'data.txt' with missing values represented by 'NA' or similar\n",
        "# data = np.genfromtxt('data.txt', delimiter=',', missing_values='NA')\n",
        "print(\"This requires a file. Assuming a file 'data.txt' with missing values.\")\n",
        "print(\"Use np.genfromtxt('data.txt', delimiter=',', missing_values='NA')\")"
      ],
      "execution_count": 189,
      "outputs": [
        {
          "output_type": "stream",
          "name": "stdout",
          "text": [
            "This requires a file. Assuming a file 'data.txt' with missing values.\n",
            "Use np.genfromtxt('data.txt', delimiter=',', missing_values='NA')\n"
          ]
        }
      ]
    },
    {
      "cell_type": "code",
      "metadata": {
        "colab": {
          "base_uri": "https://localhost:8080/"
        },
        "id": "4371cf23",
        "outputId": "ab86d8cc-e4d7-4908-e84c-8f828a9c14dc"
      },
      "source": [
        "# 47.How do you iterate through all elements in a NumPy array with indices?\n",
        "arr = np.arange(12).reshape(3, 4)\n",
        "for index, value in np.ndenumerate(arr):\n",
        "    print(index, value)"
      ],
      "execution_count": 190,
      "outputs": [
        {
          "output_type": "stream",
          "name": "stdout",
          "text": [
            "(0, 0) 0\n",
            "(0, 1) 1\n",
            "(0, 2) 2\n",
            "(0, 3) 3\n",
            "(1, 0) 4\n",
            "(1, 1) 5\n",
            "(1, 2) 6\n",
            "(1, 3) 7\n",
            "(2, 0) 8\n",
            "(2, 1) 9\n",
            "(2, 2) 10\n",
            "(2, 3) 11\n"
          ]
        }
      ]
    },
    {
      "cell_type": "code",
      "metadata": {
        "colab": {
          "base_uri": "https://localhost:8080/"
        },
        "id": "8f70bb91",
        "outputId": "58890f4f-f114-461b-f4f5-1328f9e94ed4"
      },
      "source": [
        "# 48.How do you create a 2D Gaussian-like array?\n",
        "x, y = np.meshgrid(np.linspace(-1, 1, 10), np.linspace(-1, 1, 10))\n",
        "D = np.sqrt(x*x + y*y)\n",
        "sigma, mu = 1.0, 0.0\n",
        "G = np.exp(-((D - mu)**2 / (2.0 * sigma**2)))\n",
        "print(G)"
      ],
      "execution_count": 191,
      "outputs": [
        {
          "output_type": "stream",
          "name": "stdout",
          "text": [
            "[[0.36787944 0.44822088 0.51979489 0.57375342 0.60279818 0.60279818\n",
            "  0.57375342 0.51979489 0.44822088 0.36787944]\n",
            " [0.44822088 0.54610814 0.63331324 0.69905581 0.73444367 0.73444367\n",
            "  0.69905581 0.63331324 0.54610814 0.44822088]\n",
            " [0.51979489 0.63331324 0.73444367 0.81068432 0.85172308 0.85172308\n",
            "  0.81068432 0.73444367 0.63331324 0.51979489]\n",
            " [0.57375342 0.69905581 0.81068432 0.89483932 0.9401382  0.9401382\n",
            "  0.89483932 0.81068432 0.69905581 0.57375342]\n",
            " [0.60279818 0.73444367 0.85172308 0.9401382  0.98773022 0.98773022\n",
            "  0.9401382  0.85172308 0.73444367 0.60279818]\n",
            " [0.60279818 0.73444367 0.85172308 0.9401382  0.98773022 0.98773022\n",
            "  0.9401382  0.85172308 0.73444367 0.60279818]\n",
            " [0.57375342 0.69905581 0.81068432 0.89483932 0.9401382  0.9401382\n",
            "  0.89483932 0.81068432 0.69905581 0.57375342]\n",
            " [0.51979489 0.63331324 0.73444367 0.81068432 0.85172308 0.85172308\n",
            "  0.81068432 0.73444367 0.63331324 0.51979489]\n",
            " [0.44822088 0.54610814 0.63331324 0.69905581 0.73444367 0.73444367\n",
            "  0.69905581 0.63331324 0.54610814 0.44822088]\n",
            " [0.36787944 0.44822088 0.51979489 0.57375342 0.60279818 0.60279818\n",
            "  0.57375342 0.51979489 0.44822088 0.36787944]]\n"
          ]
        }
      ]
    },
    {
      "cell_type": "code",
      "metadata": {
        "colab": {
          "base_uri": "https://localhost:8080/"
        },
        "id": "62717f3a",
        "outputId": "5b83ed3d-b67c-4315-8fa8-79392b71de82"
      },
      "source": [
        "# 49.How do you randomly place a specific number of elements in a 2D array?\n",
        "n = 10\n",
        "arr = np.zeros((10, 10))\n",
        "i = np.random.randint(0, 10, n)\n",
        "j = np.random.randint(0, 10, n)\n",
        "arr[i, j] = 1\n",
        "print(arr)"
      ],
      "execution_count": 192,
      "outputs": [
        {
          "output_type": "stream",
          "name": "stdout",
          "text": [
            "[[0. 0. 0. 0. 0. 0. 0. 0. 0. 0.]\n",
            " [0. 0. 0. 0. 1. 0. 0. 0. 0. 0.]\n",
            " [1. 0. 0. 0. 0. 0. 0. 0. 0. 0.]\n",
            " [0. 0. 0. 0. 0. 0. 0. 0. 0. 0.]\n",
            " [0. 0. 0. 0. 0. 0. 0. 0. 0. 0.]\n",
            " [0. 0. 0. 0. 0. 0. 0. 0. 1. 1.]\n",
            " [0. 0. 1. 0. 0. 0. 0. 0. 0. 0.]\n",
            " [0. 0. 0. 0. 1. 0. 0. 0. 1. 1.]\n",
            " [0. 0. 0. 1. 0. 0. 0. 0. 0. 0.]\n",
            " [0. 1. 0. 0. 0. 0. 0. 0. 0. 0.]]\n"
          ]
        }
      ]
    },
    {
      "cell_type": "code",
      "metadata": {
        "colab": {
          "base_uri": "https://localhost:8080/"
        },
        "id": "5d2b0532",
        "outputId": "b520fccb-a6c5-4962-d8ec-3e46e197d635"
      },
      "source": [
        "# 50.How do you subtract the row mean from a matrix?\n",
        "X = np.random.rand(5, 10)\n",
        "Y = X - X.mean(axis=1, keepdims=True)\n",
        "print(Y)"
      ],
      "execution_count": 193,
      "outputs": [
        {
          "output_type": "stream",
          "name": "stdout",
          "text": [
            "[[-0.04526527 -0.16936682  0.32746288 -0.22927985 -0.32926458  0.56230573\n",
            "  -0.07205636 -0.17190824 -0.34052558  0.46789809]\n",
            " [-0.30026921 -0.27556244  0.54159173 -0.38434197  0.40326424 -0.05720497\n",
            "  -0.29291666  0.37947204  0.18786307 -0.20189582]\n",
            " [ 0.35079996  0.05852476  0.16583249 -0.22896092  0.09415343  0.12859272\n",
            "  -0.31308988  0.20759608  0.06559516 -0.52904381]\n",
            " [ 0.34102077 -0.35416175 -0.037784   -0.51395589  0.42952861  0.07215484\n",
            "   0.42604409 -0.21438441  0.36492454 -0.5133868 ]\n",
            " [-0.07098804 -0.14644892 -0.11251857  0.56200556 -0.03483975 -0.14908556\n",
            "  -0.10596005 -0.0660639   0.21772358 -0.09382434]]\n"
          ]
        }
      ]
    },
    {
      "cell_type": "code",
      "metadata": {
        "colab": {
          "base_uri": "https://localhost:8080/"
        },
        "id": "a7c0200e",
        "outputId": "fa11bb44-0482-4336-8958-83a000da490a"
      },
      "source": [
        "# 51.How do you sort a 2D array based on the values of one column?\n",
        "arr = np.random.rand(5, 3)\n",
        "arr = arr[arr[:, 1].argsort()]\n",
        "print(arr)"
      ],
      "execution_count": 194,
      "outputs": [
        {
          "output_type": "stream",
          "name": "stdout",
          "text": [
            "[[0.92655117 0.0956227  0.40014633]\n",
            " [0.75578616 0.17988303 0.04221449]\n",
            " [0.51278038 0.35069882 0.34395908]\n",
            " [0.17200738 0.5127699  0.135652  ]\n",
            " [0.66372957 0.77904534 0.69917833]]\n"
          ]
        }
      ]
    },
    {
      "cell_type": "code",
      "metadata": {
        "colab": {
          "base_uri": "https://localhost:8080/"
        },
        "id": "657aaa7a",
        "outputId": "ed4e7b14-5083-4c18-a54f-e7b716a8bf44"
      },
      "source": [
        "# 52.How do you check if a 2D array contains any null (zero-only) columns?\n",
        "Z = np.random.randint(0,3,(3,10))\n",
        "print((~Z.any(axis=0)).any())"
      ],
      "execution_count": 195,
      "outputs": [
        {
          "output_type": "stream",
          "name": "stdout",
          "text": [
            "True\n"
          ]
        }
      ]
    },
    {
      "cell_type": "code",
      "metadata": {
        "colab": {
          "base_uri": "https://localhost:8080/"
        },
        "id": "15f8cd27",
        "outputId": "51dc74b4-6840-4aa1-cc69-c9a2df9f5513"
      },
      "source": [
        "# 53.How do you find the nearest value to a given number in a NumPy array?\n",
        "Z = np.random.uniform(0,10,10)\n",
        "z = 5\n",
        "index = (np.abs(Z - z)).argmin()\n",
        "print(Z[index])"
      ],
      "execution_count": 196,
      "outputs": [
        {
          "output_type": "stream",
          "name": "stdout",
          "text": [
            "6.1279793760632115\n"
          ]
        }
      ]
    },
    {
      "cell_type": "code",
      "metadata": {
        "colab": {
          "base_uri": "https://localhost:8080/"
        },
        "id": "1cd36be3",
        "outputId": "d5022641-a478-4060-98e4-fcbc0231e46c"
      },
      "source": [
        "# 54.How do you create a NumPy subclass with custom attributes?\n",
        "# This is a more advanced topic and requires defining a custom class.\n",
        "# Example structure:\n",
        "# class MyArray(np.ndarray):\n",
        "#     def __new__(cls, input_array, custom_attribute):\n",
        "#         obj = np.asarray(input_array).view(cls)\n",
        "#         obj.custom_attribute = custom_attribute\n",
        "#         return obj\n",
        "#     def __array_finalize__(self, obj):\n",
        "#         if obj is None: return\n",
        "#         self.custom_attribute = getattr(obj, 'custom_attribute', None)\n",
        "print(\"Creating a NumPy subclass requires defining a custom class.\")\n",
        "print(\"See NumPy documentation for details on subclassing ndarray.\")"
      ],
      "execution_count": 197,
      "outputs": [
        {
          "output_type": "stream",
          "name": "stdout",
          "text": [
            "Creating a NumPy subclass requires defining a custom class.\n",
            "See NumPy documentation for details on subclassing ndarray.\n"
          ]
        }
      ]
    },
    {
      "cell_type": "code",
      "metadata": {
        "colab": {
          "base_uri": "https://localhost:8080/"
        },
        "id": "9b6b195b",
        "outputId": "57768782-02e7-48c5-acaa-ca7e613770f9"
      },
      "source": [
        "# 55.How do you increment elements in an array using an index array with repeats?\n",
        "arr = np.ones(10)\n",
        "i = np.array([0, 1, 2, 3, 4, 4, 6, 7, 8, 9])\n",
        "np.add.at(arr, i, 1)\n",
        "print(arr)"
      ],
      "execution_count": 198,
      "outputs": [
        {
          "output_type": "stream",
          "name": "stdout",
          "text": [
            "[2. 2. 2. 2. 3. 1. 2. 2. 2. 2.]\n"
          ]
        }
      ]
    },
    {
      "cell_type": "code",
      "metadata": {
        "colab": {
          "base_uri": "https://localhost:8080/"
        },
        "id": "418fa0b1",
        "outputId": "3adb487e-a575-4312-b5da-e26505f4c0c2"
      },
      "source": [
        "# 56.How do you accumulate values into an array based on indices?\n",
        "arr = np.zeros(10)\n",
        "i = np.array([0, 1, 2, 3, 4, 4, 6, 7, 8, 9])\n",
        "v = np.arange(10)\n",
        "np.add.at(arr, i, v)\n",
        "print(arr)"
      ],
      "execution_count": 199,
      "outputs": [
        {
          "output_type": "stream",
          "name": "stdout",
          "text": [
            "[0. 1. 2. 3. 9. 0. 6. 7. 8. 9.]\n"
          ]
        }
      ]
    },
    {
      "cell_type": "code",
      "metadata": {
        "colab": {
          "base_uri": "https://localhost:8080/"
        },
        "id": "24297173",
        "outputId": "e9d9d616-ee72-4a98-dbd7-bdaa5c06b826"
      },
      "source": [
        "# 57.How do you count unique colors in a 3D image array?\n",
        "# Assuming a 3D array representing an image with shape (height, width, channels)\n",
        "# image = np.random.randint(0, 256, (10, 10, 3), dtype=np.uint8)\n",
        "# reshape the image to be a 2D array of pixels\n",
        "# pixels = image.reshape(-1, 3)\n",
        "# Use np.unique to find unique rows (colors)\n",
        "# unique_colors = np.unique(pixels, axis=0)\n",
        "# print(len(unique_colors))\n",
        "print(\"Counting unique colors requires a 3D image array.\")\n",
        "print(\"Reshape the array to 2D and use np.unique with axis=0.\")"
      ],
      "execution_count": 200,
      "outputs": [
        {
          "output_type": "stream",
          "name": "stdout",
          "text": [
            "Counting unique colors requires a 3D image array.\n",
            "Reshape the array to 2D and use np.unique with axis=0.\n"
          ]
        }
      ]
    },
    {
      "cell_type": "code",
      "metadata": {
        "colab": {
          "base_uri": "https://localhost:8080/"
        },
        "id": "f9669b35",
        "outputId": "6f77eb39-6631-42be-bd02-e2c3a24376a0"
      },
      "source": [
        "# 58.How do you compute the sum across the last two axes of a 4D array?\n",
        "arr = np.random.rand(2, 3, 4, 5)\n",
        "sum_last_two_axes = arr.sum(axis=(-2, -1))\n",
        "print(sum_last_two_axes)"
      ],
      "execution_count": 201,
      "outputs": [
        {
          "output_type": "stream",
          "name": "stdout",
          "text": [
            "[[ 9.07528663  9.39890998  9.91663744]\n",
            " [10.40080213 11.25853389  8.7874203 ]]\n"
          ]
        }
      ]
    },
    {
      "cell_type": "code",
      "metadata": {
        "colab": {
          "base_uri": "https://localhost:8080/"
        },
        "id": "bb9ba3b2",
        "outputId": "6675c584-2756-4459-f20f-530a0d92c80a"
      },
      "source": [
        "# 59.How do you calculate means of grouped values in an array?\n",
        "# This is typically done with libraries like pandas, or by sorting and using split.\n",
        "# Example with pandas:\n",
        "# import pandas as pd\n",
        "# df = pd.DataFrame({'group': ['A', 'A', 'B', 'B', 'A'], 'value': [10, 15, 12, 18, 20]})\n",
        "# means = df.groupby('group')['value'].mean()\n",
        "# print(means)\n",
        "print(\"Calculating means of grouped values is often done with pandas or by sorting and splitting.\")\n",
        "print(\"See pandas documentation for groupby.\")"
      ],
      "execution_count": 202,
      "outputs": [
        {
          "output_type": "stream",
          "name": "stdout",
          "text": [
            "Calculating means of grouped values is often done with pandas or by sorting and splitting.\n",
            "See pandas documentation for groupby.\n"
          ]
        }
      ]
    },
    {
      "cell_type": "code",
      "metadata": {
        "colab": {
          "base_uri": "https://localhost:8080/"
        },
        "id": "b51c4e05",
        "outputId": "c45a0625-b8de-4d04-c12f-4538b62b6dc4"
      },
      "source": [
        "# 60.How do you efficiently get the diagonal of a matrix dot product?\n",
        "A = np.random.rand(5, 5)\n",
        "B = np.random.rand(5, 5)\n",
        "# The diagonal of the dot product (A @ B) is the sum of the element-wise product of corresponding rows of A and columns of B.\n",
        "# This can be calculated efficiently using np.einsum or broadcasting and sum.\n",
        "diagonal = np.einsum('ij,ji->i', A, B)\n",
        "print(diagonal)"
      ],
      "execution_count": 203,
      "outputs": [
        {
          "output_type": "stream",
          "name": "stdout",
          "text": [
            "[2.1314721  1.51823888 1.54883395 1.05380378 1.85483031]\n"
          ]
        }
      ]
    },
    {
      "cell_type": "code",
      "metadata": {
        "colab": {
          "base_uri": "https://localhost:8080/"
        },
        "id": "521b7e40",
        "outputId": "470b19f4-0eb0-4eb2-b917-92968be5a48d"
      },
      "source": [
        "# 61.How do you interleave a vector with a fixed number of zeros?\n",
        "arr = np.arange(10)\n",
        "n = 3 # number of zeros to interleave\n",
        "zeros = np.zeros(len(arr) + (len(arr)-1)*n)\n",
        "zeros[::n+1] = arr\n",
        "print(zeros)"
      ],
      "execution_count": 204,
      "outputs": [
        {
          "output_type": "stream",
          "name": "stdout",
          "text": [
            "[0. 0. 0. 0. 1. 0. 0. 0. 2. 0. 0. 0. 3. 0. 0. 0. 4. 0. 0. 0. 5. 0. 0. 0.\n",
            " 6. 0. 0. 0. 7. 0. 0. 0. 8. 0. 0. 0. 9.]\n"
          ]
        }
      ]
    },
    {
      "cell_type": "code",
      "metadata": {
        "colab": {
          "base_uri": "https://localhost:8080/"
        },
        "id": "7becef48",
        "outputId": "2eb5839d-0307-4cd4-bb22-66608b81290b"
      },
      "source": [
        "# 62.How do you multiply a (5,5,3) array with a (5,5) array element-wise?\n",
        "A = np.random.rand(5, 5, 3)\n",
        "B = np.random.rand(5, 5)\n",
        "result = A * B[:, :, np.newaxis]\n",
        "print(result)"
      ],
      "execution_count": 205,
      "outputs": [
        {
          "output_type": "stream",
          "name": "stdout",
          "text": [
            "[[[6.87589058e-01 1.91418903e-01 2.19216298e-01]\n",
            "  [5.36155971e-03 7.37384274e-02 6.78017575e-02]\n",
            "  [3.13759548e-03 1.15387713e-01 8.32516602e-02]\n",
            "  [1.95284674e-01 1.28364846e-01 6.71302755e-02]\n",
            "  [6.10522403e-02 2.94363543e-02 2.39350879e-03]]\n",
            "\n",
            " [[1.02902620e-01 1.23379290e-01 2.33059214e-01]\n",
            "  [6.53277486e-01 1.38769636e-01 1.73683482e-01]\n",
            "  [8.15520754e-04 3.21077540e-04 5.37856526e-04]\n",
            "  [9.97417079e-02 3.14679986e-01 4.11483408e-01]\n",
            "  [6.61637013e-02 2.99211263e-02 8.39946729e-03]]\n",
            "\n",
            " [[5.13206406e-01 6.92849980e-01 3.96119753e-01]\n",
            "  [6.32692828e-02 3.17529913e-01 1.00333830e-01]\n",
            "  [1.43420899e-02 2.38213957e-02 1.92079475e-02]\n",
            "  [1.50072534e-03 9.00016911e-02 5.99221460e-02]\n",
            "  [2.41184696e-02 5.73308929e-01 5.07732966e-01]]\n",
            "\n",
            " [[1.78822226e-01 3.10702442e-01 4.62458105e-01]\n",
            "  [5.81413588e-01 2.99005517e-01 7.59430482e-01]\n",
            "  [3.17734833e-02 4.00107366e-01 1.71195364e-01]\n",
            "  [5.91153832e-01 4.14541432e-01 4.38088854e-01]\n",
            "  [1.42483216e-01 3.93444475e-01 1.38830469e-01]]\n",
            "\n",
            " [[1.83440772e-02 1.32256133e-03 3.50659967e-03]\n",
            "  [1.32448323e-02 1.35284017e-01 6.41591091e-01]\n",
            "  [2.93699128e-01 1.92778741e-01 1.72553626e-01]\n",
            "  [7.59455173e-03 1.10170222e-01 8.28112171e-02]\n",
            "  [3.24564012e-02 3.50668887e-02 1.38669765e-01]]]\n"
          ]
        }
      ]
    },
    {
      "cell_type": "code",
      "metadata": {
        "colab": {
          "base_uri": "https://localhost:8080/"
        },
        "id": "a8bbc82c",
        "outputId": "1b111c92-3dbe-4787-acd1-b286f0a66ebd"
      },
      "source": [
        "# 63.How do you swap two rows in a matrix?\n",
        "arr = np.arange(25).reshape(5, 5)\n",
        "arr[[0, 1]] = arr[[1, 0]]\n",
        "print(arr)"
      ],
      "execution_count": 206,
      "outputs": [
        {
          "output_type": "stream",
          "name": "stdout",
          "text": [
            "[[ 5  6  7  8  9]\n",
            " [ 0  1  2  3  4]\n",
            " [10 11 12 13 14]\n",
            " [15 16 17 18 19]\n",
            " [20 21 22 23 24]]\n"
          ]
        }
      ]
    },
    {
      "cell_type": "code",
      "metadata": {
        "colab": {
          "base_uri": "https://localhost:8080/"
        },
        "id": "97b6c140",
        "outputId": "fb5a7f86-df2c-4fb3-c406-20d51b71bf69"
      },
      "source": [
        "# 64.How do you extract unique line segments from triangle definitions?\n",
        "import numpy as np\n",
        "# Assuming a set of triangles defined by indices of points in an array\n",
        "points = np.random.rand(10, 2)\n",
        "triangles = np.random.randint(0, 10, (5, 3))\n",
        "\n",
        "# Extract the segments (edges) from the triangles\n",
        "# Each triangle has 3 edges: (p1, p2), (p2, p3), (p3, p1)\n",
        "segments = np.concatenate([points[triangles[:, [0, 1]]],\n",
        "                           points[triangles[:, [1, 2]]],\n",
        "                           points[triangles[:, [2, 0]]]], axis=0)\n",
        "\n",
        "# Sort the points within each segment to treat (p1, p2) and (p2, p1) as the same segment\n",
        "segments = np.sort(segments, axis=1)\n",
        "\n",
        "# Find unique segments\n",
        "unique_segments = np.unique(segments, axis=0)\n",
        "print(unique_segments)"
      ],
      "execution_count": 207,
      "outputs": [
        {
          "output_type": "stream",
          "name": "stdout",
          "text": [
            "[[[0.14556403 0.33625879]\n",
            "  [0.4771212  0.46112595]]\n",
            "\n",
            " [[0.14556403 0.45049635]\n",
            "  [0.79919427 0.46112595]]\n",
            "\n",
            " [[0.14556403 0.46112595]\n",
            "  [0.14556403 0.46112595]]\n",
            "\n",
            " [[0.14556403 0.46112595]\n",
            "  [0.84986626 0.83644284]]\n",
            "\n",
            " [[0.23293194 0.27401329]\n",
            "  [0.4771212  0.33625879]]\n",
            "\n",
            " [[0.23293194 0.27401329]\n",
            "  [0.80785092 0.36724958]]\n",
            "\n",
            " [[0.35163201 0.05542655]\n",
            "  [0.4771212  0.33625879]]\n",
            "\n",
            " [[0.35163201 0.05542655]\n",
            "  [0.80785092 0.36724958]]\n",
            "\n",
            " [[0.4771212  0.33625879]\n",
            "  [0.80785092 0.36724958]]\n",
            "\n",
            " [[0.79919427 0.36724958]\n",
            "  [0.80785092 0.45049635]]\n",
            "\n",
            " [[0.79919427 0.45049635]\n",
            "  [0.84986626 0.83644284]]\n",
            "\n",
            " [[0.80785092 0.36724958]\n",
            "  [0.84986626 0.83644284]]]\n"
          ]
        }
      ]
    },
    {
      "cell_type": "code",
      "metadata": {
        "colab": {
          "base_uri": "https://localhost:8080/"
        },
        "id": "a27edc08",
        "outputId": "deafda4e-07a1-4099-dff8-a74a78106d73"
      },
      "source": [
        "# 65.How do you recreate an array from a bincount?\n",
        "# Assuming a bincount array 'bincount_arr'\n",
        "bincount_arr = np.array([0, 1, 2, 0, 1, 3]) # Example bincount array\n",
        "arr = np.repeat(np.arange(len(bincount_arr)), bincount_arr)\n",
        "print(arr)"
      ],
      "execution_count": 208,
      "outputs": [
        {
          "output_type": "stream",
          "name": "stdout",
          "text": [
            "[1 2 2 4 5 5 5]\n"
          ]
        }
      ]
    },
    {
      "cell_type": "code",
      "metadata": {
        "colab": {
          "base_uri": "https://localhost:8080/"
        },
        "id": "2daec717",
        "outputId": "dfaebfd2-4327-4b96-ca59-0cedb9bc287d"
      },
      "source": [
        "# 66.How do you compute a moving average using a sliding window?\n",
        "from numpy.lib.stride_tricks import sliding_window_view\n",
        "arr = np.arange(10)\n",
        "window_size = 3\n",
        "moving_avg = sliding_window_view(arr, window_size).mean(axis=-1)\n",
        "print(moving_avg)"
      ],
      "execution_count": 209,
      "outputs": [
        {
          "output_type": "stream",
          "name": "stdout",
          "text": [
            "[1. 2. 3. 4. 5. 6. 7. 8.]\n"
          ]
        }
      ]
    },
    {
      "cell_type": "code",
      "metadata": {
        "colab": {
          "base_uri": "https://localhost:8080/"
        },
        "id": "05d081da",
        "outputId": "bff7be09-e3d8-42fd-affb-e84f3aa2ca74"
      },
      "source": [
        "# 67.How do you create a rolling 2D view from a 1D array?\n",
        "from numpy.lib.stride_tricks import sliding_window_view\n",
        "arr = np.arange(10)\n",
        "window_size = 3\n",
        "rolling_view = sliding_window_view(arr, window_size)\n",
        "print(rolling_view)"
      ],
      "execution_count": 210,
      "outputs": [
        {
          "output_type": "stream",
          "name": "stdout",
          "text": [
            "[[0 1 2]\n",
            " [1 2 3]\n",
            " [2 3 4]\n",
            " [3 4 5]\n",
            " [4 5 6]\n",
            " [5 6 7]\n",
            " [6 7 8]\n",
            " [7 8 9]]\n"
          ]
        }
      ]
    },
    {
      "cell_type": "code",
      "metadata": {
        "colab": {
          "base_uri": "https://localhost:8080/"
        },
        "id": "3250c062",
        "outputId": "6e4e6044-805e-468f-c094-e29b28e7f0ba"
      },
      "source": [
        "# 68.How do you invert booleans or negate floats in-place?\n",
        "bool_arr = np.array([True, False, True])\n",
        "bool_arr[:] = ~bool_arr # Invert booleans in-place\n",
        "print(bool_arr)\n",
        "\n",
        "float_arr = np.array([1.5, -2.3, 0.0])\n",
        "float_arr[:] = -float_arr # Negate floats in-place\n",
        "print(float_arr)"
      ],
      "execution_count": 211,
      "outputs": [
        {
          "output_type": "stream",
          "name": "stdout",
          "text": [
            "[False  True False]\n",
            "[-1.5  2.3 -0. ]\n"
          ]
        }
      ]
    },
    {
      "cell_type": "code",
      "metadata": {
        "colab": {
          "base_uri": "https://localhost:8080/"
        },
        "id": "ae8ef190",
        "outputId": "fd207f75-0c87-4aee-b34e-1aaac56f6ea0"
      },
      "source": [
        "# 69.How do you compute the distance from a point to multiple lines?\n",
        "# This requires defining points and lines, and using geometric formulas.\n",
        "# Example: Distance from a point (x0, y0) to a line defined by two points (x1, y1) and (x2, y2)\n",
        "# Formula: |(x2 - x1)(y1 - y0) - (x1 - x0)(y2 - y1)| / sqrt((x2 - x1)**2 + (y2 - y1)**2)\n",
        "\n",
        "point = np.array([1, 1])\n",
        "lines = np.array([[[0, 0], [2, 2]], [[0, 5], [5, 0]]]) # Two lines\n",
        "\n",
        "# Vector for the line\n",
        "line_vectors = lines[:, 1, :] - lines[:, 0, :]\n",
        "\n",
        "# Vector from point to the first point of the line\n",
        "point_vectors = point - lines[:, 0, :]\n",
        "\n",
        "# Cross product for the numerator (2D equivalent)\n",
        "numerator = np.abs(line_vectors[:, 0] * point_vectors[:, 1] - line_vectors[:, 1] * point_vectors[:, 0])\n",
        "\n",
        "# Denominator (length of the line vector)\n",
        "denominator = np.sqrt(np.sum(line_vectors**2, axis=1))\n",
        "\n",
        "# Handle case where denominator is zero (line is a point)\n",
        "denominator[denominator == 0] = 1e-10\n",
        "\n",
        "distances = numerator / denominator\n",
        "print(distances)"
      ],
      "execution_count": 212,
      "outputs": [
        {
          "output_type": "stream",
          "name": "stdout",
          "text": [
            "[0.         2.12132034]\n"
          ]
        }
      ]
    },
    {
      "cell_type": "code",
      "metadata": {
        "colab": {
          "base_uri": "https://localhost:8080/"
        },
        "id": "282a5b66",
        "outputId": "78142a62-f8f8-4e55-a0ca-543e375a24b1"
      },
      "source": [
        "# 70.How do you compute the distances from multiple points to multiple lines?\n",
        "# This requires defining multiple points and lines, and using geometric formulas.\n",
        "# Example with broadcasting\n",
        "\n",
        "points = np.array([[1, 1], [3, 3]]) # Two points\n",
        "lines = np.array([[[0, 0], [2, 2]], [[0, 5], [5, 0]]]) # Two lines\n",
        "\n",
        "# Reshape points and lines for broadcasting\n",
        "points_reshaped = points[:, np.newaxis, :] # Shape (num_points, 1, 2)\n",
        "lines_reshaped = lines[np.newaxis, :, :, :] # Shape (1, num_lines, 2, 2)\n",
        "\n",
        "# Vector for the lines\n",
        "line_vectors = lines_reshaped[:, :, 1, :] - lines_reshaped[:, :, 0, :]\n",
        "\n",
        "# Vector from points to the first point of the lines\n",
        "point_vectors = points_reshaped - lines_reshaped[:, :, 0, :]\n",
        "\n",
        "# Cross product for the numerator (2D equivalent)\n",
        "numerator = np.abs(line_vectors[:, :, 0] * point_vectors[:, :, 1] - line_vectors[:, :, 1] * point_vectors[:, :, 0])\n",
        "\n",
        "# Denominator (length of the line vector)\n",
        "denominator = np.sqrt(np.sum(line_vectors**2, axis=2))\n",
        "\n",
        "# Handle case where denominator is zero (line is a point)\n",
        "denominator[denominator == 0] = 1e-10\n",
        "\n",
        "distances = numerator / denominator\n",
        "print(distances)"
      ],
      "execution_count": 213,
      "outputs": [
        {
          "output_type": "stream",
          "name": "stdout",
          "text": [
            "[[0.         2.12132034]\n",
            " [0.         0.70710678]]\n"
          ]
        }
      ]
    },
    {
      "cell_type": "code",
      "metadata": {
        "colab": {
          "base_uri": "https://localhost:8080/"
        },
        "id": "e7d1720a",
        "outputId": "43a9ee9f-b682-4ab2-8770-d1bc11353b72"
      },
      "source": [
        "# 71.How do you extract a fixed-shaped subarray centered on a given point?\n",
        "arr = np.arange(100).reshape(10, 10)\n",
        "center = (5, 5)\n",
        "shape = (3, 3)\n",
        "\n",
        "# Calculate the starting and ending indices for the subarray\n",
        "start_row = center[0] - shape[0] // 2\n",
        "end_row = start_row + shape[0]\n",
        "start_col = center[1] - shape[1] // 2\n",
        "end_col = start_col + shape[1]\n",
        "\n",
        "# Ensure indices are within array bounds\n",
        "start_row = max(0, start_row)\n",
        "end_row = min(arr.shape[0], end_row)\n",
        "start_col = max(0, start_col)\n",
        "end_col = min(arr.shape[1], end_col)\n",
        "\n",
        "subarray = arr[start_row:end_row, start_col:end_col]\n",
        "print(subarray)"
      ],
      "execution_count": 214,
      "outputs": [
        {
          "output_type": "stream",
          "name": "stdout",
          "text": [
            "[[44 45 46]\n",
            " [54 55 56]\n",
            " [64 65 66]]\n"
          ]
        }
      ]
    },
    {
      "cell_type": "code",
      "metadata": {
        "colab": {
          "base_uri": "https://localhost:8080/"
        },
        "id": "a18fd269",
        "outputId": "5cb0ee21-2045-480f-e9cd-5b341b7ea367"
      },
      "source": [
        "# 72.How do you generate overlapping subarrays from a vector?\n",
        "from numpy.lib.stride_tricks import sliding_window_view\n",
        "arr = np.arange(10)\n",
        "window_size = 3\n",
        "overlapping_subarrays = sliding_window_view(arr, window_size)\n",
        "print(overlapping_subarrays)"
      ],
      "execution_count": 215,
      "outputs": [
        {
          "output_type": "stream",
          "name": "stdout",
          "text": [
            "[[0 1 2]\n",
            " [1 2 3]\n",
            " [2 3 4]\n",
            " [3 4 5]\n",
            " [4 5 6]\n",
            " [5 6 7]\n",
            " [6 7 8]\n",
            " [7 8 9]]\n"
          ]
        }
      ]
    },
    {
      "cell_type": "code",
      "metadata": {
        "colab": {
          "base_uri": "https://localhost:8080/"
        },
        "id": "04a586fc",
        "outputId": "75e4682d-addd-43a2-980a-af26324af1ca"
      },
      "source": [
        "# 73.How do you compute the rank of a matrix using SVD?\n",
        "arr = np.random.rand(5, 5)\n",
        "_, s, _ = np.linalg.svd(arr)\n",
        "rank = np.sum(s > 1e-10) # Check singular values against a small tolerance\n",
        "print(rank)"
      ],
      "execution_count": 216,
      "outputs": [
        {
          "output_type": "stream",
          "name": "stdout",
          "text": [
            "5\n"
          ]
        }
      ]
    },
    {
      "cell_type": "code",
      "metadata": {
        "colab": {
          "base_uri": "https://localhost:8080/"
        },
        "id": "015a4457",
        "outputId": "47ade2fc-5ce5-4f6b-c1a6-65d24d9b690e"
      },
      "source": [
        "# 74.How do you find the most frequent value in an array?\n",
        "arr = np.array([1, 2, 2, 3, 3, 3, 4, 4, 4, 4])\n",
        "counts = np.bincount(arr)\n",
        "most_frequent_value = np.argmax(counts)\n",
        "print(most_frequent_value)"
      ],
      "execution_count": 217,
      "outputs": [
        {
          "output_type": "stream",
          "name": "stdout",
          "text": [
            "4\n"
          ]
        }
      ]
    },
    {
      "cell_type": "code",
      "metadata": {
        "colab": {
          "base_uri": "https://localhost:8080/"
        },
        "id": "2c4bc768",
        "outputId": "b281cf21-43c3-4681-c900-c70c535d76bd"
      },
      "source": [
        "# 75.How do you extract all 3x3 contiguous blocks from a 10x10 matrix?\n",
        "from numpy.lib.stride_tricks import sliding_window_view\n",
        "arr = np.arange(100).reshape(10, 10)\n",
        "blocks = sliding_window_view(arr, (3, 3))\n",
        "print(blocks)"
      ],
      "execution_count": 218,
      "outputs": [
        {
          "output_type": "stream",
          "name": "stdout",
          "text": [
            "[[[[ 0  1  2]\n",
            "   [10 11 12]\n",
            "   [20 21 22]]\n",
            "\n",
            "  [[ 1  2  3]\n",
            "   [11 12 13]\n",
            "   [21 22 23]]\n",
            "\n",
            "  [[ 2  3  4]\n",
            "   [12 13 14]\n",
            "   [22 23 24]]\n",
            "\n",
            "  [[ 3  4  5]\n",
            "   [13 14 15]\n",
            "   [23 24 25]]\n",
            "\n",
            "  [[ 4  5  6]\n",
            "   [14 15 16]\n",
            "   [24 25 26]]\n",
            "\n",
            "  [[ 5  6  7]\n",
            "   [15 16 17]\n",
            "   [25 26 27]]\n",
            "\n",
            "  [[ 6  7  8]\n",
            "   [16 17 18]\n",
            "   [26 27 28]]\n",
            "\n",
            "  [[ 7  8  9]\n",
            "   [17 18 19]\n",
            "   [27 28 29]]]\n",
            "\n",
            "\n",
            " [[[10 11 12]\n",
            "   [20 21 22]\n",
            "   [30 31 32]]\n",
            "\n",
            "  [[11 12 13]\n",
            "   [21 22 23]\n",
            "   [31 32 33]]\n",
            "\n",
            "  [[12 13 14]\n",
            "   [22 23 24]\n",
            "   [32 33 34]]\n",
            "\n",
            "  [[13 14 15]\n",
            "   [23 24 25]\n",
            "   [33 34 35]]\n",
            "\n",
            "  [[14 15 16]\n",
            "   [24 25 26]\n",
            "   [34 35 36]]\n",
            "\n",
            "  [[15 16 17]\n",
            "   [25 26 27]\n",
            "   [35 36 37]]\n",
            "\n",
            "  [[16 17 18]\n",
            "   [26 27 28]\n",
            "   [36 37 38]]\n",
            "\n",
            "  [[17 18 19]\n",
            "   [27 28 29]\n",
            "   [37 38 39]]]\n",
            "\n",
            "\n",
            " [[[20 21 22]\n",
            "   [30 31 32]\n",
            "   [40 41 42]]\n",
            "\n",
            "  [[21 22 23]\n",
            "   [31 32 33]\n",
            "   [41 42 43]]\n",
            "\n",
            "  [[22 23 24]\n",
            "   [32 33 34]\n",
            "   [42 43 44]]\n",
            "\n",
            "  [[23 24 25]\n",
            "   [33 34 35]\n",
            "   [43 44 45]]\n",
            "\n",
            "  [[24 25 26]\n",
            "   [34 35 36]\n",
            "   [44 45 46]]\n",
            "\n",
            "  [[25 26 27]\n",
            "   [35 36 37]\n",
            "   [45 46 47]]\n",
            "\n",
            "  [[26 27 28]\n",
            "   [36 37 38]\n",
            "   [46 47 48]]\n",
            "\n",
            "  [[27 28 29]\n",
            "   [37 38 39]\n",
            "   [47 48 49]]]\n",
            "\n",
            "\n",
            " [[[30 31 32]\n",
            "   [40 41 42]\n",
            "   [50 51 52]]\n",
            "\n",
            "  [[31 32 33]\n",
            "   [41 42 43]\n",
            "   [51 52 53]]\n",
            "\n",
            "  [[32 33 34]\n",
            "   [42 43 44]\n",
            "   [52 53 54]]\n",
            "\n",
            "  [[33 34 35]\n",
            "   [43 44 45]\n",
            "   [53 54 55]]\n",
            "\n",
            "  [[34 35 36]\n",
            "   [44 45 46]\n",
            "   [54 55 56]]\n",
            "\n",
            "  [[35 36 37]\n",
            "   [45 46 47]\n",
            "   [55 56 57]]\n",
            "\n",
            "  [[36 37 38]\n",
            "   [46 47 48]\n",
            "   [56 57 58]]\n",
            "\n",
            "  [[37 38 39]\n",
            "   [47 48 49]\n",
            "   [57 58 59]]]\n",
            "\n",
            "\n",
            " [[[40 41 42]\n",
            "   [50 51 52]\n",
            "   [60 61 62]]\n",
            "\n",
            "  [[41 42 43]\n",
            "   [51 52 53]\n",
            "   [61 62 63]]\n",
            "\n",
            "  [[42 43 44]\n",
            "   [52 53 54]\n",
            "   [62 63 64]]\n",
            "\n",
            "  [[43 44 45]\n",
            "   [53 54 55]\n",
            "   [63 64 65]]\n",
            "\n",
            "  [[44 45 46]\n",
            "   [54 55 56]\n",
            "   [64 65 66]]\n",
            "\n",
            "  [[45 46 47]\n",
            "   [55 56 57]\n",
            "   [65 66 67]]\n",
            "\n",
            "  [[46 47 48]\n",
            "   [56 57 58]\n",
            "   [66 67 68]]\n",
            "\n",
            "  [[47 48 49]\n",
            "   [57 58 59]\n",
            "   [67 68 69]]]\n",
            "\n",
            "\n",
            " [[[50 51 52]\n",
            "   [60 61 62]\n",
            "   [70 71 72]]\n",
            "\n",
            "  [[51 52 53]\n",
            "   [61 62 63]\n",
            "   [71 72 73]]\n",
            "\n",
            "  [[52 53 54]\n",
            "   [62 63 64]\n",
            "   [72 73 74]]\n",
            "\n",
            "  [[53 54 55]\n",
            "   [63 64 65]\n",
            "   [73 74 75]]\n",
            "\n",
            "  [[54 55 56]\n",
            "   [64 65 66]\n",
            "   [74 75 76]]\n",
            "\n",
            "  [[55 56 57]\n",
            "   [65 66 67]\n",
            "   [75 76 77]]\n",
            "\n",
            "  [[56 57 58]\n",
            "   [66 67 68]\n",
            "   [76 77 78]]\n",
            "\n",
            "  [[57 58 59]\n",
            "   [67 68 69]\n",
            "   [77 78 79]]]\n",
            "\n",
            "\n",
            " [[[60 61 62]\n",
            "   [70 71 72]\n",
            "   [80 81 82]]\n",
            "\n",
            "  [[61 62 63]\n",
            "   [71 72 73]\n",
            "   [81 82 83]]\n",
            "\n",
            "  [[62 63 64]\n",
            "   [72 73 74]\n",
            "   [82 83 84]]\n",
            "\n",
            "  [[63 64 65]\n",
            "   [73 74 75]\n",
            "   [83 84 85]]\n",
            "\n",
            "  [[64 65 66]\n",
            "   [74 75 76]\n",
            "   [84 85 86]]\n",
            "\n",
            "  [[65 66 67]\n",
            "   [75 76 77]\n",
            "   [85 86 87]]\n",
            "\n",
            "  [[66 67 68]\n",
            "   [76 77 78]\n",
            "   [86 87 88]]\n",
            "\n",
            "  [[67 68 69]\n",
            "   [77 78 79]\n",
            "   [87 88 89]]]\n",
            "\n",
            "\n",
            " [[[70 71 72]\n",
            "   [80 81 82]\n",
            "   [90 91 92]]\n",
            "\n",
            "  [[71 72 73]\n",
            "   [81 82 83]\n",
            "   [91 92 93]]\n",
            "\n",
            "  [[72 73 74]\n",
            "   [82 83 84]\n",
            "   [92 93 94]]\n",
            "\n",
            "  [[73 74 75]\n",
            "   [83 84 85]\n",
            "   [93 94 95]]\n",
            "\n",
            "  [[74 75 76]\n",
            "   [84 85 86]\n",
            "   [94 95 96]]\n",
            "\n",
            "  [[75 76 77]\n",
            "   [85 86 87]\n",
            "   [95 96 97]]\n",
            "\n",
            "  [[76 77 78]\n",
            "   [86 87 88]\n",
            "   [96 97 98]]\n",
            "\n",
            "  [[77 78 79]\n",
            "   [87 88 89]\n",
            "   [97 98 99]]]]\n"
          ]
        }
      ]
    },
    {
      "cell_type": "code",
      "metadata": {
        "colab": {
          "base_uri": "https://localhost:8080/"
        },
        "id": "4a904887",
        "outputId": "028af658-e428-42fb-df9a-534492c55424"
      },
      "source": [
        "# 76.How do you create a 2D symmetric matrix class?\n",
        "# This is a more advanced topic and requires defining a custom class that inherits from np.ndarray\n",
        "# Example structure:\n",
        "class SymmetricMatrix(np.ndarray):\n",
        "    def __new__(cls, input_array):\n",
        "        # Ensure the input is a square array\n",
        "        if input_array.shape[0] != input_array.shape[1]:\n",
        "            raise ValueError(\"Input array must be square for a symmetric matrix.\")\n",
        "        # Ensure the input is symmetric (within a tolerance)\n",
        "        if not np.allclose(input_array, input_array.T):\n",
        "             raise ValueError(\"Input array must be symmetric.\")\n",
        "\n",
        "        obj = np.asarray(input_array).view(cls)\n",
        "        return obj\n",
        "\n",
        "    def __array_finalize__(self, obj):\n",
        "        if obj is None: return\n",
        "        # No additional attributes needed for this simple example\n",
        "\n",
        "# Example Usage:\n",
        "symmetric_arr = np.array([[1, 2, 3], [2, 4, 5], [3, 5, 6]])\n",
        "try:\n",
        "    sym_matrix = SymmetricMatrix(symmetric_arr)\n",
        "    print(\"Symmetric Matrix created successfully:\")\n",
        "    print(sym_matrix)\n",
        "\n",
        "    # Example of non-symmetric matrix (will raise error)\n",
        "    # non_symmetric_arr = np.array([[1, 2, 3], [4, 5, 6], [7, 8, 9]])\n",
        "    # non_sym_matrix = SymmetricMatrix(non_symmetric_arr)\n",
        "except ValueError as e:\n",
        "    print(f\"Error creating Symmetric Matrix: {e}\")"
      ],
      "execution_count": 219,
      "outputs": [
        {
          "output_type": "stream",
          "name": "stdout",
          "text": [
            "Symmetric Matrix created successfully:\n",
            "[[1 2 3]\n",
            " [2 4 5]\n",
            " [3 5 6]]\n"
          ]
        }
      ]
    },
    {
      "cell_type": "code",
      "metadata": {
        "colab": {
          "base_uri": "https://localhost:8080/"
        },
        "id": "dd389d6f",
        "outputId": "56409a8c-9a9b-497c-b830-7418da526405"
      },
      "source": [
        "# 77.How do you compute the sum of multiple matrix-vector products at once?\n",
        "# This can be done efficiently using np.einsum.\n",
        "matrices = np.random.rand(10, 5, 5) # 10 matrices of size 5x5\n",
        "vectors = np.random.rand(10, 5)    # 10 vectors of size 5\n",
        "result = np.einsum('ijk,ik->i', matrices, vectors)\n",
        "print(result)"
      ],
      "execution_count": 220,
      "outputs": [
        {
          "output_type": "stream",
          "name": "stdout",
          "text": [
            "[8.88535959 9.02652045 3.49518467 6.99466665 7.5371351  8.1796049\n",
            " 8.2950655  6.29840374 6.39458712 4.06831434]\n"
          ]
        }
      ]
    },
    {
      "cell_type": "code",
      "metadata": {
        "colab": {
          "base_uri": "https://localhost:8080/"
        },
        "id": "0e4a692e",
        "outputId": "b4607801-fc30-4770-80a9-d67c6fba31ef"
      },
      "source": [
        "# 78.How do you compute the sum of blocks in a 2D array?\n",
        "# This can be done by reshaping the array and summing along the appropriate axes.\n",
        "# Example: sum of 2x2 blocks in a 4x4 array\n",
        "arr = np.arange(16).reshape(4, 4)\n",
        "block_sum = arr.reshape(2, 2, 2, 2).sum(axis=(1, 3))\n",
        "print(block_sum)"
      ],
      "execution_count": 221,
      "outputs": [
        {
          "output_type": "stream",
          "name": "stdout",
          "text": [
            "[[10 18]\n",
            " [42 50]]\n"
          ]
        }
      ]
    },
    {
      "cell_type": "code",
      "metadata": {
        "colab": {
          "base_uri": "https://localhost:8080/"
        },
        "id": "a363d77f",
        "outputId": "f1e1b570-83ba-4cb8-99d8-92d55497b560"
      },
      "source": [
        "# 79.How do you simulate the Game of Life using NumPy?\n",
        "# This is a complex task involving grid updates based on neighbor rules.\n",
        "# This is a simplified example and doesn't implement all Game of Life rules.\n",
        "# A full implementation would require checking neighbors and applying the rules.\n",
        "\n",
        "def update_game_of_life(grid):\n",
        "    # This is a placeholder function. A real implementation\n",
        "    # would calculate the next generation based on neighbor counts.\n",
        "    print(\"Simulating Game of Life step (placeholder)...\")\n",
        "    return grid # Return the same grid for now\n",
        "\n",
        "# Example initial grid\n",
        "grid = np.random.randint(0, 2, (10, 10))\n",
        "print(\"Initial Grid:\")\n",
        "print(grid)\n",
        "\n",
        "# Simulate a few steps (using the placeholder function)\n",
        "num_steps = 3\n",
        "for _ in range(num_steps):\n",
        "    grid = update_game_of_life(grid)\n",
        "    # print(f\"Grid after step {_ + 1}:\")\n",
        "    # print(grid)\n",
        "\n",
        "print(\"\\nSimulation complete (placeholder function used).\")\n",
        "print(\"A full Game of Life implementation requires neighbor checking and rule application.\")"
      ],
      "execution_count": 222,
      "outputs": [
        {
          "output_type": "stream",
          "name": "stdout",
          "text": [
            "Initial Grid:\n",
            "[[1 1 1 1 1 0 1 0 0 1]\n",
            " [0 1 0 1 0 0 1 1 1 1]\n",
            " [1 0 0 1 1 0 1 1 0 0]\n",
            " [1 1 1 1 0 0 1 1 0 0]\n",
            " [1 1 1 1 1 0 0 1 0 1]\n",
            " [0 0 0 0 0 0 0 0 1 1]\n",
            " [0 0 1 0 0 1 1 1 1 0]\n",
            " [1 1 0 0 1 0 1 1 1 1]\n",
            " [0 0 0 1 0 1 1 0 0 1]\n",
            " [1 1 1 1 0 1 0 0 1 0]]\n",
            "Simulating Game of Life step (placeholder)...\n",
            "Simulating Game of Life step (placeholder)...\n",
            "Simulating Game of Life step (placeholder)...\n",
            "\n",
            "Simulation complete (placeholder function used).\n",
            "A full Game of Life implementation requires neighbor checking and rule application.\n"
          ]
        }
      ]
    },
    {
      "cell_type": "code",
      "metadata": {
        "colab": {
          "base_uri": "https://localhost:8080/"
        },
        "id": "25784e73",
        "outputId": "5fc4d2ba-d3ff-4f0e-e495-40fcfaa4d2f2"
      },
      "source": [
        "# 80.How do you extract the top N largest values from an array?\n",
        "arr = np.random.rand(10)\n",
        "n = 3\n",
        "top_n_values = np.sort(arr)[-n:]\n",
        "print(top_n_values)"
      ],
      "execution_count": 223,
      "outputs": [
        {
          "output_type": "stream",
          "name": "stdout",
          "text": [
            "[0.74391631 0.91767855 0.92577482]\n"
          ]
        }
      ]
    },
    {
      "cell_type": "code",
      "metadata": {
        "colab": {
          "base_uri": "https://localhost:8080/"
        },
        "id": "f5d008ac",
        "outputId": "cbd8cd4c-6c39-44f8-ec29-cb436fc05797"
      },
      "source": [
        "# 81.How do you create a Cartesian product of multiple input arrays?\n",
        "# This can be done using np.meshgrid or np.indices.\n",
        "# Example with np.indices:\n",
        "arr1 = np.array([1, 2])\n",
        "arr2 = np.array([3, 4])\n",
        "ixgrid = np.indices((len(arr1), len(arr2)))\n",
        "cartesian_product = np.c_[arr1[ixgrid[0].ravel()], arr2[ixgrid[1].ravel()]]\n",
        "print(cartesian_product)"
      ],
      "execution_count": 224,
      "outputs": [
        {
          "output_type": "stream",
          "name": "stdout",
          "text": [
            "[[1 3]\n",
            " [1 4]\n",
            " [2 3]\n",
            " [2 4]]\n"
          ]
        }
      ]
    },
    {
      "cell_type": "code",
      "metadata": {
        "colab": {
          "base_uri": "https://localhost:8080/"
        },
        "id": "e0d7a3d2",
        "outputId": "e9cd4b20-b1de-4ae8-a41f-753722971232"
      },
      "source": [
        "# 82.How do you create a record array from a regular NumPy array?\n",
        "arr = np.array([(1, 'a'), (2, 'b')], dtype=[('col1', int), ('col2', 'U1')])\n",
        "# To create from a regular array, you would need to define the dtype and structure.\n",
        "print(arr)"
      ],
      "execution_count": 225,
      "outputs": [
        {
          "output_type": "stream",
          "name": "stdout",
          "text": [
            "[(1, 'a') (2, 'b')]\n"
          ]
        }
      ]
    },
    {
      "cell_type": "code",
      "metadata": {
        "colab": {
          "base_uri": "https://localhost:8080/"
        },
        "id": "2f768cac",
        "outputId": "80c14375-305b-4613-853b-3783c311341e"
      },
      "source": [
        "# 83.How do you raise an array to the power of 3 using different methods?\n",
        "arr = np.arange(5)\n",
        "print(arr**3)\n",
        "print(np.power(arr, 3))\n",
        "print(arr * arr * arr)"
      ],
      "execution_count": 226,
      "outputs": [
        {
          "output_type": "stream",
          "name": "stdout",
          "text": [
            "[ 0  1  8 27 64]\n",
            "[ 0  1  8 27 64]\n",
            "[ 0  1  8 27 64]\n"
          ]
        }
      ]
    },
    {
      "cell_type": "code",
      "metadata": {
        "colab": {
          "base_uri": "https://localhost:8080/"
        },
        "id": "65e243e1",
        "outputId": "cd5b8d0c-373b-400b-fb39-f0286d76d181"
      },
      "source": [
        "# 84.How do you find rows in a matrix containing all elements of another matrix?\n",
        "# This can be done by sorting rows and using np.in1d or similar logic.\n",
        "# Example: find rows in matrix1 that contain all elements of matrix2\n",
        "matrix1 = np.array([[1, 2, 3], [4, 5, 6], [1, 2, 6], [1, 2, 3]])\n",
        "matrix2 = np.array([1, 2])\n",
        "\n",
        "# Check if each element of matrix2 is in each row of matrix1\n",
        "# This approach checks if *at least one* instance of each element is present.\n",
        "# For checking if ALL elements are present in a row (like a subset), a different approach might be needed\n",
        "# depending on whether duplicates matter and order matters.\n",
        "\n",
        "# Simple check if elements of matrix2 are present in rows of matrix1 (order and duplicates not considered)\n",
        "rows_containing_elements = np.all([np.isin(matrix1, val).any(axis=1) for val in matrix2], axis=0)\n",
        "print(\"Rows containing elements of matrix2:\", matrix1[rows_containing_elements])\n",
        "\n",
        "# A more robust approach if order/duplicates in the subset are important would involve sorting rows\n",
        "# and then using something like np.in1d on the sorted flattened arrays, or more complex comparisons.\n",
        "print(\"\\nNote: The above checks for presence of elements, not necessarily as a subset.\")\n",
        "print(\"For strict subset checking (order/duplicates), more advanced techniques might be needed.\")"
      ],
      "execution_count": 227,
      "outputs": [
        {
          "output_type": "stream",
          "name": "stdout",
          "text": [
            "Rows containing elements of matrix2: [[1 2 3]\n",
            " [1 2 6]\n",
            " [1 2 3]]\n",
            "\n",
            "Note: The above checks for presence of elements, not necessarily as a subset.\n",
            "For strict subset checking (order/duplicates), more advanced techniques might be needed.\n"
          ]
        }
      ]
    },
    {
      "cell_type": "code",
      "metadata": {
        "colab": {
          "base_uri": "https://localhost:8080/"
        },
        "id": "8055cfbc",
        "outputId": "5e3c7e9b-cccd-4395-82d6-70c6c57eb9c3"
      },
      "source": [
        "# 85.How do you filter rows in a matrix with at least one differing value?\n",
        "# This can be done by comparing rows and using np.any.\n",
        "# Example: filter rows in matrix1 that are different from matrix2\n",
        "matrix1 = np.array([[1, 2, 3], [4, 5, 6], [1, 2, 3], [7, 8, 9]])\n",
        "matrix2 = np.array([1, 2, 3])\n",
        "\n",
        "# Compare each row of matrix1 to matrix2\n",
        "# The result is a boolean array indicating which elements are different\n",
        "diff_elements = matrix1 != matrix2\n",
        "\n",
        "# Use np.any along axis=1 to find rows with at least one differing element\n",
        "differing_rows_mask = np.any(diff_elements, axis=1)\n",
        "\n",
        "# Select the rows from matrix1 using the boolean mask\n",
        "differing_rows = matrix1[differing_rows_mask]\n",
        "print(differing_rows)"
      ],
      "execution_count": 228,
      "outputs": [
        {
          "output_type": "stream",
          "name": "stdout",
          "text": [
            "[[4 5 6]\n",
            " [7 8 9]]\n"
          ]
        }
      ]
    },
    {
      "cell_type": "code",
      "metadata": {
        "colab": {
          "base_uri": "https://localhost:8080/"
        },
        "id": "8de65c6e",
        "outputId": "225abd20-eacc-4ac7-e2ea-e6d108d818d2"
      },
      "source": [
        "# 86.How do you convert integers to their binary matrix representation?\n",
        "# This can be done using np.unpackbits.\n",
        "arr = np.array([1, 2, 3], dtype=np.uint8)\n",
        "binary_matrix = np.unpackbits(arr[:, np.newaxis], axis=1)\n",
        "print(binary_matrix)"
      ],
      "execution_count": 229,
      "outputs": [
        {
          "output_type": "stream",
          "name": "stdout",
          "text": [
            "[[0 0 0 0 0 0 0 1]\n",
            " [0 0 0 0 0 0 1 0]\n",
            " [0 0 0 0 0 0 1 1]]\n"
          ]
        }
      ]
    },
    {
      "cell_type": "code",
      "metadata": {
        "colab": {
          "base_uri": "https://localhost:8080/"
        },
        "id": "3c649279",
        "outputId": "c47b9cae-530c-4373-bc1c-0a8fcc253d76"
      },
      "source": [
        "# 87.How do you extract unique rows from a 2D array?\n",
        "arr = np.array([[1, 2, 3], [4, 5, 6], [1, 2, 3], [7, 8, 9]])\n",
        "unique_rows = np.unique(arr, axis=0)\n",
        "print(unique_rows)"
      ],
      "execution_count": 230,
      "outputs": [
        {
          "output_type": "stream",
          "name": "stdout",
          "text": [
            "[[1 2 3]\n",
            " [4 5 6]\n",
            " [7 8 9]]\n"
          ]
        }
      ]
    },
    {
      "cell_type": "code",
      "metadata": {
        "colab": {
          "base_uri": "https://localhost:8080/"
        },
        "id": "672b74c6",
        "outputId": "f9ebb7c7-4898-4e5b-abd0-8b2fd05f8a70"
      },
      "source": [
        "# 88.How do you compute inner, outer, sum, and multiplication using einsum?\n",
        "A = np.arange(25).reshape(5,5)\n",
        "B = np.arange(25).reshape(5,5)\n",
        "\n",
        "# Inner product\n",
        "inner = np.einsum('i,i', A.flatten(), B.flatten())\n",
        "print(\"Inner product:\", inner)\n",
        "\n",
        "# Outer product\n",
        "outer = np.einsum('i,j', A.flatten(), B.flatten())\n",
        "print(\"Outer product shape:\", outer.shape) # Print shape as the output is large\n",
        "\n",
        "# Sum\n",
        "sum_A = np.einsum('ij->', A)\n",
        "print(\"Sum of A:\", sum_A)\n",
        "\n",
        "# Multiplication\n",
        "element_wise_mul = np.einsum('ij,ij->ij', A, B)\n",
        "print(\"Element-wise multiplication shape:\", element_wise_mul.shape) # Print shape as the output is large"
      ],
      "execution_count": 231,
      "outputs": [
        {
          "output_type": "stream",
          "name": "stdout",
          "text": [
            "Inner product: 4900\n",
            "Outer product shape: (25, 25)\n",
            "Sum of A: 300\n",
            "Element-wise multiplication shape: (5, 5)\n"
          ]
        }
      ]
    },
    {
      "cell_type": "code",
      "metadata": {
        "colab": {
          "base_uri": "https://localhost:8080/"
        },
        "id": "5c40963a",
        "outputId": "32cd75d2-7841-4f6f-cf92-082b8bb28af9"
      },
      "source": [
        "# 89.How do you sample a 2D path at regular intervals?\n",
        "path = np.array([[0, 0], [1, 2], [3, 3], [6, 5]])\n",
        "import numpy as np\n",
        "\n",
        "# Example 2D path\n",
        "path = np.array([[0, 0], [1, 2], [3, 3], [6, 5]])\n",
        "\n",
        "# 1️⃣ Compute distances between consecutive points\n",
        "diffs = np.diff(path, axis=0)\n",
        "segment_lengths = np.hypot(diffs[:,0], diffs[:,1])\n",
        "\n",
        "# 2️⃣ Compute cumulative distance along the path\n",
        "cumdist = np.insert(np.cumsum(segment_lengths), 0, 0)\n",
        "\n",
        "# 3️⃣ Decide regular intervals (e.g., every 0.5 units)\n",
        "interval = 0.5\n",
        "regular_distances = np.arange(0, cumdist[-1], interval)\n",
        "\n",
        "# 4️⃣ Interpolate x and y coordinates at those distances\n",
        "x_interp = np.interp(regular_distances, cumdist, path[:,0])\n",
        "y_interp = np.interp(regular_distances, cumdist, path[:,1])\n",
        "\n",
        "# 5️⃣ Combine into a new (N×2) array\n",
        "sampled_path = np.stack((x_interp, y_interp), axis=1)\n",
        "\n",
        "print(sampled_path)\n"
      ],
      "execution_count": 234,
      "outputs": [
        {
          "output_type": "stream",
          "name": "stdout",
          "text": [
            "[[0.         0.        ]\n",
            " [0.2236068  0.4472136 ]\n",
            " [0.4472136  0.89442719]\n",
            " [0.67082039 1.34164079]\n",
            " [0.89442719 1.78885438]\n",
            " [1.23606798 2.11803399]\n",
            " [1.68328157 2.34164079]\n",
            " [2.13049517 2.56524758]\n",
            " [2.57770876 2.78885438]\n",
            " [3.02318429 3.01545619]\n",
            " [3.43920943 3.29280629]\n",
            " [3.85523458 3.57015639]\n",
            " [4.27125973 3.84750649]\n",
            " [4.68728488 4.12485658]\n",
            " [5.10331002 4.40220668]\n",
            " [5.51933517 4.67955678]\n",
            " [5.93536032 4.95690688]]\n"
          ]
        }
      ]
    },
    {
      "cell_type": "code",
      "metadata": {
        "colab": {
          "base_uri": "https://localhost:8080/"
        },
        "id": "d10f1daf",
        "outputId": "481337a3-357e-4601-f8e7-419337c316d0"
      },
      "source": [
        "# 90.How do you filter 2D array rows that sum to a specific number using only integers?\n",
        "arr = np.array([[1, 2, 3], [4, 5, 6], [1, 1, 1], [7, 8, 9]])\n",
        "target_sum = 3\n",
        "filtered_rows = arr[np.sum(arr, axis=1) == target_sum]\n",
        "print(filtered_rows)"
      ],
      "execution_count": 233,
      "outputs": [
        {
          "output_type": "stream",
          "name": "stdout",
          "text": [
            "[[1 1 1]]\n"
          ]
        }
      ]
    }
  ]
}