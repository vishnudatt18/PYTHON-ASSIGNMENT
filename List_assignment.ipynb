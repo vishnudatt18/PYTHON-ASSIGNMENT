{
  "cells": [
    {
      "cell_type": "markdown",
      "metadata": {
        "id": "view-in-github",
        "colab_type": "text"
      },
      "source": [
        "<a href=\"https://colab.research.google.com/github/vishnudatt18/PYTHON-ASSIGNMENT/blob/main/List_assignment.ipynb\" target=\"_parent\"><img src=\"https://colab.research.google.com/assets/colab-badge.svg\" alt=\"Open In Colab\"/></a>"
      ]
    },
    {
      "cell_type": "code",
      "execution_count": null,
      "id": "93300aed",
      "metadata": {
        "colab": {
          "base_uri": "https://localhost:8080/",
          "height": 36
        },
        "id": "93300aed",
        "outputId": "c6a921cc-89f4-4e14-d7f8-1e6fddc8e519"
      },
      "outputs": [
        {
          "output_type": "execute_result",
          "data": {
            "text/plain": [
              "'is'"
            ],
            "application/vnd.google.colaboratory.intrinsic+json": {
              "type": "string"
            }
          },
          "metadata": {},
          "execution_count": 1
        }
      ],
      "source": [
        "# consider a list\n",
        "\n",
        "test=[\"This\",\"is\",1,\"list\"]\n",
        "# then  test[1] will returns\n",
        "test[1]\n"
      ]
    },
    {
      "cell_type": "code",
      "execution_count": null,
      "id": "f1d3fdb4",
      "metadata": {
        "colab": {
          "base_uri": "https://localhost:8080/",
          "height": 36
        },
        "id": "f1d3fdb4",
        "outputId": "48b6943e-2a47-46cf-ba22-7b4ba6b24444"
      },
      "outputs": [
        {
          "output_type": "execute_result",
          "data": {
            "text/plain": [
              "'A'"
            ],
            "application/vnd.google.colaboratory.intrinsic+json": {
              "type": "string"
            }
          },
          "metadata": {},
          "execution_count": 4
        }
      ],
      "source": [
        "# what will be the output of following code?\n",
        "\n",
        "my_list=[[\"A\",\"B\"],\n",
        "         [\"X\",\"A\"],\n",
        "         [\"B\",\"A\"],\n",
        "         [\"A\",\"X\"]]\n",
        "my_list[2][1]"
      ]
    },
    {
      "cell_type": "code",
      "execution_count": 2,
      "id": "f72f0ee4",
      "metadata": {
        "colab": {
          "base_uri": "https://localhost:8080/",
          "height": 0
        },
        "id": "f72f0ee4",
        "outputId": "e3334c3e-24de-4715-d49c-47373b9f0f92"
      },
      "outputs": [
        {
          "output_type": "stream",
          "name": "stdout",
          "text": [
            "True\n"
          ]
        },
        {
          "output_type": "execute_result",
          "data": {
            "text/plain": [
              "4"
            ]
          },
          "metadata": {},
          "execution_count": 2
        }
      ],
      "source": [
        "# what will be the output of following code?\n",
        "a=[2,4,8,12,[4,10]]\n",
        "print(4 in a)\n",
        "a[-1][0]"
      ]
    },
    {
      "cell_type": "code",
      "execution_count": null,
      "id": "fbc1f309",
      "metadata": {
        "id": "fbc1f309"
      },
      "outputs": [],
      "source": [
        "#which of the following can be used to delete element 4 from the list2=[10,7,6,4,8]\n",
        "list2=[10,7,6,4,8]\n",
        "\n",
        "list2.remove(4)\n",
        "list2.pop(3)\n",
        "del list2[3]"
      ]
    },
    {
      "cell_type": "code",
      "execution_count": null,
      "id": "dde8dcc5",
      "metadata": {
        "colab": {
          "base_uri": "https://localhost:8080/"
        },
        "id": "dde8dcc5",
        "outputId": "efa7bc97-cfeb-41fa-a9f4-cd449e664f20"
      },
      "outputs": [
        {
          "output_type": "execute_result",
          "data": {
            "text/plain": [
              "(1, 1)"
            ]
          },
          "metadata": {},
          "execution_count": 7
        }
      ],
      "source": [
        "# what will be the output of following code?\n",
        "my_tuple=((1,2,3,1),\n",
        "          (1,1,1,2),\n",
        "          (2,1,2,1),\n",
        "         (1,2,1,1))\n",
        "my_tuple[1][1:3]"
      ]
    },
    {
      "cell_type": "code",
      "source": [
        "# Take 10 integer inputs from user and store them in a list. Again ask user to give a number.\n",
        "# Now, tell user whether that number is present in list or not.\n",
        "# hint( Iterate over list using while loop ).\n",
        "\n",
        "# ans\n",
        "\n",
        "# Take 10 integer inputs from user and store them in a list\n",
        "numbers = []\n",
        "i = 0\n",
        "\n",
        "while i < 10:\n",
        "    num = int(input(f\"Enter number {i+1}: \"))\n",
        "    numbers.append(num)\n",
        "    i += 1\n",
        "\n",
        "# Ask user for a number to search\n",
        "search_num = int(input(\"Enter a number to search in the list: \"))\n",
        "\n",
        "# Check if the number is present using while loop\n",
        "\n",
        "i = 0\n",
        "while i < len(numbers):\n",
        "    if numbers[i] == search_num:\n",
        "       print(f\"{search_num} is present in the list.\")\n",
        "       break\n",
        "    i += 1\n",
        "else:\n",
        "    print(f\"{search_num} is NOT present in the list.\")"
      ],
      "metadata": {
        "colab": {
          "base_uri": "https://localhost:8080/",
          "height": 0
        },
        "id": "h-VMLz5yixxc",
        "outputId": "c085bb26-b180-443e-8bf3-3bb45618585a"
      },
      "id": "h-VMLz5yixxc",
      "execution_count": 16,
      "outputs": [
        {
          "output_type": "stream",
          "name": "stdout",
          "text": [
            "Enter number 1: 5\n",
            "Enter number 2: 2\n",
            "Enter number 3: 4\n",
            "Enter number 4: 2\n",
            "Enter number 5: 23\n",
            "Enter number 6: 2\n",
            "Enter number 7: 2\n",
            "Enter number 8: 1\n",
            "Enter number 9: 1\n",
            "Enter number 10: 1\n",
            "Enter a number to search in the list: 4\n",
            "4 is present in the list.\n"
          ]
        }
      ]
    },
    {
      "cell_type": "code",
      "source": [
        "# Take 10 integer inputs from user and store them in a list using for loop\n",
        "numbers = []\n",
        "\n",
        "for i in range(10):\n",
        "    num = int(input(f\"Enter number {i+1}: \"))\n",
        "    numbers.append(num)\n",
        "\n",
        "# Ask user for a number to search\n",
        "search_num = int(input(\"Enter a number to search in the list: \"))\n",
        "\n",
        "# Check if the number is present using for loop\n",
        "\n",
        "for n in numbers:\n",
        "    if n == search_num:\n",
        "        print(f\"{search_num} is present in the list.\")\n",
        "        break\n",
        "else:\n",
        "    print(f\"{search_num} is NOT present in the list.\")\n",
        "\n",
        "\n"
      ],
      "metadata": {
        "colab": {
          "base_uri": "https://localhost:8080/",
          "height": 0
        },
        "id": "LWxM7HePJ3Zj",
        "outputId": "f36a8b62-caa2-4883-c455-ee19160586e1"
      },
      "id": "LWxM7HePJ3Zj",
      "execution_count": 10,
      "outputs": [
        {
          "output_type": "stream",
          "name": "stdout",
          "text": [
            "Enter number 1: 4\n",
            "Enter number 2: 1\n",
            "Enter number 3: 5\n",
            "Enter number 4: 2\n",
            "Enter number 5: 5\n",
            "Enter number 6: 2\n",
            "Enter number 7: 5\n",
            "Enter number 8: 2\n",
            "Enter number 9: 2\n",
            "Enter number 10: 2\n",
            "Enter a number to search in the list: 3\n",
            "3 is NOT present in the list.\n"
          ]
        }
      ]
    },
    {
      "cell_type": "code",
      "execution_count": 1,
      "id": "460d7f09",
      "metadata": {
        "id": "460d7f09",
        "colab": {
          "base_uri": "https://localhost:8080/",
          "height": 0
        },
        "outputId": "8b689b9c-4e36-47c3-d982-00c4f665b15e"
      },
      "outputs": [
        {
          "output_type": "stream",
          "name": "stdout",
          "text": [
            "Enter number 1: 1\n",
            "Enter number 2: 1\n",
            "Enter number 3: 1\n",
            "Enter number 4: 1\n",
            "Enter number 5: 5\n",
            "Enter number 6: 5\n",
            "Enter number 7: 5\n",
            "Enter number 8: 4\n",
            "Enter number 9: 5\n",
            "Enter number 10: 2\n",
            "Original List: [1, 1, 1, 1, 5, 5, 5, 4, 5, 2]\n",
            "Reversed List: [2, 5, 4, 5, 5, 5, 1, 1, 1, 1]\n"
          ]
        }
      ],
      "source": [
        "# Take 10 integer inputs from user and store them in a list. Now, copy all the elements in another list but in reverse order.\n",
        "\n",
        "# ans\n",
        "\n",
        "# Take 10 integer inputs from user and store them in a list\n",
        "numbers = []\n",
        "\n",
        "for i in range(10):\n",
        "    num = int(input(f\"Enter number {i+1}: \"))\n",
        "    numbers.append(num)\n",
        "\n",
        "# Copy elements in reverse order into another list\n",
        "reversed_list = []\n",
        "\n",
        "for i in range(len(numbers)-1, -1, -1):   # start from last index → 0\n",
        "    reversed_list.append(numbers[i])\n",
        "\n",
        "# Print results\n",
        "print(\"Original List:\", numbers)\n",
        "print(\"Reversed List:\", reversed_list)\n"
      ]
    },
    {
      "cell_type": "code",
      "execution_count": 7,
      "id": "c3d147c5",
      "metadata": {
        "colab": {
          "base_uri": "https://localhost:8080/",
          "height": 0
        },
        "id": "c3d147c5",
        "outputId": "3c9238e3-d842-472b-c3a8-6527cd6b82e1"
      },
      "outputs": [
        {
          "output_type": "stream",
          "name": "stdout",
          "text": [
            "Matrix A:\n",
            "[1, 2, 3]\n",
            "[4, 5, 6]\n",
            "[7, 8, 9]\n",
            "\n",
            "Matrix B:\n",
            "[9, 8, 7]\n",
            "[6, 5, 4]\n",
            "[3, 2, 1]\n",
            "\n",
            "Addition of A and B:\n",
            "[10, 10, 10]\n",
            "[10, 10, 10]\n",
            "[10, 10, 10]\n",
            "\n",
            "Multiplication of A and B:\n",
            "[30, 24, 18]\n",
            "[84, 69, 54]\n",
            "[138, 114, 90]\n"
          ]
        }
      ],
      "source": [
        "# Write a program to add and multiply two 3x3 matrices.\n",
        "\n",
        "#ans\n",
        "# Program to add and multiply two 3x3 matrices\n",
        "\n",
        "# Input two 3x3 matrices\n",
        "A = [[1, 2, 3],\n",
        "     [4, 5, 6],\n",
        "     [7, 8, 9]]\n",
        "\n",
        "B = [[9, 8, 7],\n",
        "     [6, 5, 4],\n",
        "     [3, 2, 1]]\n",
        "\n",
        "# --- Addition of matrices ---\n",
        "add_result = [[0, 0, 0],\n",
        "              [0, 0, 0],\n",
        "              [0, 0, 0]]\n",
        "\n",
        "for i in range(3):\n",
        "    for j in range(3):\n",
        "        add_result[i][j] = A[i][j] + B[i][j]\n",
        "\n",
        "# --- Multiplication of matrices ---\n",
        "mul_result = [[0, 0, 0],\n",
        "              [0, 0, 0],\n",
        "              [0, 0, 0]]\n",
        "\n",
        "for i in range(3):            # row of A\n",
        "    for j in range(3):        # column of B\n",
        "        for k in range(3):    # multiply across A-row and B-column\n",
        "            mul_result[i][j] += A[i][k] * B[k][j]\n",
        "\n",
        "# --- Display results ---\n",
        "print(\"Matrix A:\")\n",
        "for row in A:\n",
        "    print(row)\n",
        "\n",
        "print(\"\\nMatrix B:\")\n",
        "for row in B:\n",
        "    print(row)\n",
        "\n",
        "print(\"\\nAddition of A and B:\")\n",
        "for row in add_result:\n",
        "    print(row)\n",
        "\n",
        "print(\"\\nMultiplication of A and B:\")\n",
        "for row in mul_result:\n",
        "    print(row)\n",
        "\n",
        "\n"
      ]
    },
    {
      "cell_type": "code",
      "source": [
        "# addition explanation:\n",
        "\n",
        "'''🔹 When i = 0 and j = 0:\n",
        "      A[i][j] = A[0][0] = 1\n",
        "      B[i][j] = B[0][0] = 9\n",
        "\n",
        "\n",
        "👉 Add them: 1 + 9 = 10\n",
        "So store it:\n",
        "\n",
        "add_result[0][0] = 10\n",
        "\n",
        "🔹 When i = 0 and j = 1:\n",
        "A[i][j] = A[0][1] = 2\n",
        "B[i][j] = B[0][1] = 8\n",
        "\n",
        "\n",
        "👉 Add them: 2 + 8 = 10\n",
        "\n",
        "add_result[0][1] = 10\n",
        "\n",
        "🔹 When i = 1 and j = 2:\n",
        "A[i][j] = A[1][2] = 6\n",
        "B[i][j] = B[1][2] = 4\n",
        "\n",
        "\n",
        "👉 Add them: 6 + 4 = 10\n",
        "\n",
        "add_result[1][2] = 10 '''"
      ],
      "metadata": {
        "id": "LFamd6SVYN_d"
      },
      "id": "LFamd6SVYN_d",
      "execution_count": null,
      "outputs": []
    },
    {
      "cell_type": "code",
      "source": [
        "# Multiplication explanation:\n",
        "\n",
        "# For i = 0, j = 0:\n",
        "\n",
        "# The loop runs for k = 0, 1, 2\n",
        "\n",
        "# Step    k       A[i][k]         B[k][j]         Multiply        Add to mul_result[0][0]\n",
        "# 1       0       A[0][0] = 1     B[0][0] = 9     1×9 = 9           0 + 9 = 9\n",
        "# 2       1       A[0][1] = 2     B[1][0] = 6     2×6 = 12          9 + 12 = 21\n",
        "# 3       2       A[0][2] = 3     B[2][0] = 3     3×3 = 9           21 + 9 = 30\n",
        "\n",
        "# ✅ So, mul_result[0][0] = 30\n",
        "\n",
        "# In words:\n",
        "\n",
        "##    “Take row 0 of A →            [1,2,3]\n",
        "##    Take column 0 of B →          [9,6,3]\n",
        "##    Multiply across →       (1×9) + (2×6) + (3×3) = 30”\n",
        "\n",
        "# 💡 Step 4: Why use +=?\n",
        "\n",
        "# Because matrix multiplication involves summing multiple products.\n",
        "# We can’t just assign once — we must keep adding partial results for each k."
      ],
      "metadata": {
        "id": "dJUHHk-ZDnoW"
      },
      "id": "dJUHHk-ZDnoW",
      "execution_count": null,
      "outputs": []
    },
    {
      "cell_type": "code",
      "source": [
        "# Concrete example (using your earlier matrices)\n",
        "\n",
        "# A row 0 = [1, 2, 3]\n",
        "# B column 0 = [9, 6, 3]\n",
        "\n",
        "\n",
        "# We want mul_result[0][0].\n",
        "\n",
        "# Run k = 0,1,2:\n",
        "\n",
        "# k       A[0][k]   B[k][0]   product = A[0][k]*B[k][0]       cumulative mul_result[0][0]\n",
        "# 0       1         9                9                             0 + 9 = 9\n",
        "# 1       2         6                12                            9 + 12 = 21\n",
        "# 2       3         3                9                             21 + 9 = 30\n",
        "\n",
        "# Final: mul_result[0][0] = 30.\n",
        "\n",
        "# Another example mul_result[0][1] (B column 1 = [8,5,2]):\n",
        "\n",
        "# k       A[0][k] B[k][1]  product cumulative\n",
        "# 0       1       8         8       8\n",
        "# 1       2       5         10      18\n",
        "# 2       3       2         6       24\n",
        "\n",
        "# Final: mul_result[0][1] = 24.\n",
        "\n",
        "# Short recap / analogy\n",
        "\n",
        "# Each mul_result[i][j] is the dot product of row i of A and column j of B.\n",
        "\n",
        "# k runs through the positions in the row/column, you multiply pairwise and accumulate with +=."
      ],
      "metadata": {
        "id": "-C_3SAmu9hs-"
      },
      "id": "-C_3SAmu9hs-",
      "execution_count": null,
      "outputs": []
    }
  ],
  "metadata": {
    "kernelspec": {
      "display_name": "Python 3 (ipykernel)",
      "language": "python",
      "name": "python3"
    },
    "language_info": {
      "codemirror_mode": {
        "name": "ipython",
        "version": 3
      },
      "file_extension": ".py",
      "mimetype": "text/x-python",
      "name": "python",
      "nbconvert_exporter": "python",
      "pygments_lexer": "ipython3",
      "version": "3.9.13"
    },
    "colab": {
      "provenance": [],
      "include_colab_link": true
    }
  },
  "nbformat": 4,
  "nbformat_minor": 5
}