{
  "cells": [
    {
      "cell_type": "markdown",
      "metadata": {
        "id": "view-in-github",
        "colab_type": "text"
      },
      "source": [
        "<a href=\"https://colab.research.google.com/github/vishnudatt18/PYTHON-ASSIGNMENT/blob/main/Assignment_2_Loops.ipynb\" target=\"_parent\"><img src=\"https://colab.research.google.com/assets/colab-badge.svg\" alt=\"Open In Colab\"/></a>"
      ]
    },
    {
      "cell_type": "code",
      "execution_count": null,
      "id": "45cfa110",
      "metadata": {
        "id": "45cfa110",
        "colab": {
          "base_uri": "https://localhost:8080/"
        },
        "outputId": "1e40b06f-0182-44e6-f7e7-f6596db5db62"
      },
      "outputs": [
        {
          "output_type": "stream",
          "name": "stdout",
          "text": [
            "Enter number 1 : 4\n",
            "Enter number 2 : 4\n",
            "Enter number 3 : 4\n",
            "Enter number 4 : 1\n",
            "Enter number 5 : 4\n",
            "Enter number 6 : 4\n",
            "Enter number 7 : 4\n",
            "Enter number 8 : 4\n",
            "Enter number 9 : 4\n",
            "Enter number 10 : 4\n",
            "Average of 10 numbers is: 3.7\n"
          ]
        }
      ],
      "source": [
        "# Take 10 integers from keyboard using loop and print their average value on the screen.\n",
        "\n",
        "#ans\n",
        "total = 0   # to store sum of all numbers\n",
        "\n",
        "for i in range(10):\n",
        "    num = int(input(f\"Enter number {i+1} : \"))\n",
        "    total = total + num\n",
        "\n",
        "average = total / 10\n",
        "print(\"Average of 10 numbers is:\", average)\n"
      ]
    },
    {
      "cell_type": "code",
      "execution_count": null,
      "id": "f61325d0",
      "metadata": {
        "colab": {
          "base_uri": "https://localhost:8080/"
        },
        "id": "f61325d0",
        "outputId": "197142aa-8a26-4e80-bd53-07075eafb4c4"
      },
      "outputs": [
        {
          "output_type": "stream",
          "name": "stdout",
          "text": [
            "Pattern a:\n",
            "*\n",
            "**\n",
            "***\n",
            "****\n",
            "Enter the number of rows: 3\n",
            "  *\n",
            "\n",
            " ***\n",
            "\n",
            "*****\n",
            "\n",
            " ***\n",
            "\n",
            "  *\n",
            "\n",
            "Enter the number of rows: 4\n",
            "1010101\n",
            " 10101\n",
            "  101\n",
            "   1\n"
          ]
        }
      ],
      "source": [
        "4144\n",
        "4# Print the following patterns using loop :\n",
        "# a.\n",
        "# *\n",
        "# **\n",
        "# ***\n",
        "# ****\n",
        "# ans:\n",
        "print(\"Pattern a:\")\n",
        "for i in range(1, 5):\n",
        "    print(\"*\" * i)\n",
        "\n",
        "# b.\n",
        "#    *\n",
        "#  ***\n",
        "# *****\n",
        "#  ***\n",
        "#    *\n",
        "# ans:\n",
        "n =int(input(\"Enter the number of rows: \"))\n",
        "for i in range(1,n+1):\n",
        "  print(' '*(n-i),end = '')\n",
        "  print('*'* (2*i-1),end='')\n",
        "  print('\\n')\n",
        "for i in range(n-1,0,-1):\n",
        "  print(' '*(n-i),end = '')\n",
        "  print('*'* (2*i-1),end='')\n",
        "  print('\\n')\n",
        "\n",
        "# c.\n",
        "# 1010101\n",
        "#  10101\n",
        "#   101\n",
        "#    1\n",
        "# ans:\n",
        "rows = int(input(\"Enter the number of rows: \"))\n",
        "\n",
        "for i in range(rows):\n",
        "    print(\" \" * i + \"10\" * (rows - i - 1) + \"1\")\n",
        "\n"
      ]
    },
    {
      "cell_type": "code",
      "source": [
        "n = int(input(\"Enter the number of rows: \"))\n",
        "for i in range(n, 0, -1):\n",
        "    print(' ' * (n - i), end='')\n",
        "    print('10' * (i - 1) + '1')\n"
      ],
      "metadata": {
        "colab": {
          "base_uri": "https://localhost:8080/"
        },
        "id": "72lTWUT_LzzD",
        "outputId": "13752347-a40f-40fd-e061-813876e6003c"
      },
      "id": "72lTWUT_LzzD",
      "execution_count": null,
      "outputs": [
        {
          "output_type": "stream",
          "name": "stdout",
          "text": [
            "Enter the number of rows: 4\n",
            "1010101\n",
            " 10101\n",
            "  101\n",
            "   1\n"
          ]
        }
      ]
    },
    {
      "cell_type": "code",
      "execution_count": null,
      "id": "0127a928",
      "metadata": {
        "colab": {
          "base_uri": "https://localhost:8080/"
        },
        "id": "0127a928",
        "outputId": "19b9f681-9d82-4d8d-a386-3ccf5134238d"
      },
      "outputs": [
        {
          "output_type": "stream",
          "name": "stdout",
          "text": [
            "Enter any no. 24\n",
            "24 x 1 = 24\n",
            "24 x 2 = 48\n",
            "24 x 3 = 72\n",
            "24 x 4 = 96\n",
            "24 x 5 = 120\n",
            "24 x 6 = 144\n",
            "24 x 7 = 168\n",
            "24 x 8 = 192\n",
            "24 x 9 = 216\n",
            "24 x 10 = 240\n"
          ]
        }
      ],
      "source": [
        "# Print multiplication table of 24, 50 and 29 using loop.\n",
        "\n",
        "#ans\n",
        "a = int(input('Enter any no. '))\n",
        "for i in range(1,11):\n",
        "    print(a,'x',i,'=',a*i)"
      ]
    },
    {
      "cell_type": "code",
      "execution_count": null,
      "id": "df8e5c52",
      "metadata": {
        "id": "df8e5c52"
      },
      "outputs": [],
      "source": [
        "#Write an infinite loop.\n",
        "# A inifinte loop never ends. Condition is always true.\n",
        "\n",
        "#ans\n",
        "while True:\n",
        "    print(\"This is an infinite loop.\")\n"
      ]
    },
    {
      "cell_type": "code",
      "execution_count": null,
      "id": "7ca5412c",
      "metadata": {
        "id": "7ca5412c",
        "colab": {
          "base_uri": "https://localhost:8080/"
        },
        "outputId": "601c6a04-1fd0-4918-d89b-e4e8a5817cc1"
      },
      "outputs": [
        {
          "output_type": "execute_result",
          "data": {
            "text/plain": [
              "120"
            ]
          },
          "metadata": {},
          "execution_count": 43
        }
      ],
      "source": [
        "# Factorial of any number n is represented by n! and is equal to 1*2*3*....*(n-1)*n. E.g.-\n",
        "#4! = 1*2*3*4 = 24\n",
        "#3! = 3*2*1 = 6\n",
        "#2! = 2*1 = 2\n",
        "#Also,\n",
        "#1! = 1\n",
        "#0! = 1\n",
        "#Write a program to calculate factorial of a number.\n",
        "\n",
        "#ans\n",
        "def factorial(n):\n",
        "    if n == 0:\n",
        "        return 1\n",
        "    else:\n",
        "        return n * factorial(n-1)\n",
        "\n",
        "factorial(5)\n"
      ]
    },
    {
      "cell_type": "code",
      "execution_count": null,
      "id": "dc967b88",
      "metadata": {
        "id": "dc967b88",
        "colab": {
          "base_uri": "https://localhost:8080/"
        },
        "outputId": "a939ca4b-77d2-4bb9-a84b-c685bf6965d3"
      },
      "outputs": [
        {
          "output_type": "stream",
          "name": "stdout",
          "text": [
            "Enter an integer (or press 'q' to quit): 4\n",
            "Enter an integer (or press 'q' to quit): 4\n",
            "Enter an integer (or press 'q' to quit): 5\n",
            "Enter an integer (or press 'q' to quit): 1\n",
            "Enter an integer (or press 'q' to quit): q\n",
            "\n",
            "You entered: [4, 4, 5, 1]\n",
            "Average of numbers: 3.5\n",
            "Product of numbers: 80\n"
          ]
        }
      ],
      "source": [
        "# Take integer inputs from user until he/she presses q ( Ask to press q to quit after every integer input ).\n",
        "# Print average and product of all numbers.\n",
        "\n",
        "#ans\n",
        "# Program to take integer inputs until user presses 'q'\n",
        "# and then print average and product of all numbers\n",
        "\n",
        "numbers = []\n",
        "product = 1\n",
        "\n",
        "while True:\n",
        "    user_input = input(\"Enter an integer (or press 'q' to quit): \")\n",
        "\n",
        "    if user_input.lower() == 'q':\n",
        "        break\n",
        "    else:\n",
        "        num = int(user_input)\n",
        "        numbers.append(num)\n",
        "        product *= num\n",
        "\n",
        "if len(numbers) > 0:\n",
        "    average = sum(numbers) / len(numbers)\n",
        "    print(\"\\nYou entered:\", numbers)\n",
        "    print(\"Average of numbers:\", average)\n",
        "    print(\"Product of numbers:\", product)\n",
        "else:\n",
        "    print(\"No numbers were entered.\")\n",
        "\n",
        "\n"
      ]
    },
    {
      "cell_type": "code",
      "execution_count": null,
      "id": "22615579",
      "metadata": {
        "id": "22615579",
        "colab": {
          "base_uri": "https://localhost:8080/"
        },
        "outputId": "d57c4838-e715-4791-d402-70c05e34cd93"
      },
      "outputs": [
        {
          "output_type": "stream",
          "name": "stdout",
          "text": [
            "Enter first number: 54\n",
            "Enter second number: 52\n",
            "The HCF or GCD of 54 and 52 is: 2\n"
          ]
        }
      ],
      "source": [
        "5# Write a program to find greatest common divisor (GCD) or highest common factor (HCF) of given two numbers.\n",
        "\n",
        "#ans\n",
        "# Program to find GCD or HCF of two numbers\n",
        "\n",
        "num1 = int(input(\"Enter first number: \"))\n",
        "num2 = int(input(\"Enter second number: \"))\n",
        "\n",
        "# Find the smaller number\n",
        "if num1 > num2:\n",
        "    smaller = num2\n",
        "else:\n",
        "    smaller = num1\n",
        "\n",
        "# Loop to find HCF\n",
        "for i in range(1, smaller + 1):\n",
        "    if (num1 % i == 0) and (num2 % i == 0):\n",
        "        hcf = i\n",
        "\n",
        "print(\"The HCF or GCD of\", num1, \"and\", num2, \"is:\", hcf)\n",
        "\n"
      ]
    },
    {
      "cell_type": "code",
      "execution_count": null,
      "id": "57112c1f",
      "metadata": {
        "id": "57112c1f",
        "colab": {
          "base_uri": "https://localhost:8080/"
        },
        "outputId": "540948c1-9612-41e5-ed1e-8eb8494afbcb"
      },
      "outputs": [
        {
          "output_type": "stream",
          "name": "stdout",
          "text": [
            "153\n",
            "370\n",
            "371\n",
            "407\n"
          ]
        }
      ],
      "source": [
        "# A three digit number is called Armstrong number if sum of cube of its digit is equal to number itself.\n",
        "#E.g.- 153 is an Armstrong number because (13)+(53)+(33) = 153.\n",
        "# Write all Armstrong numbers between 100 to 500.\n",
        "\n",
        "#ans\n",
        "# Loop through numbers from 100 to 500\n",
        "\n",
        "for num in range(100, 501):\n",
        "    # Extract digits\n",
        "    hundreds = num // 100\n",
        "    tens = (num // 10) % 10\n",
        "    units = num % 10\n",
        "\n",
        "    # Check Armstrong condition\n",
        "    if hundreds**3 + tens**3 + units**3 == num:\n",
        "        print(num)\n",
        "\n"
      ]
    },
    {
      "cell_type": "code",
      "execution_count": null,
      "id": "2bae4c45",
      "metadata": {
        "colab": {
          "base_uri": "https://localhost:8080/"
        },
        "id": "2bae4c45",
        "outputId": "9576e394-7cc3-458b-a288-0a8bec3107c0"
      },
      "outputs": [
        {
          "output_type": "stream",
          "name": "stdout",
          "text": [
            "Enter any no. 45\n",
            "9\n"
          ]
        }
      ],
      "source": [
        "# Calculate the sum of digits of a number given by user. E.g.-\n",
        "#INUPT : 123        OUPUT : 6\n",
        "#INUPT : 12345        OUPUT : 15\n",
        "\n",
        "# ans:\n",
        "  # Renamed 'sum' to 'sum_of_digits' to avoid shadowing the built-in function\n",
        "\n",
        "a = input('Enter any no. ')\n",
        "\n",
        "sum_of_digits = 0\n",
        "\n",
        "\n",
        "for i in a:\n",
        "    sum_of_digits += int(i)  # Convert each digit character back to an integer and add to sum\n",
        "\n",
        "print(sum_of_digits)"
      ]
    },
    {
      "cell_type": "code",
      "source": [
        "# Write a program to find prime factor of a number.\n",
        "# If a factor of a number is prime number then it is its prime factor.\n",
        "\n",
        "# Program to find prime factors of a number\n",
        "\n",
        "num = int(input(\"Enter a number: \"))\n",
        "print(\"Prime factors of\", num, \"are:\")\n",
        "\n",
        "# Check all numbers from 2 to num\n",
        "for i in range(2, num + 1):\n",
        "    if num % i == 0:  # i is a factor\n",
        "        # Check if i is prime\n",
        "        for j in range(2,i):\n",
        "            if i % j == 0:\n",
        "                break\n",
        "        else:\n",
        "            print(i)\n",
        "\n",
        "\n"
      ],
      "metadata": {
        "colab": {
          "base_uri": "https://localhost:8080/"
        },
        "id": "MHts7X_zpaPX",
        "outputId": "f178164c-294f-4c66-e771-e30ab416f9c4"
      },
      "id": "MHts7X_zpaPX",
      "execution_count": null,
      "outputs": [
        {
          "output_type": "stream",
          "name": "stdout",
          "text": [
            "Enter a number: 454\n",
            "Prime factors of 454 are:\n",
            "2\n",
            "227\n"
          ]
        }
      ]
    },
    {
      "cell_type": "code",
      "execution_count": null,
      "id": "3e94bd2f",
      "metadata": {
        "colab": {
          "base_uri": "https://localhost:8080/"
        },
        "id": "3e94bd2f",
        "outputId": "e2f8c36c-dd23-4b96-d5db-eaf442b2cfd4"
      },
      "outputs": [
        {
          "output_type": "stream",
          "name": "stdout",
          "text": [
            "2 3 5 7 11 13 17 19 23 29 31 37 41 43 47 53 59 61 67 71 73 79 83 89 97 "
          ]
        }
      ],
      "source": [
        "# Write a program to print all prime number in between 1 to 100\n",
        "\n",
        "#ans\n",
        "\n",
        "\n",
        "for num in range(2, 101):\n",
        "    for i in range(2, num):\n",
        "        if num % i == 0:\n",
        "            break\n",
        "    else:\n",
        "        print(num, end=\" \")\n"
      ]
    },
    {
      "cell_type": "code",
      "execution_count": null,
      "id": "88f7847d",
      "metadata": {
        "colab": {
          "base_uri": "https://localhost:8080/"
        },
        "id": "88f7847d",
        "outputId": "d17554eb-9f2e-486e-8e73-9fbcd5d97c7a"
      },
      "outputs": [
        {
          "output_type": "stream",
          "name": "stdout",
          "text": [
            "Enter a number: 100\n",
            "2 3 5 7 11 13 17 19 23 29 31 37 41 43 47 53 59 61 67 71 73 79 83 89 97 "
          ]
        }
      ],
      "source": [
        "# Print all prime numbers up to n\n",
        "n = int(input(\"Enter a number: \"))\n",
        "\n",
        "for num in range(2, n + 1):\n",
        "    for i in range(2, num):\n",
        "        if num % i == 0:\n",
        "            break\n",
        "    else:\n",
        "        print(num, end=\" \")\n",
        "\n",
        "\n"
      ]
    },
    {
      "cell_type": "code",
      "source": [
        "def remove_duplicates(m):\n",
        "    seen = set()\n",
        "    return [x for x in m if not (x in seen or seen.add(x))]\n"
      ],
      "metadata": {
        "id": "-Wg-cchxaOVC"
      },
      "id": "-Wg-cchxaOVC",
      "execution_count": null,
      "outputs": []
    },
    {
      "cell_type": "code",
      "source": [
        "remove_duplicates([1, 2, 2, 3, 4, 4, 5])\n"
      ],
      "metadata": {
        "colab": {
          "base_uri": "https://localhost:8080/"
        },
        "id": "7ssBBjCW35Cg",
        "outputId": "24047285-55c5-465e-d27e-439161627941"
      },
      "id": "7ssBBjCW35Cg",
      "execution_count": null,
      "outputs": [
        {
          "output_type": "execute_result",
          "data": {
            "text/plain": [
              "[1, 2, 3, 4, 5]"
            ]
          },
          "metadata": {},
          "execution_count": 5
        }
      ]
    },
    {
      "cell_type": "code",
      "source": [],
      "metadata": {
        "id": "Bxcq3UbCDKSI"
      },
      "id": "Bxcq3UbCDKSI",
      "execution_count": null,
      "outputs": []
    }
  ],
  "metadata": {
    "kernelspec": {
      "display_name": "Python 3 (ipykernel)",
      "language": "python",
      "name": "python3"
    },
    "language_info": {
      "codemirror_mode": {
        "name": "ipython",
        "version": 3
      },
      "file_extension": ".py",
      "mimetype": "text/x-python",
      "name": "python",
      "nbconvert_exporter": "python",
      "pygments_lexer": "ipython3",
      "version": "3.9.13"
    },
    "colab": {
      "provenance": [],
      "include_colab_link": true
    }
  },
  "nbformat": 4,
  "nbformat_minor": 5
}