{
  "cells": [
    {
      "cell_type": "markdown",
      "metadata": {
        "id": "view-in-github",
        "colab_type": "text"
      },
      "source": [
        "<a href=\"https://colab.research.google.com/github/vishnudatt18/PYTHON-ASSIGNMENT/blob/main/Dictionary_assignment.ipynb\" target=\"_parent\"><img src=\"https://colab.research.google.com/assets/colab-badge.svg\" alt=\"Open In Colab\"/></a>"
      ]
    },
    {
      "cell_type": "code",
      "execution_count": 4,
      "id": "33c835ab",
      "metadata": {
        "colab": {
          "base_uri": "https://localhost:8080/",
          "height": 0
        },
        "id": "33c835ab",
        "outputId": "26a11026-4883-4621-e919-5e2e22288d42"
      },
      "outputs": [
        {
          "output_type": "stream",
          "name": "stdout",
          "text": [
            "Enter name of student 1: d\n",
            "Enter marks of d: 25\n",
            "Enter name of student 2: f\n",
            "Enter marks of f: 23\n",
            "Enter name of student 3: g\n",
            "Enter marks of g: 21\n",
            "Enter name of student 4: h\n",
            "Enter marks of h: 54\n",
            "Enter name of student 5: j\n",
            "Enter marks of j: 24\n",
            "\n",
            "Student Marks Dictionary:\n",
            "{'d': 25, 'f': 23, 'g': 21, 'h': 54, 'j': 24}\n"
          ]
        }
      ],
      "source": [
        "# Ask user to give name and marks of 5 different students. Store them in dictionary.\n",
        "\n",
        "#ans:\n",
        "\n",
        "# Create an empty dictionary to store student data\n",
        "students = {}\n",
        "\n",
        "# Loop 5 times to take input\n",
        "for i in range(5):\n",
        "    name = input(f\"Enter name of student {i+1}: \")\n",
        "    marks = int(input(f\"Enter marks of {name}: \"))\n",
        "    students[name] = marks  # Store name as key and marks as value\n",
        "\n",
        "# Print the dictionary\n",
        "print(\"\\nStudent Marks Dictionary:\")\n",
        "print(students)\n"
      ]
    },
    {
      "cell_type": "code",
      "execution_count": 9,
      "id": "3ba8f842",
      "metadata": {
        "colab": {
          "base_uri": "https://localhost:8080/",
          "height": 0
        },
        "id": "3ba8f842",
        "outputId": "daff7178-221e-4298-e6ec-83013483e3c0"
      },
      "outputs": [
        {
          "output_type": "execute_result",
          "data": {
            "text/plain": [
              "{'g': 21, 'f': 23, 'j': 24, 'd': 25, 'h': 54}"
            ]
          },
          "metadata": {},
          "execution_count": 9
        }
      ],
      "source": [
        "# Sort the dictionary created in previous example according to marks.\n",
        "\n",
        "#ans\n",
        "# Sort the dictionary by marks (values)\n",
        "sorted_students = dict(sorted(students.items(), key=lambda item: item[1]))\n",
        "sorted_students"
      ]
    },
    {
      "cell_type": "code",
      "source": [
        "# Use dictionary to store antonyms of words. E.g.- 'Right':'Left', 'Up':'Down', etc.\n",
        "# Display all words and then ask user to enter a word and display antonym of it.\n",
        "\n",
        "#ans\n",
        "\n",
        "# Create a dictionary of antonyms\n",
        "antonyms = {\n",
        "    'Right': 'Left',\n",
        "    'Up': 'Down',\n",
        "    'Hot': 'Cold',\n",
        "    'Big': 'Small',\n",
        "    'Fast': 'Slow',\n",
        "    'Day': 'Night',\n",
        "    'Happy': 'Sad',\n",
        "    'In': 'Out',\n",
        "    'True': 'False',\n",
        "    'Start': 'End'\n",
        "}\n",
        "\n",
        "# Display all words\n",
        "print(\"Available words:\")\n",
        "for word in antonyms.keys():\n",
        "    print(word)\n",
        "\n",
        "# Ask user for a word\n",
        "user_word = input(\"\\nEnter a word to find its antonym: \").capitalize()\n",
        "\n",
        "# Display the antonym if it exists\n",
        "if user_word in antonyms:\n",
        "    print(f\"The antonym of '{user_word}' is '{antonyms[user_word]}'.\")\n",
        "\n",
        "else:\n",
        "    print(\"Sorry, that word is not in the dictionary.\")\n",
        "\n"
      ],
      "metadata": {
        "colab": {
          "base_uri": "https://localhost:8080/",
          "height": 0
        },
        "id": "XpRvG0oz-UEk",
        "outputId": "6f102997-ea37-45fb-dec3-32134a0a7f08"
      },
      "id": "XpRvG0oz-UEk",
      "execution_count": 10,
      "outputs": [
        {
          "output_type": "stream",
          "name": "stdout",
          "text": [
            "Available words:\n",
            "Right\n",
            "Up\n",
            "Hot\n",
            "Big\n",
            "Fast\n",
            "Day\n",
            "Happy\n",
            "In\n",
            "True\n",
            "Start\n",
            "\n",
            "Enter a word to find its antonym: right\n",
            "The antonym of 'Right' is 'Left'.\n"
          ]
        }
      ]
    },
    {
      "cell_type": "code",
      "execution_count": 15,
      "id": "fe98d9b6",
      "metadata": {
        "colab": {
          "base_uri": "https://localhost:8080/",
          "height": 0
        },
        "id": "fe98d9b6",
        "outputId": "df2e8594-aecc-442b-9394-b581f4a7201f"
      },
      "outputs": [
        {
          "output_type": "stream",
          "name": "stdout",
          "text": [
            "Letter count in 'MISSISSIPPI':\n",
            "{'M': 1, 'I': 4, 'S': 4, 'P': 2}\n",
            "\n",
            "simpler version using counter\n",
            "Counter({'I': 4, 'S': 4, 'P': 2, 'M': 1})\n"
          ]
        }
      ],
      "source": [
        "# Count the number of occurrence of each letter in word \"MISSISSIPPI\".\n",
        "# Store count of every letter with the letter in a dictionary.\n",
        "\n",
        "#ans\n",
        "\n",
        "word = \"MISSISSIPPI\"\n",
        "\n",
        "# Create an empty dictionary\n",
        "count = {}\n",
        "\n",
        "# Loop through each letter in the word\n",
        "for letter in word:\n",
        "    # If letter already in dictionary, increase count by 1\n",
        "    if letter in count:\n",
        "        count[letter] += 1\n",
        "    # If letter not in dictionary, add it with count 1\n",
        "    else:\n",
        "        count[letter] = 1\n",
        "\n",
        "# Print the result\n",
        "print(\"Letter count in 'MISSISSIPPI':\")\n",
        "print(count)\n",
        "\n",
        "# this method is more simpler and easy\n",
        "print()\n",
        "from collections import Counter\n",
        "print('simpler version using counter')\n",
        "count = Counter(\"MISSISSIPPI\")\n",
        "print(count)\n"
      ]
    },
    {
      "cell_type": "code",
      "execution_count": 16,
      "id": "789c3d27",
      "metadata": {
        "colab": {
          "base_uri": "https://localhost:8080/",
          "height": 0
        },
        "id": "789c3d27",
        "outputId": "6146f6d5-7a18-4a1e-a53e-d0e59440d44c"
      },
      "outputs": [
        {
          "output_type": "execute_result",
          "data": {
            "text/plain": [
              "{'M': 1, 'P': 2, 'I': 4, 'S': 4}"
            ]
          },
          "metadata": {},
          "execution_count": 16
        }
      ],
      "source": [
        "# From the previous question, sort according to the number of letters.\n",
        "\n",
        "#ans\n",
        "# Sort the dictionary by marks (values)\n",
        "sorted_letter = dict(sorted(count.items(), key=lambda item: item[1]))\n",
        "sorted_letter"
      ]
    },
    {
      "cell_type": "markdown",
      "source": [
        "| Expression                                        | What it sorts by         | Result                                     |\n",
        "| ------------------------------------------------- | ------------------------ | ------------------------------------------ |\n",
        "| `sorted(count)`                                   | Keys only                | `['I', 'M', 'P', 'S']`                     |\n",
        "| `sorted(count.items())`                           | Key-value pairs (by key) | `[('I', 4), ('M', 1), ...]`                |\n",
        "| `sorted(count.items(), key=lambda item: item[1])` | ✅ Values                 | `[('M', 1), ('P', 2), ('I', 4), ('S', 4)]` |\n"
      ],
      "metadata": {
        "id": "9aC0WlpD5_Ut"
      },
      "id": "9aC0WlpD5_Ut"
    },
    {
      "cell_type": "code",
      "execution_count": 1,
      "id": "de6c25e6",
      "metadata": {
        "colab": {
          "base_uri": "https://localhost:8080/",
          "height": 0
        },
        "id": "de6c25e6",
        "outputId": "e0b0fb74-b687-4464-c975-aa73fce145c8"
      },
      "outputs": [
        {
          "output_type": "stream",
          "name": "stdout",
          "text": [
            "Enter a word to sort by its occurrence: bug\n",
            "\n",
            "List sorted by occurrences of the word:\n",
            "['bug bun bug bun bug bug', 'buggy bug bug buggy', 'bunny bug', 'no bun']\n"
          ]
        }
      ],
      "source": [
        "# Take a list containg only strings. Now, take a string input from user and rearrange the elements of the list according to the number of occurence of the string taken from user in the elements of the list.\n",
        "# E.g.-LIST : [\"no bun\",\"bug bun bug bun bug bug\",\"bunny bug\",\"buggy bug bug buggy\"]\n",
        "#STRING TAKEN : \"bug\"\n",
        "# OUTPUT LIST:[\"bug bun bug bun bug bug\",\"buggy bug bug buggy\",\"bunny bug\",\"no bun\"]\n",
        "\n",
        "#ans\n",
        "# Given list\n",
        "lst = [\"no bun\", \"bug bun bug bun bug bug\", \"bunny bug\", \"buggy bug bug buggy\"]\n",
        "\n",
        "# Take a string input from user\n",
        "word = input(\"Enter a word to sort by its occurrence: \")\n",
        "\n",
        "# Sort list based on how many times the word appears in each element\n",
        "sorted_list = sorted(lst, key=lambda s: s.count(word), reverse=True)\n",
        "\n",
        "# Print the result\n",
        "print(\"\\nList sorted by occurrences of the word:\")\n",
        "print(sorted_list)\n",
        "\n"
      ]
    },
    {
      "cell_type": "code",
      "source": [
        "data = [(1,4),(2,3),(3,2),(4,1),(2,4)]\n",
        "sorted_data = sorted(data, key=lambda x: x[1])\n",
        "sorted_data"
      ],
      "metadata": {
        "colab": {
          "base_uri": "https://localhost:8080/",
          "height": 0
        },
        "id": "m8nAWwop-Lf3",
        "outputId": "76300718-e551-4ecc-991e-ea9d9c0eb802"
      },
      "id": "m8nAWwop-Lf3",
      "execution_count": 3,
      "outputs": [
        {
          "output_type": "execute_result",
          "data": {
            "text/plain": [
              "[(4, 1), (3, 2), (2, 3), (1, 4), (2, 4)]"
            ]
          },
          "metadata": {},
          "execution_count": 3
        }
      ]
    },
    {
      "cell_type": "code",
      "source": [],
      "metadata": {
        "id": "c7of-J8w62E1"
      },
      "id": "c7of-J8w62E1",
      "execution_count": null,
      "outputs": []
    }
  ],
  "metadata": {
    "kernelspec": {
      "display_name": "Python 3 (ipykernel)",
      "language": "python",
      "name": "python3"
    },
    "language_info": {
      "codemirror_mode": {
        "name": "ipython",
        "version": 3
      },
      "file_extension": ".py",
      "mimetype": "text/x-python",
      "name": "python",
      "nbconvert_exporter": "python",
      "pygments_lexer": "ipython3",
      "version": "3.9.13"
    },
    "colab": {
      "provenance": [],
      "include_colab_link": true
    }
  },
  "nbformat": 4,
  "nbformat_minor": 5
}