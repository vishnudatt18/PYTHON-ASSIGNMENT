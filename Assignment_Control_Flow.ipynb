{
  "cells": [
    {
      "cell_type": "markdown",
      "metadata": {
        "id": "view-in-github",
        "colab_type": "text"
      },
      "source": [
        "<a href=\"https://colab.research.google.com/github/vishnudatt18/PYTHON-ASSIGNMENT/blob/main/Assignment_Control_Flow.ipynb\" target=\"_parent\"><img src=\"https://colab.research.google.com/assets/colab-badge.svg\" alt=\"Open In Colab\"/></a>"
      ]
    },
    {
      "cell_type": "markdown",
      "metadata": {
        "id": "nwa3rJib8V4m"
      },
      "source": [
        "---\n",
        "---\n",
        "\n",
        "<center><h1>📍 📍 Assignment: Control Flow 📍 📍</h1></center>\n",
        "\n",
        "---\n",
        "\n",
        "***Take 3 inputs from the user***\n",
        "\n",
        " -  **What is your Age?**    (Answer will be an Intger value)\n",
        " -  **Do you eat Pizza?**    (Yes/No)\n",
        " -  **Do you do exercise?**  (Yes/No)\n",
        "\n",
        "#### `Write the if else condition for the given flow chart.`\n",
        "\n",
        "![](image/control-flow.png)"
      ]
    },
    {
      "cell_type": "code",
      "execution_count": null,
      "metadata": {
        "colab": {
          "base_uri": "https://localhost:8080/"
        },
        "id": "hieb1FXs8V4p",
        "outputId": "f792683c-573f-4d26-dabb-d9cd62373e21"
      },
      "outputs": [
        {
          "name": "stdout",
          "output_type": "stream",
          "text": [
            "What is your Age? 25\n"
          ]
        }
      ],
      "source": [
        "# take input from the user: age\n",
        "age = int(input(\"What is your Age? \"))"
      ]
    },
    {
      "cell_type": "code",
      "execution_count": null,
      "metadata": {
        "colab": {
          "base_uri": "https://localhost:8080/"
        },
        "id": "j5qr4Aq_8V4q",
        "outputId": "79be302e-84dd-48ab-e810-9e3161604afc"
      },
      "outputs": [
        {
          "name": "stdout",
          "output_type": "stream",
          "text": [
            "Do you eat Pizza? no\n"
          ]
        }
      ],
      "source": [
        "pizza = input(\"Do you eat Pizza? \")"
      ]
    },
    {
      "cell_type": "code",
      "execution_count": null,
      "metadata": {
        "colab": {
          "base_uri": "https://localhost:8080/"
        },
        "id": "NcnjBv0S8V4q",
        "outputId": "99e27995-2b95-4ceb-c809-3a7c3ff2c82d"
      },
      "outputs": [
        {
          "name": "stdout",
          "output_type": "stream",
          "text": [
            "Do you do exercise? yes\n"
          ]
        }
      ],
      "source": [
        "exercise = input(\"Do you do exercise? \")"
      ]
    },
    {
      "cell_type": "code",
      "execution_count": null,
      "metadata": {
        "colab": {
          "base_uri": "https://localhost:8080/"
        },
        "id": "jCe_DjGe8V4r",
        "outputId": "5ffd4373-306d-46d6-f62a-4953944f61a0"
      },
      "outputs": [
        {
          "output_type": "stream",
          "name": "stdout",
          "text": [
            "You are fit!!\n"
          ]
        }
      ],
      "source": [
        "if age < 30:\n",
        "    # check for the pizza condition\n",
        "    # If under 30, check for the pizza condition.\n",
        "    if (pizza.lower() == 'no'):\n",
        "        print(\"You are fit!!\")\n",
        "    else:\n",
        "        print(\"You are unfit!!\")\n",
        "\n",
        "\n",
        "else:\n",
        "    # check for the exercise condition\n",
        "    # If 30 or over, check for the exercise condition.\n",
        "    if exercise.lower() == 'yes':\n",
        "        print(\"You are fit!!\")\n",
        "    else:\n",
        "        print(\"You are unfit!!\")\n",
        "\n",
        "\n"
      ]
    },
    {
      "cell_type": "code",
      "source": [
        "age = int(input(\"What is your Age? (Integer value): \"))\n",
        "\n",
        "pizza = input(\"Do you eat Pizza? (Yes/No): \")\n",
        "\n",
        "exercise = input(\"Do you do exercise? (Yes/No): \")\n",
        "if age < 30:\n",
        "    # check for the pizza condition\n",
        "    # If under 30, check for the pizza condition.\n",
        "    if (pizza.lower() == 'no'):\n",
        "        print(\"You are fit!!\")\n",
        "    else:\n",
        "        print(\"You are unfit!!\")\n",
        "\n",
        "\n",
        "else:\n",
        "    # If 30 or over, check for the exercise condition.\n",
        "    if exercise.lower() == 'yes':\n",
        "        print(\"You are fit!!\")\n",
        "    else:\n",
        "        print(\"You are unfit!!\")"
      ],
      "metadata": {
        "colab": {
          "base_uri": "https://localhost:8080/"
        },
        "id": "2SEa5a1sAWKw",
        "outputId": "1b508b6b-9a40-4a66-cab6-9fd0018be9be"
      },
      "execution_count": null,
      "outputs": [
        {
          "output_type": "stream",
          "name": "stdout",
          "text": [
            "What is your Age? (Integer value): 55\n",
            "Do you eat Pizza? (Yes/No): no\n",
            "Do you do exercise? (Yes/No): no\n",
            "You are unfit!!\n"
          ]
        }
      ]
    },
    {
      "cell_type": "code",
      "source": [
        "# Taking inputs\n",
        "age = int(input(\"What is your Age? \"))\n",
        "eat_pizza = input(\"Do you eat Pizza? (Yes/No): \").strip().lower()\n",
        "exercise = input(\"Do you do exercise? (Yes/No): \").strip().lower()\n",
        "\n",
        "# Flowchart logic\n",
        "if age < 30:\n",
        "    if eat_pizza == \"yes\":\n",
        "        print(\"UNFIT\")\n",
        "    else:\n",
        "        print(\"FIT\")\n",
        "else:  # age >= 30\n",
        "    if exercise == \"yes\":\n",
        "        print(\"FIT\")\n",
        "    else:\n",
        "        print(\"UNFIT\")\n"
      ],
      "metadata": {
        "id": "lfBC1cPL-l4N",
        "colab": {
          "base_uri": "https://localhost:8080/"
        },
        "outputId": "900056b8-4c47-4752-c524-18835ad12e48"
      },
      "execution_count": null,
      "outputs": [
        {
          "output_type": "stream",
          "name": "stdout",
          "text": [
            "What is your Age? 25\n",
            "Do you eat Pizza? (Yes/No): yes\n",
            "Do you do exercise? (Yes/No): no\n",
            "UNFIT\n"
          ]
        }
      ]
    },
    {
      "cell_type": "code",
      "source": [],
      "metadata": {
        "id": "gLWUFlDbTbNW"
      },
      "execution_count": null,
      "outputs": []
    }
  ],
  "metadata": {
    "kernelspec": {
      "display_name": "Python 3 (ipykernel)",
      "language": "python",
      "name": "python3"
    },
    "language_info": {
      "codemirror_mode": {
        "name": "ipython",
        "version": 3
      },
      "file_extension": ".py",
      "mimetype": "text/x-python",
      "name": "python",
      "nbconvert_exporter": "python",
      "pygments_lexer": "ipython3",
      "version": "3.9.13"
    },
    "colab": {
      "provenance": [],
      "include_colab_link": true
    }
  },
  "nbformat": 4,
  "nbformat_minor": 0
}